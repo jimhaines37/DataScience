{
  "cells": [
    {
      "cell_type": "markdown",
      "metadata": {
        "id": "view-in-github",
        "colab_type": "text"
      },
      "source": [
        "<a href=\"https://colab.research.google.com/github/jimhaines37/DataScience/blob/main/_demos/Demo-03.ipynb\" target=\"_parent\"><img src=\"https://colab.research.google.com/assets/colab-badge.svg\" alt=\"Open In Colab\"/></a>"
      ]
    },
    {
      "cell_type": "markdown",
      "source": [
        "# Demo 03: Basic Summary Stats\n",
        "\n",
        "In this demo we'll go over how to do basic summary stats in Pandas. This will help us do more Exploratory Data Analysis (EDA) on our data"
      ],
      "metadata": {
        "id": "ihgPK7LWrOG8"
      }
    },
    {
      "cell_type": "code",
      "execution_count": null,
      "metadata": {
        "id": "WdlGyrgPlV4Q",
        "colab": {
          "base_uri": "https://localhost:8080/"
        },
        "outputId": "d7daf32f-fd0c-49cc-f34f-4826de6c2298"
      },
      "outputs": [
        {
          "output_type": "stream",
          "name": "stdout",
          "text": [
            "Mounted at /content/drive\n",
            "/content/drive/My Drive/cmps3160\n",
            "Already up to date.\n",
            "/content/drive/My Drive/cmps3160/_demos\n"
          ]
        }
      ],
      "source": [
        "# first, mount your google drive, change to the course folder, pull latest changes, and change to the lab folder.\n",
        "# Startup Magic to: (1) Mount Google Drive\n",
        "# (2) Change to Course Folder\n",
        "# (3) Pull latest Changes\n",
        "# (4) Move to the Demo Directory so that the data files are available\n",
        "\n",
        "from google.colab import drive\n",
        "drive.mount('/content/drive')\n",
        "%cd /content/drive/My Drive/cmps3160\n",
        "!git pull\n",
        "%cd _demos"
      ]
    },
    {
      "cell_type": "markdown",
      "metadata": {
        "id": "EQGlYUjylUV0"
      },
      "source": [
        "The cell below loads up a few libraries and does some initialization.  In this notebook we'll do a few basic data manipulations and see the Pandas formatting for the first time and make some simple graphs.\n"
      ]
    },
    {
      "cell_type": "code",
      "execution_count": null,
      "metadata": {
        "id": "ryXT939elUV4",
        "colab": {
          "base_uri": "https://localhost:8080/",
          "height": 17
        },
        "outputId": "29759223-6c52-4a79-fbb0-578780daebd2"
      },
      "outputs": [
        {
          "output_type": "display_data",
          "data": {
            "text/plain": [
              "<IPython.core.display.HTML object>"
            ],
            "text/html": [
              "<style>.container { width:95% !important; }</style>"
            ]
          },
          "metadata": {}
        }
      ],
      "source": [
        "### Standard Magic and startup initializers.\n",
        "\n",
        "# Load Numpy\n",
        "import numpy as np\n",
        "# Load MatPlotLib\n",
        "import matplotlib\n",
        "import matplotlib.pyplot as plt\n",
        "# Load Pandas\n",
        "import pandas as pd\n",
        "\n",
        "# This lets us show plots inline and also save PDF plots if we want them. \n",
        "# This is not strictly necessary if you are working in CoLab but if you\n",
        "# run this on a local install these packages help.\n",
        "%matplotlib inline\n",
        "from matplotlib.backends.backend_pdf import PdfPages\n",
        "matplotlib.style.use('fivethirtyeight')\n",
        "# Seaborn is a plotting package for Pandas that we'll try out...\n",
        "import seaborn as sns\n",
        "\n",
        "# Make the fonts a little bigger in our graphs.\n",
        "font = {'size'   : 20}\n",
        "matplotlib.rc('font', **font)\n",
        "matplotlib.rcParams['mathtext.fontset'] = 'cm'\n",
        "matplotlib.rcParams['pdf.fonttype'] = 42\n",
        "\n",
        "# These two things are for Pandas, it widens the notebook and lets us display data easily.\n",
        "# Again these have no effect on CoLab but are useful for if you are working on Anaconda\n",
        "# or docker on your own machine.\n",
        "from IPython.core.display import display, HTML\n",
        "display(HTML(\"<style>.container { width:95% !important; }</style>\"))"
      ]
    },
    {
      "cell_type": "markdown",
      "metadata": {
        "id": "06EqHCQElUV5"
      },
      "source": [
        "## Working with some real data and Pandas!\n",
        "\n",
        "Opening and reading CSV files is very easy with Pandas [Read CSV Documentation](https://pandas.pydata.org/pandas-docs/stable/reference/api/pandas.read_csv.html)\n",
        "\n",
        "In general the [Pandas Documentation](https://pandas.pydata.org/docs/) is very good and you should spend some time getting to know it. You can also use the cheatsheets that we have posted on the [course webpage](https://nmattei.github.io/cmps3160/).\n",
        "\n",
        "Last class we only worked with the salaries dataset, this time let's work with some more data including stats!"
      ]
    },
    {
      "cell_type": "code",
      "execution_count": null,
      "metadata": {
        "id": "RbTTqwVnlUV6",
        "colab": {
          "base_uri": "https://localhost:8080/",
          "height": 235
        },
        "outputId": "bd6a7894-645f-47d8-8f30-579bcc6d816d"
      },
      "outputs": [
        {
          "output_type": "execute_result",
          "data": {
            "text/plain": [
              "   Season            Name     Salary Pos  Age   Tm   G  GS    MP   FG  ...  \\\n",
              "0    1995      A.C. Green  6473000.0  SF   31  PHO  82  52  2687  311  ...   \n",
              "1    1995     Aaron McKie   845000.0  SG   22  POR  45  20   827  116  ...   \n",
              "2    1995   Aaron Swinson        NaN  SF   24  PHO   9   0    51   10  ...   \n",
              "3    1995  Aaron Williams        NaN  PF   23  MIL  15   0    72    8  ...   \n",
              "4    1995       Acie Earl  1040000.0   C   24  BOS  30   3   208   26  ...   \n",
              "\n",
              "     FT%  ORB  DRB  TRB  AST  STL  BLK  TOV   PF  PTS  \n",
              "0  0.732  194  475  669  127   55   31  114  146  916  \n",
              "1  0.685   35   94  129   89   36   16   39   97  293  \n",
              "2  0.800    3    5    8    3    1    0    5    8   24  \n",
              "3  0.667    5   14   19    0    2    6    7   14   24  \n",
              "4  0.483   19   26   45    2    6    8   14   39   66  \n",
              "\n",
              "[5 rows x 30 columns]"
            ],
            "text/html": [
              "\n",
              "  <div id=\"df-10440deb-af37-4e23-9406-7306ede3ef0e\">\n",
              "    <div class=\"colab-df-container\">\n",
              "      <div>\n",
              "<style scoped>\n",
              "    .dataframe tbody tr th:only-of-type {\n",
              "        vertical-align: middle;\n",
              "    }\n",
              "\n",
              "    .dataframe tbody tr th {\n",
              "        vertical-align: top;\n",
              "    }\n",
              "\n",
              "    .dataframe thead th {\n",
              "        text-align: right;\n",
              "    }\n",
              "</style>\n",
              "<table border=\"1\" class=\"dataframe\">\n",
              "  <thead>\n",
              "    <tr style=\"text-align: right;\">\n",
              "      <th></th>\n",
              "      <th>Season</th>\n",
              "      <th>Name</th>\n",
              "      <th>Salary</th>\n",
              "      <th>Pos</th>\n",
              "      <th>Age</th>\n",
              "      <th>Tm</th>\n",
              "      <th>G</th>\n",
              "      <th>GS</th>\n",
              "      <th>MP</th>\n",
              "      <th>FG</th>\n",
              "      <th>...</th>\n",
              "      <th>FT%</th>\n",
              "      <th>ORB</th>\n",
              "      <th>DRB</th>\n",
              "      <th>TRB</th>\n",
              "      <th>AST</th>\n",
              "      <th>STL</th>\n",
              "      <th>BLK</th>\n",
              "      <th>TOV</th>\n",
              "      <th>PF</th>\n",
              "      <th>PTS</th>\n",
              "    </tr>\n",
              "  </thead>\n",
              "  <tbody>\n",
              "    <tr>\n",
              "      <th>0</th>\n",
              "      <td>1995</td>\n",
              "      <td>A.C. Green</td>\n",
              "      <td>6473000.0</td>\n",
              "      <td>SF</td>\n",
              "      <td>31</td>\n",
              "      <td>PHO</td>\n",
              "      <td>82</td>\n",
              "      <td>52</td>\n",
              "      <td>2687</td>\n",
              "      <td>311</td>\n",
              "      <td>...</td>\n",
              "      <td>0.732</td>\n",
              "      <td>194</td>\n",
              "      <td>475</td>\n",
              "      <td>669</td>\n",
              "      <td>127</td>\n",
              "      <td>55</td>\n",
              "      <td>31</td>\n",
              "      <td>114</td>\n",
              "      <td>146</td>\n",
              "      <td>916</td>\n",
              "    </tr>\n",
              "    <tr>\n",
              "      <th>1</th>\n",
              "      <td>1995</td>\n",
              "      <td>Aaron McKie</td>\n",
              "      <td>845000.0</td>\n",
              "      <td>SG</td>\n",
              "      <td>22</td>\n",
              "      <td>POR</td>\n",
              "      <td>45</td>\n",
              "      <td>20</td>\n",
              "      <td>827</td>\n",
              "      <td>116</td>\n",
              "      <td>...</td>\n",
              "      <td>0.685</td>\n",
              "      <td>35</td>\n",
              "      <td>94</td>\n",
              "      <td>129</td>\n",
              "      <td>89</td>\n",
              "      <td>36</td>\n",
              "      <td>16</td>\n",
              "      <td>39</td>\n",
              "      <td>97</td>\n",
              "      <td>293</td>\n",
              "    </tr>\n",
              "    <tr>\n",
              "      <th>2</th>\n",
              "      <td>1995</td>\n",
              "      <td>Aaron Swinson</td>\n",
              "      <td>NaN</td>\n",
              "      <td>SF</td>\n",
              "      <td>24</td>\n",
              "      <td>PHO</td>\n",
              "      <td>9</td>\n",
              "      <td>0</td>\n",
              "      <td>51</td>\n",
              "      <td>10</td>\n",
              "      <td>...</td>\n",
              "      <td>0.800</td>\n",
              "      <td>3</td>\n",
              "      <td>5</td>\n",
              "      <td>8</td>\n",
              "      <td>3</td>\n",
              "      <td>1</td>\n",
              "      <td>0</td>\n",
              "      <td>5</td>\n",
              "      <td>8</td>\n",
              "      <td>24</td>\n",
              "    </tr>\n",
              "    <tr>\n",
              "      <th>3</th>\n",
              "      <td>1995</td>\n",
              "      <td>Aaron Williams</td>\n",
              "      <td>NaN</td>\n",
              "      <td>PF</td>\n",
              "      <td>23</td>\n",
              "      <td>MIL</td>\n",
              "      <td>15</td>\n",
              "      <td>0</td>\n",
              "      <td>72</td>\n",
              "      <td>8</td>\n",
              "      <td>...</td>\n",
              "      <td>0.667</td>\n",
              "      <td>5</td>\n",
              "      <td>14</td>\n",
              "      <td>19</td>\n",
              "      <td>0</td>\n",
              "      <td>2</td>\n",
              "      <td>6</td>\n",
              "      <td>7</td>\n",
              "      <td>14</td>\n",
              "      <td>24</td>\n",
              "    </tr>\n",
              "    <tr>\n",
              "      <th>4</th>\n",
              "      <td>1995</td>\n",
              "      <td>Acie Earl</td>\n",
              "      <td>1040000.0</td>\n",
              "      <td>C</td>\n",
              "      <td>24</td>\n",
              "      <td>BOS</td>\n",
              "      <td>30</td>\n",
              "      <td>3</td>\n",
              "      <td>208</td>\n",
              "      <td>26</td>\n",
              "      <td>...</td>\n",
              "      <td>0.483</td>\n",
              "      <td>19</td>\n",
              "      <td>26</td>\n",
              "      <td>45</td>\n",
              "      <td>2</td>\n",
              "      <td>6</td>\n",
              "      <td>8</td>\n",
              "      <td>14</td>\n",
              "      <td>39</td>\n",
              "      <td>66</td>\n",
              "    </tr>\n",
              "  </tbody>\n",
              "</table>\n",
              "<p>5 rows × 30 columns</p>\n",
              "</div>\n",
              "      <button class=\"colab-df-convert\" onclick=\"convertToInteractive('df-10440deb-af37-4e23-9406-7306ede3ef0e')\"\n",
              "              title=\"Convert this dataframe to an interactive table.\"\n",
              "              style=\"display:none;\">\n",
              "        \n",
              "  <svg xmlns=\"http://www.w3.org/2000/svg\" height=\"24px\"viewBox=\"0 0 24 24\"\n",
              "       width=\"24px\">\n",
              "    <path d=\"M0 0h24v24H0V0z\" fill=\"none\"/>\n",
              "    <path d=\"M18.56 5.44l.94 2.06.94-2.06 2.06-.94-2.06-.94-.94-2.06-.94 2.06-2.06.94zm-11 1L8.5 8.5l.94-2.06 2.06-.94-2.06-.94L8.5 2.5l-.94 2.06-2.06.94zm10 10l.94 2.06.94-2.06 2.06-.94-2.06-.94-.94-2.06-.94 2.06-2.06.94z\"/><path d=\"M17.41 7.96l-1.37-1.37c-.4-.4-.92-.59-1.43-.59-.52 0-1.04.2-1.43.59L10.3 9.45l-7.72 7.72c-.78.78-.78 2.05 0 2.83L4 21.41c.39.39.9.59 1.41.59.51 0 1.02-.2 1.41-.59l7.78-7.78 2.81-2.81c.8-.78.8-2.07 0-2.86zM5.41 20L4 18.59l7.72-7.72 1.47 1.35L5.41 20z\"/>\n",
              "  </svg>\n",
              "      </button>\n",
              "      \n",
              "  <style>\n",
              "    .colab-df-container {\n",
              "      display:flex;\n",
              "      flex-wrap:wrap;\n",
              "      gap: 12px;\n",
              "    }\n",
              "\n",
              "    .colab-df-convert {\n",
              "      background-color: #E8F0FE;\n",
              "      border: none;\n",
              "      border-radius: 50%;\n",
              "      cursor: pointer;\n",
              "      display: none;\n",
              "      fill: #1967D2;\n",
              "      height: 32px;\n",
              "      padding: 0 0 0 0;\n",
              "      width: 32px;\n",
              "    }\n",
              "\n",
              "    .colab-df-convert:hover {\n",
              "      background-color: #E2EBFA;\n",
              "      box-shadow: 0px 1px 2px rgba(60, 64, 67, 0.3), 0px 1px 3px 1px rgba(60, 64, 67, 0.15);\n",
              "      fill: #174EA6;\n",
              "    }\n",
              "\n",
              "    [theme=dark] .colab-df-convert {\n",
              "      background-color: #3B4455;\n",
              "      fill: #D2E3FC;\n",
              "    }\n",
              "\n",
              "    [theme=dark] .colab-df-convert:hover {\n",
              "      background-color: #434B5C;\n",
              "      box-shadow: 0px 1px 3px 1px rgba(0, 0, 0, 0.15);\n",
              "      filter: drop-shadow(0px 1px 2px rgba(0, 0, 0, 0.3));\n",
              "      fill: #FFFFFF;\n",
              "    }\n",
              "  </style>\n",
              "\n",
              "      <script>\n",
              "        const buttonEl =\n",
              "          document.querySelector('#df-10440deb-af37-4e23-9406-7306ede3ef0e button.colab-df-convert');\n",
              "        buttonEl.style.display =\n",
              "          google.colab.kernel.accessAllowed ? 'block' : 'none';\n",
              "\n",
              "        async function convertToInteractive(key) {\n",
              "          const element = document.querySelector('#df-10440deb-af37-4e23-9406-7306ede3ef0e');\n",
              "          const dataTable =\n",
              "            await google.colab.kernel.invokeFunction('convertToInteractive',\n",
              "                                                     [key], {});\n",
              "          if (!dataTable) return;\n",
              "\n",
              "          const docLinkHtml = 'Like what you see? Visit the ' +\n",
              "            '<a target=\"_blank\" href=https://colab.research.google.com/notebooks/data_table.ipynb>data table notebook</a>'\n",
              "            + ' to learn more about interactive tables.';\n",
              "          element.innerHTML = '';\n",
              "          dataTable['output_type'] = 'display_data';\n",
              "          await google.colab.output.renderOutput(dataTable, element);\n",
              "          const docLink = document.createElement('div');\n",
              "          docLink.innerHTML = docLinkHtml;\n",
              "          element.appendChild(docLink);\n",
              "        }\n",
              "      </script>\n",
              "    </div>\n",
              "  </div>\n",
              "  "
            ]
          },
          "metadata": {},
          "execution_count": 3
        }
      ],
      "source": [
        "# Open the NBA Salaries file.\n",
        "\n",
        "df_nba = pd.read_csv(\"./data/nba_stats.csv\")\n",
        "df_nba.head()"
      ]
    },
    {
      "cell_type": "markdown",
      "source": [
        "This dataset has so much to look at! For example.. we can see what the league average salary in a given year is"
      ],
      "metadata": {
        "id": "ctiEqge3sytQ"
      }
    },
    {
      "cell_type": "code",
      "execution_count": null,
      "metadata": {
        "id": "xgNShWrRlUV6",
        "colab": {
          "base_uri": "https://localhost:8080/"
        },
        "outputId": "8b058489-2738-4c8a-9d4b-4b299ad2e92d"
      },
      "outputs": [
        {
          "output_type": "execute_result",
          "data": {
            "text/plain": [
              "1571    5125088.0\n",
              "1572    1430000.0\n",
              "1573    1430000.0\n",
              "1574    1430000.0\n",
              "1575     575000.0\n",
              "          ...    \n",
              "2113    1657000.0\n",
              "2114          NaN\n",
              "2115          NaN\n",
              "2116          NaN\n",
              "2117          NaN\n",
              "Name: Salary, Length: 547, dtype: float64"
            ]
          },
          "metadata": {},
          "execution_count": 4
        }
      ],
      "source": [
        "# Display gives us a basic table.  Note that we can index and slice this in many different ways.\n",
        "df_nba[(df_nba[\"Season\"] == 1998)][\"Salary\"]"
      ]
    },
    {
      "cell_type": "code",
      "execution_count": null,
      "metadata": {
        "id": "QEXzRTbynH9f",
        "colab": {
          "base_uri": "https://localhost:8080/"
        },
        "outputId": "e4918e8d-0f68-4257-909e-9ca24fd527a0"
      },
      "outputs": [
        {
          "output_type": "execute_result",
          "data": {
            "text/plain": [
              "pandas.core.series.Series"
            ]
          },
          "metadata": {},
          "execution_count": 5
        }
      ],
      "source": [
        "# What is the type of the above? What do we want?\n",
        "type(df_nba[(df_nba[\"Season\"] == 1998)][\"Salary\"])"
      ]
    },
    {
      "cell_type": "code",
      "source": [
        "# What if we want the mean?\n",
        "df_nba[(df_nba[\"Season\"] == 1998)][\"Salary\"].mean()"
      ],
      "metadata": {
        "id": "XSA7jIeN0t44",
        "colab": {
          "base_uri": "https://localhost:8080/"
        },
        "outputId": "a1fc52c0-9682-4868-a132-f94d8ad67c14"
      },
      "execution_count": null,
      "outputs": [
        {
          "output_type": "execute_result",
          "data": {
            "text/plain": [
              "2749682.50867052"
            ]
          },
          "metadata": {},
          "execution_count": 6
        }
      ]
    },
    {
      "cell_type": "code",
      "source": [
        "# Pandas has support for lots of functions, use the autocomplete to see\n",
        "df_nba[(df_nba[\"Season\"] == 1998)][\"Salary\"].describe()"
      ],
      "metadata": {
        "id": "o1GiQYOi0yMo",
        "colab": {
          "base_uri": "https://localhost:8080/"
        },
        "outputId": "795be08a-b33f-417c-852a-f3530e7f6c3a"
      },
      "execution_count": null,
      "outputs": [
        {
          "output_type": "execute_result",
          "data": {
            "text/plain": [
              "count    3.460000e+02\n",
              "mean     2.749683e+06\n",
              "std      2.664120e+06\n",
              "min      2.500000e+05\n",
              "25%      1.000000e+06\n",
              "50%      1.761000e+06\n",
              "75%      3.667250e+06\n",
              "max      1.850000e+07\n",
              "Name: Salary, dtype: float64"
            ]
          },
          "metadata": {},
          "execution_count": 7
        }
      ]
    },
    {
      "cell_type": "code",
      "source": [
        "# Careful, Pandas will let you do things maybe you shouldn't some times...\n",
        "df_nba[(df_nba[\"Season\"] == 1998)].mean()"
      ],
      "metadata": {
        "id": "2V-nAEoU1J-u",
        "colab": {
          "base_uri": "https://localhost:8080/"
        },
        "outputId": "0dfecdc9-dab4-412f-cee0-21ccef256d0d"
      },
      "execution_count": null,
      "outputs": [
        {
          "output_type": "stream",
          "name": "stderr",
          "text": [
            "/usr/local/lib/python3.7/dist-packages/ipykernel_launcher.py:2: FutureWarning: Dropping of nuisance columns in DataFrame reductions (with 'numeric_only=None') is deprecated; in a future version this will raise TypeError.  Select only valid columns before calling the reduction.\n",
            "  \n"
          ]
        },
        {
          "output_type": "execute_result",
          "data": {
            "text/plain": [
              "Season    1.998000e+03\n",
              "Salary    2.749683e+06\n",
              "Age       2.747166e+01\n",
              "G         4.909141e+01\n",
              "GS        2.377331e+01\n",
              "MP        1.164249e+03\n",
              "FG        1.718995e+02\n",
              "FGA       3.834333e+02\n",
              "FG%       4.291875e-01\n",
              "3P        2.140037e+01\n",
              "3PA       6.220475e+01\n",
              "3P%       2.476600e-01\n",
              "2P        1.504991e+02\n",
              "2PA       3.212285e+02\n",
              "2P%       4.466489e-01\n",
              "FT        9.243510e+01\n",
              "FTA       1.253071e+02\n",
              "FT%       7.111505e-01\n",
              "ORB       6.245704e+01\n",
              "DRB       1.358355e+02\n",
              "TRB       1.982925e+02\n",
              "AST       1.067294e+02\n",
              "STL       4.036563e+01\n",
              "BLK       2.395978e+01\n",
              "TOV       7.199269e+01\n",
              "PF        1.078976e+02\n",
              "PTS       4.576344e+02\n",
              "dtype: float64"
            ]
          },
          "metadata": {},
          "execution_count": 8
        }
      ]
    },
    {
      "cell_type": "code",
      "execution_count": null,
      "metadata": {
        "id": "0Z9uHmXiqzSr",
        "colab": {
          "base_uri": "https://localhost:8080/",
          "height": 424
        },
        "outputId": "7b26a311-4790-4c96-84f9-4ae9c1934863"
      },
      "outputs": [
        {
          "output_type": "execute_result",
          "data": {
            "text/plain": [
              "                     Name  TRB  ORB  DRB\n",
              "94            Danny Ainge  109   25   84\n",
              "97          Danny Schayes  208   57  151\n",
              "125    Dominique Wilkins*  401  157  244\n",
              "277         Lester Conner    0    0    0\n",
              "350          Ricky Pierce   64   12   52\n",
              "...                   ...  ...  ...  ...\n",
              "12571         Kyle Korver  187    8  179\n",
              "12572         Kyle Korver   90    1   89\n",
              "12573         Kyle Korver   97    7   90\n",
              "12783          Tony Allen  391  166  225\n",
              "12827       Zach Randolph  598  182  416\n",
              "\n",
              "[265 rows x 4 columns]"
            ],
            "text/html": [
              "\n",
              "  <div id=\"df-73931c7f-e261-4f59-adf6-a6eda1b4e28d\">\n",
              "    <div class=\"colab-df-container\">\n",
              "      <div>\n",
              "<style scoped>\n",
              "    .dataframe tbody tr th:only-of-type {\n",
              "        vertical-align: middle;\n",
              "    }\n",
              "\n",
              "    .dataframe tbody tr th {\n",
              "        vertical-align: top;\n",
              "    }\n",
              "\n",
              "    .dataframe thead th {\n",
              "        text-align: right;\n",
              "    }\n",
              "</style>\n",
              "<table border=\"1\" class=\"dataframe\">\n",
              "  <thead>\n",
              "    <tr style=\"text-align: right;\">\n",
              "      <th></th>\n",
              "      <th>Name</th>\n",
              "      <th>TRB</th>\n",
              "      <th>ORB</th>\n",
              "      <th>DRB</th>\n",
              "    </tr>\n",
              "  </thead>\n",
              "  <tbody>\n",
              "    <tr>\n",
              "      <th>94</th>\n",
              "      <td>Danny Ainge</td>\n",
              "      <td>109</td>\n",
              "      <td>25</td>\n",
              "      <td>84</td>\n",
              "    </tr>\n",
              "    <tr>\n",
              "      <th>97</th>\n",
              "      <td>Danny Schayes</td>\n",
              "      <td>208</td>\n",
              "      <td>57</td>\n",
              "      <td>151</td>\n",
              "    </tr>\n",
              "    <tr>\n",
              "      <th>125</th>\n",
              "      <td>Dominique Wilkins*</td>\n",
              "      <td>401</td>\n",
              "      <td>157</td>\n",
              "      <td>244</td>\n",
              "    </tr>\n",
              "    <tr>\n",
              "      <th>277</th>\n",
              "      <td>Lester Conner</td>\n",
              "      <td>0</td>\n",
              "      <td>0</td>\n",
              "      <td>0</td>\n",
              "    </tr>\n",
              "    <tr>\n",
              "      <th>350</th>\n",
              "      <td>Ricky Pierce</td>\n",
              "      <td>64</td>\n",
              "      <td>12</td>\n",
              "      <td>52</td>\n",
              "    </tr>\n",
              "    <tr>\n",
              "      <th>...</th>\n",
              "      <td>...</td>\n",
              "      <td>...</td>\n",
              "      <td>...</td>\n",
              "      <td>...</td>\n",
              "    </tr>\n",
              "    <tr>\n",
              "      <th>12571</th>\n",
              "      <td>Kyle Korver</td>\n",
              "      <td>187</td>\n",
              "      <td>8</td>\n",
              "      <td>179</td>\n",
              "    </tr>\n",
              "    <tr>\n",
              "      <th>12572</th>\n",
              "      <td>Kyle Korver</td>\n",
              "      <td>90</td>\n",
              "      <td>1</td>\n",
              "      <td>89</td>\n",
              "    </tr>\n",
              "    <tr>\n",
              "      <th>12573</th>\n",
              "      <td>Kyle Korver</td>\n",
              "      <td>97</td>\n",
              "      <td>7</td>\n",
              "      <td>90</td>\n",
              "    </tr>\n",
              "    <tr>\n",
              "      <th>12783</th>\n",
              "      <td>Tony Allen</td>\n",
              "      <td>391</td>\n",
              "      <td>166</td>\n",
              "      <td>225</td>\n",
              "    </tr>\n",
              "    <tr>\n",
              "      <th>12827</th>\n",
              "      <td>Zach Randolph</td>\n",
              "      <td>598</td>\n",
              "      <td>182</td>\n",
              "      <td>416</td>\n",
              "    </tr>\n",
              "  </tbody>\n",
              "</table>\n",
              "<p>265 rows × 4 columns</p>\n",
              "</div>\n",
              "      <button class=\"colab-df-convert\" onclick=\"convertToInteractive('df-73931c7f-e261-4f59-adf6-a6eda1b4e28d')\"\n",
              "              title=\"Convert this dataframe to an interactive table.\"\n",
              "              style=\"display:none;\">\n",
              "        \n",
              "  <svg xmlns=\"http://www.w3.org/2000/svg\" height=\"24px\"viewBox=\"0 0 24 24\"\n",
              "       width=\"24px\">\n",
              "    <path d=\"M0 0h24v24H0V0z\" fill=\"none\"/>\n",
              "    <path d=\"M18.56 5.44l.94 2.06.94-2.06 2.06-.94-2.06-.94-.94-2.06-.94 2.06-2.06.94zm-11 1L8.5 8.5l.94-2.06 2.06-.94-2.06-.94L8.5 2.5l-.94 2.06-2.06.94zm10 10l.94 2.06.94-2.06 2.06-.94-2.06-.94-.94-2.06-.94 2.06-2.06.94z\"/><path d=\"M17.41 7.96l-1.37-1.37c-.4-.4-.92-.59-1.43-.59-.52 0-1.04.2-1.43.59L10.3 9.45l-7.72 7.72c-.78.78-.78 2.05 0 2.83L4 21.41c.39.39.9.59 1.41.59.51 0 1.02-.2 1.41-.59l7.78-7.78 2.81-2.81c.8-.78.8-2.07 0-2.86zM5.41 20L4 18.59l7.72-7.72 1.47 1.35L5.41 20z\"/>\n",
              "  </svg>\n",
              "      </button>\n",
              "      \n",
              "  <style>\n",
              "    .colab-df-container {\n",
              "      display:flex;\n",
              "      flex-wrap:wrap;\n",
              "      gap: 12px;\n",
              "    }\n",
              "\n",
              "    .colab-df-convert {\n",
              "      background-color: #E8F0FE;\n",
              "      border: none;\n",
              "      border-radius: 50%;\n",
              "      cursor: pointer;\n",
              "      display: none;\n",
              "      fill: #1967D2;\n",
              "      height: 32px;\n",
              "      padding: 0 0 0 0;\n",
              "      width: 32px;\n",
              "    }\n",
              "\n",
              "    .colab-df-convert:hover {\n",
              "      background-color: #E2EBFA;\n",
              "      box-shadow: 0px 1px 2px rgba(60, 64, 67, 0.3), 0px 1px 3px 1px rgba(60, 64, 67, 0.15);\n",
              "      fill: #174EA6;\n",
              "    }\n",
              "\n",
              "    [theme=dark] .colab-df-convert {\n",
              "      background-color: #3B4455;\n",
              "      fill: #D2E3FC;\n",
              "    }\n",
              "\n",
              "    [theme=dark] .colab-df-convert:hover {\n",
              "      background-color: #434B5C;\n",
              "      box-shadow: 0px 1px 3px 1px rgba(0, 0, 0, 0.15);\n",
              "      filter: drop-shadow(0px 1px 2px rgba(0, 0, 0, 0.3));\n",
              "      fill: #FFFFFF;\n",
              "    }\n",
              "  </style>\n",
              "\n",
              "      <script>\n",
              "        const buttonEl =\n",
              "          document.querySelector('#df-73931c7f-e261-4f59-adf6-a6eda1b4e28d button.colab-df-convert');\n",
              "        buttonEl.style.display =\n",
              "          google.colab.kernel.accessAllowed ? 'block' : 'none';\n",
              "\n",
              "        async function convertToInteractive(key) {\n",
              "          const element = document.querySelector('#df-73931c7f-e261-4f59-adf6-a6eda1b4e28d');\n",
              "          const dataTable =\n",
              "            await google.colab.kernel.invokeFunction('convertToInteractive',\n",
              "                                                     [key], {});\n",
              "          if (!dataTable) return;\n",
              "\n",
              "          const docLinkHtml = 'Like what you see? Visit the ' +\n",
              "            '<a target=\"_blank\" href=https://colab.research.google.com/notebooks/data_table.ipynb>data table notebook</a>'\n",
              "            + ' to learn more about interactive tables.';\n",
              "          element.innerHTML = '';\n",
              "          dataTable['output_type'] = 'display_data';\n",
              "          await google.colab.output.renderOutput(dataTable, element);\n",
              "          const docLink = document.createElement('div');\n",
              "          docLink.innerHTML = docLinkHtml;\n",
              "          element.appendChild(docLink);\n",
              "        }\n",
              "      </script>\n",
              "    </div>\n",
              "  </div>\n",
              "  "
            ]
          },
          "metadata": {},
          "execution_count": 9
        }
      ],
      "source": [
        "# We can also see just some stats if we want to, check the average rebounds and \n",
        "# salary for 35 year olds.\n",
        "\n",
        "df_nba[(df_nba[\"Age\"] == 35)][[\"Name\", \"TRB\",\"ORB\",\"DRB\"]]"
      ]
    },
    {
      "cell_type": "code",
      "source": [
        "df_nba[(df_nba[\"Age\"] == 35)][[\"TRB\",\"ORB\",\"DRB\"]].mean()"
      ],
      "metadata": {
        "id": "G-n_K7Bi1jjS",
        "colab": {
          "base_uri": "https://localhost:8080/"
        },
        "outputId": "e25f52a0-c9d6-4a98-be84-89a0d2b6f53a"
      },
      "execution_count": null,
      "outputs": [
        {
          "output_type": "execute_result",
          "data": {
            "text/plain": [
              "TRB    185.686792\n",
              "ORB     48.173585\n",
              "DRB    137.513208\n",
              "dtype: float64"
            ]
          },
          "metadata": {},
          "execution_count": 10
        }
      ]
    },
    {
      "cell_type": "code",
      "source": [
        "# We can also make fun histograms\n",
        "df_nba['Age'].hist()"
      ],
      "metadata": {
        "id": "_z-KlGe41yLd",
        "colab": {
          "base_uri": "https://localhost:8080/",
          "height": 304
        },
        "outputId": "b90ce9ea-6fe2-4845-fe80-4cbd89a8b997"
      },
      "execution_count": null,
      "outputs": [
        {
          "output_type": "execute_result",
          "data": {
            "text/plain": [
              "<matplotlib.axes._subplots.AxesSubplot at 0x7f25a63df690>"
            ]
          },
          "metadata": {},
          "execution_count": 11
        },
        {
          "output_type": "display_data",
          "data": {
            "text/plain": [
              "<Figure size 432x288 with 1 Axes>"
            ],
            "image/png": "[encoded data removed]"
          },
          "metadata": {}
        }
      ]
    },
    {
      "cell_type": "code",
      "source": [
        "# But we can slice for Season.. sometimes it's good to have boxplots per year.\n",
        "df_nba[(df_nba[\"Season\"] == 1998)].boxplot(column=[\"Age\",\"Salary\"], showmeans=True)"
      ],
      "metadata": {
        "id": "P4tPqwDR3n1u",
        "colab": {
          "base_uri": "https://localhost:8080/",
          "height": 377
        },
        "outputId": "b28bbd5e-34f6-43b1-f2b0-8f458a511729"
      },
      "execution_count": null,
      "outputs": [
        {
          "output_type": "stream",
          "name": "stderr",
          "text": [
            "/usr/local/lib/python3.7/dist-packages/matplotlib/cbook/__init__.py:1376: VisibleDeprecationWarning: Creating an ndarray from ragged nested sequences (which is a list-or-tuple of lists-or-tuples-or ndarrays with different lengths or shapes) is deprecated. If you meant to do this, you must specify 'dtype=object' when creating the ndarray.\n",
            "  X = np.atleast_1d(X.T if isinstance(X, np.ndarray) else np.asarray(X))\n"
          ]
        },
        {
          "output_type": "execute_result",
          "data": {
            "text/plain": [
              "<matplotlib.axes._subplots.AxesSubplot at 0x7f259f125290>"
            ]
          },
          "metadata": {},
          "execution_count": 62
        },
        {
          "output_type": "display_data",
          "data": {
            "text/plain": [
              "<Figure size 432x288 with 1 Axes>"
            ],
            "image/png": "[encoded data removed]"
          },
          "metadata": {}
        }
      ]
    },
    {
      "cell_type": "code",
      "source": [
        "# These are on very different scales, we'll come back to this! \n",
        "\n",
        "df_nba[(df_nba[\"Season\"] == 1998)].boxplot(column=[\"ORB\",\"DRB\"], showmeans=True)"
      ],
      "metadata": {
        "id": "lAPBacAN39Dh",
        "colab": {
          "base_uri": "https://localhost:8080/",
          "height": 306
        },
        "outputId": "3cb046f5-484e-43bc-8c74-3bc9a2c05817"
      },
      "execution_count": null,
      "outputs": [
        {
          "output_type": "execute_result",
          "data": {
            "text/plain": [
              "<matplotlib.axes._subplots.AxesSubplot at 0x7f25a6285790>"
            ]
          },
          "metadata": {},
          "execution_count": 13
        },
        {
          "output_type": "display_data",
          "data": {
            "text/plain": [
              "<Figure size 432x288 with 1 Axes>"
            ],
            "image/png": "[encoded data removed]"
          },
          "metadata": {}
        }
      ]
    },
    {
      "cell_type": "code",
      "source": [
        "# Very fancy.. though apparently there is a bug in matplotlib? https://github.com/matplotlib/matplotlib/issues/16353\n",
        "df_nba[[\"Season\",\"Salary\"]].boxplot(column=\"Salary\", by=\"Season\", showmeans=True)"
      ],
      "metadata": {
        "id": "FV0SZ57G4D8K",
        "colab": {
          "base_uri": "https://localhost:8080/",
          "height": 397
        },
        "outputId": "efe96e47-89f8-47a3-e348-28ef361e925d"
      },
      "execution_count": null,
      "outputs": [
        {
          "output_type": "stream",
          "name": "stderr",
          "text": [
            "/usr/local/lib/python3.7/dist-packages/matplotlib/cbook/__init__.py:1376: VisibleDeprecationWarning: Creating an ndarray from ragged nested sequences (which is a list-or-tuple of lists-or-tuples-or ndarrays with different lengths or shapes) is deprecated. If you meant to do this, you must specify 'dtype=object' when creating the ndarray.\n",
            "  X = np.atleast_1d(X.T if isinstance(X, np.ndarray) else np.asarray(X))\n"
          ]
        },
        {
          "output_type": "execute_result",
          "data": {
            "text/plain": [
              "<matplotlib.axes._subplots.AxesSubplot at 0x7f2597f0a990>"
            ]
          },
          "metadata": {},
          "execution_count": 63
        },
        {
          "output_type": "display_data",
          "data": {
            "text/plain": [
              "<Figure size 432x288 with 1 Axes>"
            ],
            "image/png": "[encoded data removed]"
          },
          "metadata": {}
        }
      ]
    },
    {
      "cell_type": "code",
      "source": [
        "# how can we make this prettier?\n",
        "df_nba.boxplot?"
      ],
      "metadata": {
        "id": "lYeK6Gi0PWSy"
      },
      "execution_count": null,
      "outputs": []
    },
    {
      "cell_type": "code",
      "source": [
        "df_nba[[\"Season\",\"Salary\"]].dropna().boxplot(column=\"Salary\", by=\"Season\", figsize=(20,9), showmeans=True)\n",
        "plt.xticks(rotation=90)"
      ],
      "metadata": {
        "colab": {
          "base_uri": "https://localhost:8080/",
          "height": 741
        },
        "id": "KTEdcf6MNBiN",
        "outputId": "1960328a-1967-4489-b571-73ad7e70cb84"
      },
      "execution_count": null,
      "outputs": [
        {
          "output_type": "stream",
          "name": "stderr",
          "text": [
            "/usr/local/lib/python3.7/dist-packages/matplotlib/cbook/__init__.py:1376: VisibleDeprecationWarning: Creating an ndarray from ragged nested sequences (which is a list-or-tuple of lists-or-tuples-or ndarrays with different lengths or shapes) is deprecated. If you meant to do this, you must specify 'dtype=object' when creating the ndarray.\n",
            "  X = np.atleast_1d(X.T if isinstance(X, np.ndarray) else np.asarray(X))\n"
          ]
        },
        {
          "output_type": "execute_result",
          "data": {
            "text/plain": [
              "(array([ 1,  2,  3,  4,  5,  6,  7,  8,  9, 10, 11, 12, 13, 14, 15, 16, 17,\n",
              "        18, 19, 20, 21, 22, 23]), <a list of 23 Text major ticklabel objects>)"
            ]
          },
          "metadata": {},
          "execution_count": 43
        },
        {
          "output_type": "display_data",
          "data": {
            "text/plain": [
              "<Figure size 1440x648 with 1 Axes>"
            ],
            "image/png": "[encoded data removed]"
          },
          "metadata": {}
        }
      ]
    },
    {
      "cell_type": "code",
      "source": [
        "salary_1995 = df_nba[df_nba['Season']==1995]['Salary']\n",
        "salary_1996 = df_nba[df_nba['Season']==1996]['Salary']\n",
        "print('average salary in 1995=%.2f and in 1996=%.2f, a difference of %.2f' % (\n",
        "                                                      salary_1995.mean(),\n",
        "                                                      salary_1996.mean(),\n",
        "                                                      salary_1996.mean()-salary_1995.mean()))"
      ],
      "metadata": {
        "colab": {
          "base_uri": "https://localhost:8080/"
        },
        "id": "exgZ7LysSilR",
        "outputId": "2ce32e40-045d-43e7-fc85-4db2aad931d2"
      },
      "execution_count": null,
      "outputs": [
        {
          "output_type": "stream",
          "name": "stdout",
          "text": [
            "average salary in 1995=2012844.24 and in 1996=2169878.44, a difference of 157034.20\n"
          ]
        }
      ]
    },
    {
      "cell_type": "code",
      "source": [
        "def f2c(f):\n",
        "  # Format float value as currency for pretty printing.\n",
        "  return '${0:,.2f}'.format(f)\n",
        "\n",
        "print('average salary in 1995=%s and in 1996=%s, a difference of %s' % (f2c(salary_1995.mean()),\n",
        "                                                                        f2c(salary_1996.mean()),\n",
        "                                                                        f2c(salary_1996.mean()-salary_1995.mean())))"
      ],
      "metadata": {
        "colab": {
          "base_uri": "https://localhost:8080/"
        },
        "id": "E4j__I1TsJRh",
        "outputId": "d9941493-fc53-4423-eebe-8c1de8c9b4e3"
      },
      "execution_count": null,
      "outputs": [
        {
          "output_type": "stream",
          "name": "stdout",
          "text": [
            "average salary in 1995=$2,012,844.24 and in 1996=$2,169,878.44, a difference of $157,034.20\n"
          ]
        }
      ]
    },
    {
      "cell_type": "code",
      "source": [
        "# let's repeat using the median and see the difference...\n",
        "print('average salary in 1995=%s and in 1996=%s, a difference of %s' % (f2c(salary_1995.median()),\n",
        "                                                                        f2c(salary_1996.median()),\n",
        "                                                                        f2c(salary_1996.median()-salary_1995.median())))"
      ],
      "metadata": {
        "colab": {
          "base_uri": "https://localhost:8080/"
        },
        "id": "WcsoCn7wpnK7",
        "outputId": "11518708-176a-4412-914a-bdd03ec9872e"
      },
      "execution_count": null,
      "outputs": [
        {
          "output_type": "stream",
          "name": "stdout",
          "text": [
            "average salary in 1995=$1,613,000.00 and in 1996=$1,450,000.00, a difference of $-163,000.00\n"
          ]
        }
      ]
    },
    {
      "cell_type": "markdown",
      "source": [
        "<br><br><br>\n",
        "\n",
        "Means and medians are handy for politicians...\n",
        "\n",
        "<br>\n",
        "\n",
        "**\"The average American family will get a \\$4,000 tax cut\"** \n",
        "[source](https://americansfortaxfairness.org/promise-will-middle-class-tax-cut/)\n",
        "\n",
        "<img width=800 src=\"https://americansfortaxfairness.org/wp-content/uploads/P2F5-3.png\">"
      ],
      "metadata": {
        "id": "4Dy_1zpquJxd"
      }
    },
    {
      "cell_type": "markdown",
      "source": [
        "<br><br><br>\n",
        "\n",
        "### A mathemetician, engineer, and accountant are interviewing for a job...\n",
        "\n",
        "First question: What is 2+2?\n",
        "\n",
        "**Engineer:** pulls out a slide rule, shuffles it back and forth, and finally announces, “It lies between 3.98 and 4.02”.\n",
        "\n",
        "**Mathemetician:** “In two hours I can demonstrate it equals 4 with the following short proof.”\n",
        "\n",
        "**Accountant:** looks at the business owner, then gets out of his chair, checks to see if anyone is listening at the door and pulls the drapes. Then he returns to the business owner, leans across the desk and says in a low voice, “What would you like it to be?”"
      ],
      "metadata": {
        "id": "3EDpIsGby9LG"
      }
    }
  ],
  "metadata": {
    "colab": {
      "collapsed_sections": [],
      "provenance": [],
      "include_colab_link": true
    },
    "kernelspec": {
      "display_name": "Python 3",
      "language": "python",
      "name": "python3"
    },
    "language_info": {
      "codemirror_mode": {
        "name": "ipython",
        "version": 3
      },
      "file_extension": ".py",
      "mimetype": "text/x-python",
      "name": "python",
      "nbconvert_exporter": "python",
      "pygments_lexer": "ipython3",
      "version": "3.8.3"
    },
    "vscode": {
      "interpreter": {
        "hash": "aee8b7b246df8f9039afb4144a1f6fd8d2ca17a180786b69acc140d282b71a49"
      }
    }
  },
  "nbformat": 4,
  "nbformat_minor": 0
}