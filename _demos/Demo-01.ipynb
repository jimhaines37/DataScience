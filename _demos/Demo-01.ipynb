{
  "cells": [
    {
      "cell_type": "markdown",
      "metadata": {
        "id": "view-in-github",
        "colab_type": "text"
      },
      "source": [
        "<a href=\"https://colab.research.google.com/github/jimhaines37/DataScience/blob/main/_demos/Demo-01.ipynb\" target=\"_parent\"><img src=\"https://colab.research.google.com/assets/colab-badge.svg\" alt=\"Open In Colab\"/></a>"
      ]
    },
    {
      "cell_type": "markdown",
      "source": [
        "# Demo 1: Basics of Notebooks and Pyhton Review!\n",
        "\n",
        "In this demo we will get started with Jupyter Notebooks, Google CoLab, Git, and Python -- the basic ingreediants for our data science course!\n",
        "\n"
      ],
      "metadata": {
        "id": "p7E1oXxBxey8"
      }
    },
    {
      "cell_type": "code",
      "execution_count": null,
      "metadata": {
        "id": "khS3RenA3UJ2"
      },
      "outputs": [],
      "source": [
        "# Magic for showing Google Slides!\n",
        "from IPython.display import IFrame\n",
        "# These two things are for Pandas, it widens the notebook and lets us display data easily.\n",
        "from IPython.core.display import display, HTML\n",
        "display(HTML(\"<style>.container { width:95% !important; }</style>\"))\n",
        "width=1800\n",
        "height=1100"
      ]
    },
    {
      "cell_type": "markdown",
      "metadata": {
        "id": "asPn9bMr3UJ7"
      },
      "source": [
        "Let's start today by going over what notebooks are, and the final project we'll be doing for this course"
      ]
    },
    {
      "cell_type": "code",
      "execution_count": null,
      "metadata": {
        "id": "mwPRGelO3UJ9"
      },
      "outputs": [],
      "source": [
        "IFrame(src='''https://docs.google.com/presentation/d/e/2PACX-1vQeHlnuEX_rEj3bsUvW7e9WYstQFEgXmHAS3yiKK2Sbmvbh5oXZnazvdLMvzlRw8NMGfJL-QwPW8H8-/embed?start=false&loop=false&delayms=3000&slide=id.g146df145938_1_500\" frameborder=\"0\" allowfullscreen=\"true\" mozallowfullscreen=\"true\" webkitallowfullscreen=\"true\"''', \n",
        "        width=width, height=height)"
      ]
    },
    {
      "cell_type": "markdown",
      "metadata": {
        "id": "5i1-Td6O3UJ9"
      },
      "source": [
        "# Welcome to Notebooks!\n",
        "\n",
        "There are a lot of useful keyboard shortcuts you can use -- Check out the Help >> Keyboard Shortcuts menu.."
      ]
    },
    {
      "cell_type": "markdown",
      "metadata": {
        "id": "YLkAV9HE3UJ_"
      },
      "source": [
        "We can designate cells as markdown -- which lets us do some cools stuff...  A few quick and useful things.\n",
        "\n",
        "[Note: Examples Taken from Adam-p Markdown Cheat Sheet](https://github.com/adam-p/markdown-here/wiki/Markdown-Cheatsheet)\n",
        "\n",
        "First let's look at some headings..\n",
        "\n",
        "# H1\n",
        "## H2\n",
        "### H3\n",
        "#### H4\n",
        "##### H5\n",
        "###### H6\n",
        "\n",
        "---\n",
        "\n",
        "We can also section break things...\n"
      ]
    },
    {
      "cell_type": "markdown",
      "metadata": {
        "id": "7RE9tPbG3UKA"
      },
      "source": [
        "## Next is how to add emphsis to some text..\n",
        "\n",
        "Emphasis, aka italics, with *asterisks* or _underscores_.\n",
        "\n",
        "Strong emphasis, aka bold, with **asterisks** or __underscores__.\n",
        "\n",
        "Combined emphasis with **asterisks and _underscores_**.\n",
        "\n",
        "Strikethrough uses two tildes. ~~Scratch this.~~"
      ]
    },
    {
      "cell_type": "markdown",
      "metadata": {
        "id": "wGepUMQn3UKB"
      },
      "source": [
        "## Let's also see how to do lists and alignment...\n",
        "\n",
        "1. First ordered list item\n",
        "2. Another item\n",
        " * Unordered sub-list. \n",
        "1. Actual numbers don't matter, just that it's a number\n",
        " 1. Ordered sub-list\n",
        "4. And another item.\n",
        "\n",
        "   You can have properly indented paragraphs within list items. Notice the blank line above, and the leading spaces (you need three spaces).\n",
        "\n",
        "\n",
        "* Unordered list can use asterisks\n",
        "- Or minuses\n",
        "+ Or pluses\n",
        "* add another element\n",
        "* add another **fancy element**"
      ]
    },
    {
      "cell_type": "markdown",
      "metadata": {
        "id": "FasOWOpV3UKD"
      },
      "source": [
        "## Links are really important ... code blocks...\n",
        "\n",
        "[I'm an inline-style link](https://www.google.com)\n",
        "\n",
        "URLs and URLs in angle brackets will automatically get turned into links. \n",
        "http://www.example.com or <http://www.example.com> and sometimes \n",
        "example.com (but not on Github, for example).\n",
        "\n",
        "Inline `code has backticks` around it.\n",
        "\n",
        "```\n",
        "You can also do blocks of code.\n",
        "```\n",
        "\n",
        "\n",
        "You can also tell markdown what type of code you are using...\n",
        "\n",
        "```javascript\n",
        "var s = \"JavaScript syntax highlighting\";\n",
        "alert(s);\n",
        "```\n",
        " \n",
        "```python\n",
        "s = \"Python syntax highlighting\"\n",
        "print s\n",
        "```\n",
        " \n",
        "```\n",
        "No language indicated, so no syntax highlighting. \n",
        "But let's throw in a <b>tag</b>.\n",
        "```\n"
      ]
    },
    {
      "cell_type": "markdown",
      "metadata": {
        "id": "pksrnses3UKE"
      },
      "source": [
        "## Finally, tables are a bit cumbersome...\n",
        "\n",
        "Markdown | Less | Pretty\n",
        "--- | --- | ---\n",
        "*Still* | `renders` | **nicely**\n",
        "1 | 2 | 3\n",
        "\n",
        "---"
      ]
    },
    {
      "cell_type": "markdown",
      "metadata": {
        "id": "bQ0l0FXU3UKE"
      },
      "source": [
        "Let's go back to the slides and learn a little bit more about Git!"
      ]
    },
    {
      "cell_type": "code",
      "execution_count": null,
      "metadata": {
        "id": "Oe_Ymgsy3UKF"
      },
      "outputs": [],
      "source": [
        "IFrame(src='''https://docs.google.com/presentation/d/e/2PACX-1vQeHlnuEX_rEj3bsUvW7e9WYstQFEgXmHAS3yiKK2Sbmvbh5oXZnazvdLMvzlRw8NMGfJL-QwPW8H8-/embed?start=false&loop=false&delayms=3000&slide=id.g146df145938_1_595\" frameborder=\"0\" allowfullscreen=\"true\" mozallowfullscreen=\"true\" webkitallowfullscreen=\"true\"''', \n",
        "        width=width, height=height)"
      ]
    },
    {
      "cell_type": "markdown",
      "metadata": {
        "id": "excZ4zQB3UKG"
      },
      "source": [
        "# A Little About Directories, Git, Commands, and CoLab\n",
        "\n",
        "\n",
        "What Colab does is create a [virtual machine](https://en.wikipedia.org/wiki/Virtual_machine), which is like a fresh install of an operating system made just for you.\n",
        "\n",
        "This means that in addition to running Python code in this notebook, you can also interact with the command-line as if you were using a terminal to navigate a computer. If you have never used the command-line before, it is worth reading through [this tutorial](https://computers.tutsplus.com/tutorials/navigating-the-terminal-a-gentle-introduction--mac-3855). \n",
        "\n",
        "Notebooks also allow you to run shell commands by preceding the command with a `!`. "
      ]
    },
    {
      "cell_type": "code",
      "execution_count": null,
      "metadata": {
        "id": "vHvxEtFQ3UKG"
      },
      "outputs": [],
      "source": [
        "!pwd"
      ]
    },
    {
      "cell_type": "code",
      "execution_count": null,
      "metadata": {
        "id": "VN9G41vQ3UKH"
      },
      "outputs": [],
      "source": [
        "!ls"
      ]
    },
    {
      "cell_type": "markdown",
      "metadata": {
        "id": "uwRCUBLc3UKH"
      },
      "source": [
        "## Cloneing a git Repo\n",
        "\n",
        "We can create and clone a git repo locally on our machine, but we'll learn more about this later in the course. For now let's clone the class repo into a CoLab notebook!\n",
        "\n",
        "1. Mount your personal Google drive inside this virtual machine so you can write to your drive from this notebook.\n",
        "2. Change the current working directory to the root folder of your Google drive.\n",
        "3. Clone the repository from GitHub into this folder."
      ]
    },
    {
      "cell_type": "code",
      "execution_count": null,
      "metadata": {
        "id": "5jd3m01_3UKH"
      },
      "outputs": [],
      "source": [
        "# Mount our personal google drive. This will pop up a \n",
        "# confirmation screen giving this notebook access to your Google drive.\n",
        "# You will first need a gmail account for this to work.\n",
        "from google.colab import drive\n",
        "drive.mount('/content/drive')"
      ]
    },
    {
      "cell_type": "markdown",
      "metadata": {
        "id": "O_iYzaRj3UKI"
      },
      "source": [
        "You should now see the contents of your Google drive by navigating to the folder icon in the left panel. It is viewable at `/content/drive/MyDrive`.\n",
        "\n",
        "To list the contents of a folder, you can use the `ls` command. This should list the contents of the root folder of your Google drive."
      ]
    },
    {
      "cell_type": "code",
      "execution_count": null,
      "metadata": {
        "id": "HTCUWR123UKI"
      },
      "outputs": [],
      "source": [
        "!ls /content/drive/MyDrive"
      ]
    },
    {
      "cell_type": "markdown",
      "metadata": {
        "id": "n8tFRcl73UKI"
      },
      "source": [
        "To change the current working directory to be the location of your Google drive, we will issue a `cd` command preceded by the `%` symbol. The difference between `!` and `%` is that `%` will actually have a persistent effect on the notebook."
      ]
    },
    {
      "cell_type": "code",
      "execution_count": null,
      "metadata": {
        "id": "0P0kX5jR3UKI"
      },
      "outputs": [],
      "source": [
        "%cd /content/drive/My Drive"
      ]
    },
    {
      "cell_type": "code",
      "execution_count": null,
      "metadata": {
        "id": "b-S7uBvo3UKI"
      },
      "outputs": [],
      "source": [
        "!pwd"
      ]
    },
    {
      "cell_type": "markdown",
      "metadata": {
        "id": "MbfXWZoA3UKI"
      },
      "source": [
        "Our next task is to clone the course repository and store it into our personal Google drive. The course repository is viewable here: <https://github.com/nmattei/cmps3160>."
      ]
    },
    {
      "cell_type": "code",
      "execution_count": null,
      "metadata": {
        "id": "vyPK5M493UKJ"
      },
      "outputs": [],
      "source": [
        "!git clone https://github.com/nmattei/cmps3160.git"
      ]
    },
    {
      "cell_type": "markdown",
      "metadata": {
        "id": "6BfvKdQv3UKJ"
      },
      "source": [
        "You should now be able to list the contents of the new folder `/content/drive/My Drive/cmps3160`, which contains all the course code and data."
      ]
    },
    {
      "cell_type": "code",
      "execution_count": null,
      "metadata": {
        "id": "c2g9E6Zt3UKJ"
      },
      "outputs": [],
      "source": [
        "!ls cmps3160"
      ]
    },
    {
      "cell_type": "markdown",
      "metadata": {
        "id": "llGXpRq23UKJ"
      },
      "source": [
        "Additionally, if you browse your Google drive as you normally would, you should see the new `cmps3160` folder there.\n",
        "\n",
        "<br>\n",
        "\n",
        "\n",
        "Now let's change directories to the cmps3160 folder."
      ]
    },
    {
      "cell_type": "code",
      "execution_count": null,
      "metadata": {
        "id": "1n4yP2D-3UKJ"
      },
      "outputs": [],
      "source": [
        "%cd cmps3160"
      ]
    },
    {
      "cell_type": "markdown",
      "metadata": {
        "id": "ZC2RtNzv3UKJ"
      },
      "source": [
        "**Important** Remember to always always pull before you start working!"
      ]
    },
    {
      "cell_type": "code",
      "execution_count": null,
      "metadata": {
        "id": "GfzZ4isH3UKJ"
      },
      "outputs": [],
      "source": [
        "!git pull"
      ]
    },
    {
      "cell_type": "markdown",
      "metadata": {
        "id": "epk9csgT3UKK"
      },
      "source": [
        "Now we are going to change to the \\_demos folder and check out the data that we have there, we'll see more of this data as we go throughout the semester."
      ]
    },
    {
      "cell_type": "code",
      "execution_count": null,
      "metadata": {
        "id": "YprP653V3UKK"
      },
      "outputs": [],
      "source": [
        "%cd _demos\n",
        "!ls"
      ]
    },
    {
      "cell_type": "code",
      "execution_count": null,
      "metadata": {
        "id": "uzks1KeV3UKK"
      },
      "outputs": [],
      "source": [
        "!ls data"
      ]
    },
    {
      "cell_type": "code",
      "execution_count": null,
      "metadata": {
        "id": "MtrP5VfP3UKK"
      },
      "outputs": [],
      "source": [
        "!head data/nba_salaries.csv"
      ]
    },
    {
      "cell_type": "markdown",
      "metadata": {
        "id": "pLg5VGgG3UKL"
      },
      "source": [
        "---"
      ]
    },
    {
      "cell_type": "markdown",
      "metadata": {
        "id": "z6lfSKRx3UKL"
      },
      "source": [
        "Let's go back to the slides and see a few more things about Python and why it's the best!"
      ]
    },
    {
      "cell_type": "code",
      "execution_count": null,
      "metadata": {
        "id": "bu6f5b2w3UKL"
      },
      "outputs": [],
      "source": [
        "IFrame(src='''https://docs.google.com/presentation/d/e/2PACX-1vQeHlnuEX_rEj3bsUvW7e9WYstQFEgXmHAS3yiKK2Sbmvbh5oXZnazvdLMvzlRw8NMGfJL-QwPW8H8-/embed?start=false&loop=false&delayms=3000&slide=id.g146df145938_1_650\" frameborder=\"0\" allowfullscreen=\"true\" mozallowfullscreen=\"true\" webkitallowfullscreen=\"true\"''', \n",
        "       width=width, height=height)"
      ]
    },
    {
      "cell_type": "markdown",
      "metadata": {
        "id": "5OLuF16p3UKL"
      },
      "source": [
        "# Let's do some Code!\n",
        "\n",
        "The cell below loads up a few libraries and does some initialization."
      ]
    },
    {
      "cell_type": "code",
      "execution_count": null,
      "metadata": {
        "id": "6ddi0xv53UKM"
      },
      "outputs": [],
      "source": [
        "### Standard Magic and startup initializers.\n",
        "\n",
        "# Load Numpy\n",
        "import numpy as np\n",
        "# Load MatPlotLib\n",
        "import matplotlib\n",
        "import matplotlib.pyplot as plt\n",
        "# Load Pandas\n",
        "import pandas as pd\n",
        "\n",
        "# This lets us show plots inline and also save PDF plots if we want them\n",
        "%matplotlib inline\n",
        "from matplotlib.backends.backend_pdf import PdfPages\n",
        "matplotlib.style.use('fivethirtyeight')\n",
        "# Seaborn is a plotting package for Pandas that we'll try out...\n",
        "import seaborn as sns\n",
        "\n",
        "# These two things are for Pandas, it widens the notebook and lets us display data easily.\n",
        "from IPython.core.display import display, HTML\n",
        "display(HTML(\"<style>.container { width:95% !important; }</style>\"))"
      ]
    },
    {
      "cell_type": "markdown",
      "metadata": {
        "id": "V_Xw_gb-3UKM"
      },
      "source": [
        "### A quick note about the Data8 Textbook.\n",
        "\n",
        "The [Data8 Textbook](https://www.inferentialthinking.com/chapters/intro) uses a package called `DataScience` which is a wrapper around Pandas.  When you do stuff in that textbook please remember that the Pandas calls are a bit different."
      ]
    },
    {
      "cell_type": "markdown",
      "metadata": {
        "id": "kCb16JUV3UKM"
      },
      "source": [
        "### First let's go over the examples from the slides here and make sure we understand them."
      ]
    },
    {
      "cell_type": "code",
      "execution_count": null,
      "metadata": {
        "id": "-YtCR5A83UKM"
      },
      "outputs": [],
      "source": [
        "# Define a simple function.\n",
        "\n",
        "def my_func(x, y):\n",
        "    if x > y:\n",
        "        return x\n",
        "    else:\n",
        "        return y"
      ]
    },
    {
      "cell_type": "code",
      "execution_count": null,
      "metadata": {
        "id": "1YM9gnF83UKM"
      },
      "outputs": [],
      "source": [
        "my_func(1,2)"
      ]
    },
    {
      "cell_type": "code",
      "execution_count": null,
      "metadata": {
        "id": "yJvUGh_q3UKM"
      },
      "outputs": [],
      "source": [
        "def my_func(x, y):\n",
        "    return (x-1, y+2)\n"
      ]
    },
    {
      "cell_type": "markdown",
      "metadata": {
        "id": "Q8B7U9y73UKM"
      },
      "source": [
        "Be careful with notebooks... we can have scope problems if we run cells out of order!"
      ]
    },
    {
      "cell_type": "code",
      "execution_count": null,
      "metadata": {
        "id": "1ccaOMTF3UKM"
      },
      "outputs": [],
      "source": [
        "# What is in scope here? \n",
        "(a, b) = my_func(1, 2)"
      ]
    },
    {
      "cell_type": "code",
      "execution_count": null,
      "metadata": {
        "id": "J7GNKyqU3UKN"
      },
      "outputs": [],
      "source": [
        "print(a)"
      ]
    },
    {
      "cell_type": "code",
      "execution_count": null,
      "metadata": {
        "id": "vQiv7X9E3UKN"
      },
      "outputs": [],
      "source": [
        "print(b)"
      ]
    },
    {
      "cell_type": "markdown",
      "metadata": {
        "id": "qrawXb813UKN"
      },
      "source": [
        "Let's look at some simple lists and data structures."
      ]
    },
    {
      "cell_type": "code",
      "execution_count": null,
      "metadata": {
        "id": "lyN-Me4k3UKN"
      },
      "outputs": [],
      "source": [
        "a = [1, 2, 4, 'a']\n",
        "a"
      ]
    },
    {
      "cell_type": "code",
      "execution_count": null,
      "metadata": {
        "id": "3x6o5YpW3UKN"
      },
      "outputs": [],
      "source": [
        "# len: returns the number of items of an enumerable object\n",
        "len(['c', 'm', 's', 'c', 3, 2, 0])\n"
      ]
    },
    {
      "cell_type": "code",
      "execution_count": null,
      "metadata": {
        "id": "zXsiGXu73UKN"
      },
      "outputs": [],
      "source": [
        "# range: returns an iterable object\n",
        "list(range(10))\n"
      ]
    },
    {
      "cell_type": "code",
      "execution_count": null,
      "metadata": {
        "id": "kZFPTnw23UKN"
      },
      "outputs": [],
      "source": [
        "# enumerate: returns iterable tuple (index, element) of a list\n",
        "a = enumerate( ['311', '320', '330'] )\n",
        "print(a)"
      ]
    },
    {
      "cell_type": "code",
      "execution_count": null,
      "metadata": {
        "id": "IiHJlPie3UKN"
      },
      "outputs": [],
      "source": [
        "# Recall here that Python3 does lazy evaluation for these iterators.  We have to manually expand it.\n",
        "list(a)"
      ]
    },
    {
      "cell_type": "code",
      "execution_count": null,
      "metadata": {
        "id": "RVx2KfNM3UKO"
      },
      "outputs": [],
      "source": [
        "a = ['311', '320', '330']\n",
        "for i,j in enumerate(a):\n",
        "    print(i,j)"
      ]
    },
    {
      "cell_type": "code",
      "execution_count": null,
      "metadata": {
        "id": "oLoYNLlS3UKO"
      },
      "outputs": [],
      "source": [
        "def squared(x):\n",
        "    return x**2"
      ]
    },
    {
      "cell_type": "code",
      "execution_count": null,
      "metadata": {
        "id": "-K9nr4H23UKO"
      },
      "outputs": [],
      "source": [
        "## Map and Filter\n",
        "\n",
        "# map: apply a function to a sequence or iterable\n",
        "\n",
        "arr = [1, 2, 3, 4, 5]\n",
        "out = map(squared, arr)\n",
        "print(list(out))\n",
        "print(arr)"
      ]
    },
    {
      "cell_type": "code",
      "execution_count": null,
      "metadata": {
        "id": "1pOylWCD3UKO"
      },
      "outputs": [],
      "source": [
        "new_arr = [x**3 for x in arr if x <= 3]"
      ]
    },
    {
      "cell_type": "code",
      "execution_count": null,
      "metadata": {
        "id": "iFNr2jsB3UKO"
      },
      "outputs": [],
      "source": [
        "new_arr"
      ]
    },
    {
      "cell_type": "code",
      "execution_count": null,
      "metadata": {
        "id": "6Y91-vzE3UKO"
      },
      "outputs": [],
      "source": [
        "# What happened here??\n",
        "arr = [1, 2, 3, 4, 5]\n",
        "out = map(lambda x: x**2, arr)\n",
        "print(out)\n",
        "\n",
        "\n",
        "# Remember again lazy evaluation!\n",
        "print(list(out))"
      ]
    },
    {
      "cell_type": "code",
      "execution_count": null,
      "metadata": {
        "id": "A8U4krW73UKO"
      },
      "outputs": [],
      "source": [
        "# filter: returns a list of elements for which a predicate is true\n",
        "\n",
        "arr = [1, 2, 3, 4, 5, 6, 7]\n",
        "out = filter(lambda x: x % 2 == 0, arr)\n",
        "print(out)\n",
        "\n",
        "# Remember again that we have to explicitly evaluate the iterator.\n",
        "print(list(out))"
      ]
    },
    {
      "cell_type": "code",
      "execution_count": null,
      "metadata": {
        "id": "uA1O28HB3UKO"
      },
      "outputs": [],
      "source": [
        "# A more pythonic way: list comprehension...\n",
        "x = [i for i in arr if i % 2 == 0]\n",
        "x"
      ]
    },
    {
      "cell_type": "code",
      "execution_count": null,
      "metadata": {
        "id": "-3MCWhnK3UKO"
      },
      "outputs": [],
      "source": [
        "# List comprehensions are the best!\n",
        "P = [ 2**x for x in range(17) ]\n",
        "P"
      ]
    },
    {
      "cell_type": "code",
      "execution_count": null,
      "metadata": {
        "id": "7Ngm8Lz13UKP"
      },
      "outputs": [],
      "source": [
        "# Can also do dictionaries...\n",
        "D = {x:['no'] for x in range(10)}"
      ]
    },
    {
      "cell_type": "code",
      "execution_count": null,
      "metadata": {
        "id": "07RdrD8r3UKP"
      },
      "outputs": [],
      "source": [
        "D"
      ]
    }
  ],
  "metadata": {
    "kernelspec": {
      "display_name": "Python 3",
      "language": "python",
      "name": "python3"
    },
    "language_info": {
      "codemirror_mode": {
        "name": "ipython",
        "version": 3
      },
      "file_extension": ".py",
      "mimetype": "text/x-python",
      "name": "python",
      "nbconvert_exporter": "python",
      "pygments_lexer": "ipython3",
      "version": "3.8.3"
    },
    "vscode": {
      "interpreter": {
        "hash": "aee8b7b246df8f9039afb4144a1f6fd8d2ca17a180786b69acc140d282b71a49"
      }
    },
    "colab": {
      "provenance": [],
      "name": "Demo-01.ipynb",
      "collapsed_sections": [
        "V_Xw_gb-3UKM"
      ],
      "include_colab_link": true
    }
  },
  "nbformat": 4,
  "nbformat_minor": 0
}