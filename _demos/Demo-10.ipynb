{
  "cells": [
    {
      "cell_type": "markdown",
      "metadata": {
        "id": "view-in-github",
        "colab_type": "text"
      },
      "source": [
        "<a href=\"https://colab.research.google.com/github/jimhaines37/DataScience/blob/main/_demos/Demo-10.ipynb\" target=\"_parent\"><img src=\"https://colab.research.google.com/assets/colab-badge.svg\" alt=\"Open In Colab\"/></a>"
      ]
    },
    {
      "cell_type": "markdown",
      "metadata": {
        "id": "n-tJw6qgMOho"
      },
      "source": [
        "# Demo 10 - Predictive Models: Classification\n",
        "\n",
        "In this notebook we'll use the famous [Iris Dataset](https://archive.ics.uci.edu/ml/datasets/iris) to check out some real decision trees!  \n",
        "\n",
        "<img src=\"https://github.com/nmattei/cmps3160/blob/master/_demos/data/iris.png?raw=1\">\n",
        "\n",
        "This data set has:\n",
        "1. 150 instances with 4 attributes (same units, all numeric)\n",
        "2. Balanced class distribution\n",
        "3. No missing data"
      ]
    },
    {
      "cell_type": "code",
      "execution_count": null,
      "metadata": {
        "id": "EZ2avqVcMOhs",
        "outputId": "06db3c24-5690-4b4f-a491-905eac0ae00d",
        "colab": {
          "base_uri": "https://localhost:8080/"
        }
      },
      "outputs": [
        {
          "output_type": "stream",
          "name": "stdout",
          "text": [
            "Drive already mounted at /content/drive; to attempt to forcibly remount, call drive.mount(\"/content/drive\", force_remount=True).\n",
            "/content/drive/My Drive/cmps3160\n",
            "/content/drive/My Drive/cmps3160/_demos\n"
          ]
        }
      ],
      "source": [
        "# first, mount your google drive, change to the course folder, pull latest changes, and change to the lab folder.\n",
        "# Startup Magic to: (1) Mount Google Drive\n",
        "# (2) Change to Course Folder\n",
        "# (3) Pull latest Changes\n",
        "# (4) Move to the Demo Directory so that the data files are available\n",
        "\n",
        "from google.colab import drive\n",
        "drive.mount('/content/drive')\n",
        "%cd /content/drive/My Drive/cmps3160\n",
        "# !git pull\n",
        "%cd _demos"
      ]
    },
    {
      "cell_type": "code",
      "execution_count": null,
      "metadata": {
        "id": "IF3tFqZjMOht",
        "outputId": "87ed8f46-e1ae-4f81-aa38-f42ef8c67203",
        "colab": {
          "base_uri": "https://localhost:8080/",
          "height": 17
        }
      },
      "outputs": [
        {
          "output_type": "display_data",
          "data": {
            "text/plain": [
              "<IPython.core.display.HTML object>"
            ],
            "text/html": [
              "<style>.container { width:95% !important; }</style>"
            ]
          },
          "metadata": {}
        }
      ],
      "source": [
        "# Includes and Standard Magic...\n",
        "### Standard Magic and startup initializers.\n",
        "\n",
        "# Load Numpy\n",
        "import numpy as np\n",
        "# Load MatPlotLib\n",
        "import matplotlib\n",
        "import matplotlib.pyplot as plt\n",
        "# Load Pandas\n",
        "import pandas as pd\n",
        "# Load SQLITE\n",
        "import sqlite3\n",
        "# Load Stats\n",
        "from scipy import stats\n",
        "\n",
        "# This lets us show plots inline and also save PDF plots if we want them\n",
        "%matplotlib inline\n",
        "from matplotlib.backends.backend_pdf import PdfPages\n",
        "\n",
        "# These two things are for Pandas, it widens the notebook and lets us display data easily.\n",
        "from IPython.core.display import display, HTML\n",
        "display(HTML(\"<style>.container { width:95% !important; }</style>\"))"
      ]
    },
    {
      "cell_type": "code",
      "execution_count": null,
      "metadata": {
        "id": "fKtYPe0YMOht",
        "outputId": "fda4307c-94ab-4bbc-9bfd-e6adb5dedfc0",
        "colab": {
          "base_uri": "https://localhost:8080/",
          "height": 206
        }
      },
      "outputs": [
        {
          "output_type": "execute_result",
          "data": {
            "text/plain": [
              "   sepal_length  sepal_width  petal_length  petal_width species\n",
              "0           5.1          3.5           1.4          0.2  setosa\n",
              "1           4.9          3.0           1.4          0.2  setosa\n",
              "2           4.7          3.2           1.3          0.2  setosa\n",
              "3           4.6          3.1           1.5          0.2  setosa\n",
              "4           5.0          3.6           1.4          0.2  setosa"
            ],
            "text/html": [
              "\n",
              "  <div id=\"df-59b0e974-21cb-4236-ab73-034f2f4eb4ea\">\n",
              "    <div class=\"colab-df-container\">\n",
              "      <div>\n",
              "<style scoped>\n",
              "    .dataframe tbody tr th:only-of-type {\n",
              "        vertical-align: middle;\n",
              "    }\n",
              "\n",
              "    .dataframe tbody tr th {\n",
              "        vertical-align: top;\n",
              "    }\n",
              "\n",
              "    .dataframe thead th {\n",
              "        text-align: right;\n",
              "    }\n",
              "</style>\n",
              "<table border=\"1\" class=\"dataframe\">\n",
              "  <thead>\n",
              "    <tr style=\"text-align: right;\">\n",
              "      <th></th>\n",
              "      <th>sepal_length</th>\n",
              "      <th>sepal_width</th>\n",
              "      <th>petal_length</th>\n",
              "      <th>petal_width</th>\n",
              "      <th>species</th>\n",
              "    </tr>\n",
              "  </thead>\n",
              "  <tbody>\n",
              "    <tr>\n",
              "      <th>0</th>\n",
              "      <td>5.1</td>\n",
              "      <td>3.5</td>\n",
              "      <td>1.4</td>\n",
              "      <td>0.2</td>\n",
              "      <td>setosa</td>\n",
              "    </tr>\n",
              "    <tr>\n",
              "      <th>1</th>\n",
              "      <td>4.9</td>\n",
              "      <td>3.0</td>\n",
              "      <td>1.4</td>\n",
              "      <td>0.2</td>\n",
              "      <td>setosa</td>\n",
              "    </tr>\n",
              "    <tr>\n",
              "      <th>2</th>\n",
              "      <td>4.7</td>\n",
              "      <td>3.2</td>\n",
              "      <td>1.3</td>\n",
              "      <td>0.2</td>\n",
              "      <td>setosa</td>\n",
              "    </tr>\n",
              "    <tr>\n",
              "      <th>3</th>\n",
              "      <td>4.6</td>\n",
              "      <td>3.1</td>\n",
              "      <td>1.5</td>\n",
              "      <td>0.2</td>\n",
              "      <td>setosa</td>\n",
              "    </tr>\n",
              "    <tr>\n",
              "      <th>4</th>\n",
              "      <td>5.0</td>\n",
              "      <td>3.6</td>\n",
              "      <td>1.4</td>\n",
              "      <td>0.2</td>\n",
              "      <td>setosa</td>\n",
              "    </tr>\n",
              "  </tbody>\n",
              "</table>\n",
              "</div>\n",
              "      <button class=\"colab-df-convert\" onclick=\"convertToInteractive('df-59b0e974-21cb-4236-ab73-034f2f4eb4ea')\"\n",
              "              title=\"Convert this dataframe to an interactive table.\"\n",
              "              style=\"display:none;\">\n",
              "        \n",
              "  <svg xmlns=\"http://www.w3.org/2000/svg\" height=\"24px\"viewBox=\"0 0 24 24\"\n",
              "       width=\"24px\">\n",
              "    <path d=\"M0 0h24v24H0V0z\" fill=\"none\"/>\n",
              "    <path d=\"M18.56 5.44l.94 2.06.94-2.06 2.06-.94-2.06-.94-.94-2.06-.94 2.06-2.06.94zm-11 1L8.5 8.5l.94-2.06 2.06-.94-2.06-.94L8.5 2.5l-.94 2.06-2.06.94zm10 10l.94 2.06.94-2.06 2.06-.94-2.06-.94-.94-2.06-.94 2.06-2.06.94z\"/><path d=\"M17.41 7.96l-1.37-1.37c-.4-.4-.92-.59-1.43-.59-.52 0-1.04.2-1.43.59L10.3 9.45l-7.72 7.72c-.78.78-.78 2.05 0 2.83L4 21.41c.39.39.9.59 1.41.59.51 0 1.02-.2 1.41-.59l7.78-7.78 2.81-2.81c.8-.78.8-2.07 0-2.86zM5.41 20L4 18.59l7.72-7.72 1.47 1.35L5.41 20z\"/>\n",
              "  </svg>\n",
              "      </button>\n",
              "      \n",
              "  <style>\n",
              "    .colab-df-container {\n",
              "      display:flex;\n",
              "      flex-wrap:wrap;\n",
              "      gap: 12px;\n",
              "    }\n",
              "\n",
              "    .colab-df-convert {\n",
              "      background-color: #E8F0FE;\n",
              "      border: none;\n",
              "      border-radius: 50%;\n",
              "      cursor: pointer;\n",
              "      display: none;\n",
              "      fill: #1967D2;\n",
              "      height: 32px;\n",
              "      padding: 0 0 0 0;\n",
              "      width: 32px;\n",
              "    }\n",
              "\n",
              "    .colab-df-convert:hover {\n",
              "      background-color: #E2EBFA;\n",
              "      box-shadow: 0px 1px 2px rgba(60, 64, 67, 0.3), 0px 1px 3px 1px rgba(60, 64, 67, 0.15);\n",
              "      fill: #174EA6;\n",
              "    }\n",
              "\n",
              "    [theme=dark] .colab-df-convert {\n",
              "      background-color: #3B4455;\n",
              "      fill: #D2E3FC;\n",
              "    }\n",
              "\n",
              "    [theme=dark] .colab-df-convert:hover {\n",
              "      background-color: #434B5C;\n",
              "      box-shadow: 0px 1px 3px 1px rgba(0, 0, 0, 0.15);\n",
              "      filter: drop-shadow(0px 1px 2px rgba(0, 0, 0, 0.3));\n",
              "      fill: #FFFFFF;\n",
              "    }\n",
              "  </style>\n",
              "\n",
              "      <script>\n",
              "        const buttonEl =\n",
              "          document.querySelector('#df-59b0e974-21cb-4236-ab73-034f2f4eb4ea button.colab-df-convert');\n",
              "        buttonEl.style.display =\n",
              "          google.colab.kernel.accessAllowed ? 'block' : 'none';\n",
              "\n",
              "        async function convertToInteractive(key) {\n",
              "          const element = document.querySelector('#df-59b0e974-21cb-4236-ab73-034f2f4eb4ea');\n",
              "          const dataTable =\n",
              "            await google.colab.kernel.invokeFunction('convertToInteractive',\n",
              "                                                     [key], {});\n",
              "          if (!dataTable) return;\n",
              "\n",
              "          const docLinkHtml = 'Like what you see? Visit the ' +\n",
              "            '<a target=\"_blank\" href=https://colab.research.google.com/notebooks/data_table.ipynb>data table notebook</a>'\n",
              "            + ' to learn more about interactive tables.';\n",
              "          element.innerHTML = '';\n",
              "          dataTable['output_type'] = 'display_data';\n",
              "          await google.colab.output.renderOutput(dataTable, element);\n",
              "          const docLink = document.createElement('div');\n",
              "          docLink.innerHTML = docLinkHtml;\n",
              "          element.appendChild(docLink);\n",
              "        }\n",
              "      </script>\n",
              "    </div>\n",
              "  </div>\n",
              "  "
            ]
          },
          "metadata": {},
          "execution_count": 3
        }
      ],
      "source": [
        "# Import the data and check it out...\n",
        "df_iris = pd.read_csv(\"./data/iris.csv\")\n",
        "df_iris.head()"
      ]
    },
    {
      "cell_type": "code",
      "execution_count": null,
      "metadata": {
        "id": "6H51l2LaMOhu",
        "outputId": "bde93664-2d81-46b5-b623-135184de3964",
        "colab": {
          "base_uri": "https://localhost:8080/",
          "height": 300
        }
      },
      "outputs": [
        {
          "output_type": "execute_result",
          "data": {
            "text/plain": [
              "       sepal_length  sepal_width  petal_length  petal_width\n",
              "count    150.000000   150.000000    150.000000   150.000000\n",
              "mean       5.843333     3.054000      3.758667     1.198667\n",
              "std        0.828066     0.433594      1.764420     0.763161\n",
              "min        4.300000     2.000000      1.000000     0.100000\n",
              "25%        5.100000     2.800000      1.600000     0.300000\n",
              "50%        5.800000     3.000000      4.350000     1.300000\n",
              "75%        6.400000     3.300000      5.100000     1.800000\n",
              "max        7.900000     4.400000      6.900000     2.500000"
            ],
            "text/html": [
              "\n",
              "  <div id=\"df-b721f5c8-9baf-4ca5-9320-24e15d30fb93\">\n",
              "    <div class=\"colab-df-container\">\n",
              "      <div>\n",
              "<style scoped>\n",
              "    .dataframe tbody tr th:only-of-type {\n",
              "        vertical-align: middle;\n",
              "    }\n",
              "\n",
              "    .dataframe tbody tr th {\n",
              "        vertical-align: top;\n",
              "    }\n",
              "\n",
              "    .dataframe thead th {\n",
              "        text-align: right;\n",
              "    }\n",
              "</style>\n",
              "<table border=\"1\" class=\"dataframe\">\n",
              "  <thead>\n",
              "    <tr style=\"text-align: right;\">\n",
              "      <th></th>\n",
              "      <th>sepal_length</th>\n",
              "      <th>sepal_width</th>\n",
              "      <th>petal_length</th>\n",
              "      <th>petal_width</th>\n",
              "    </tr>\n",
              "  </thead>\n",
              "  <tbody>\n",
              "    <tr>\n",
              "      <th>count</th>\n",
              "      <td>150.000000</td>\n",
              "      <td>150.000000</td>\n",
              "      <td>150.000000</td>\n",
              "      <td>150.000000</td>\n",
              "    </tr>\n",
              "    <tr>\n",
              "      <th>mean</th>\n",
              "      <td>5.843333</td>\n",
              "      <td>3.054000</td>\n",
              "      <td>3.758667</td>\n",
              "      <td>1.198667</td>\n",
              "    </tr>\n",
              "    <tr>\n",
              "      <th>std</th>\n",
              "      <td>0.828066</td>\n",
              "      <td>0.433594</td>\n",
              "      <td>1.764420</td>\n",
              "      <td>0.763161</td>\n",
              "    </tr>\n",
              "    <tr>\n",
              "      <th>min</th>\n",
              "      <td>4.300000</td>\n",
              "      <td>2.000000</td>\n",
              "      <td>1.000000</td>\n",
              "      <td>0.100000</td>\n",
              "    </tr>\n",
              "    <tr>\n",
              "      <th>25%</th>\n",
              "      <td>5.100000</td>\n",
              "      <td>2.800000</td>\n",
              "      <td>1.600000</td>\n",
              "      <td>0.300000</td>\n",
              "    </tr>\n",
              "    <tr>\n",
              "      <th>50%</th>\n",
              "      <td>5.800000</td>\n",
              "      <td>3.000000</td>\n",
              "      <td>4.350000</td>\n",
              "      <td>1.300000</td>\n",
              "    </tr>\n",
              "    <tr>\n",
              "      <th>75%</th>\n",
              "      <td>6.400000</td>\n",
              "      <td>3.300000</td>\n",
              "      <td>5.100000</td>\n",
              "      <td>1.800000</td>\n",
              "    </tr>\n",
              "    <tr>\n",
              "      <th>max</th>\n",
              "      <td>7.900000</td>\n",
              "      <td>4.400000</td>\n",
              "      <td>6.900000</td>\n",
              "      <td>2.500000</td>\n",
              "    </tr>\n",
              "  </tbody>\n",
              "</table>\n",
              "</div>\n",
              "      <button class=\"colab-df-convert\" onclick=\"convertToInteractive('df-b721f5c8-9baf-4ca5-9320-24e15d30fb93')\"\n",
              "              title=\"Convert this dataframe to an interactive table.\"\n",
              "              style=\"display:none;\">\n",
              "        \n",
              "  <svg xmlns=\"http://www.w3.org/2000/svg\" height=\"24px\"viewBox=\"0 0 24 24\"\n",
              "       width=\"24px\">\n",
              "    <path d=\"M0 0h24v24H0V0z\" fill=\"none\"/>\n",
              "    <path d=\"M18.56 5.44l.94 2.06.94-2.06 2.06-.94-2.06-.94-.94-2.06-.94 2.06-2.06.94zm-11 1L8.5 8.5l.94-2.06 2.06-.94-2.06-.94L8.5 2.5l-.94 2.06-2.06.94zm10 10l.94 2.06.94-2.06 2.06-.94-2.06-.94-.94-2.06-.94 2.06-2.06.94z\"/><path d=\"M17.41 7.96l-1.37-1.37c-.4-.4-.92-.59-1.43-.59-.52 0-1.04.2-1.43.59L10.3 9.45l-7.72 7.72c-.78.78-.78 2.05 0 2.83L4 21.41c.39.39.9.59 1.41.59.51 0 1.02-.2 1.41-.59l7.78-7.78 2.81-2.81c.8-.78.8-2.07 0-2.86zM5.41 20L4 18.59l7.72-7.72 1.47 1.35L5.41 20z\"/>\n",
              "  </svg>\n",
              "      </button>\n",
              "      \n",
              "  <style>\n",
              "    .colab-df-container {\n",
              "      display:flex;\n",
              "      flex-wrap:wrap;\n",
              "      gap: 12px;\n",
              "    }\n",
              "\n",
              "    .colab-df-convert {\n",
              "      background-color: #E8F0FE;\n",
              "      border: none;\n",
              "      border-radius: 50%;\n",
              "      cursor: pointer;\n",
              "      display: none;\n",
              "      fill: #1967D2;\n",
              "      height: 32px;\n",
              "      padding: 0 0 0 0;\n",
              "      width: 32px;\n",
              "    }\n",
              "\n",
              "    .colab-df-convert:hover {\n",
              "      background-color: #E2EBFA;\n",
              "      box-shadow: 0px 1px 2px rgba(60, 64, 67, 0.3), 0px 1px 3px 1px rgba(60, 64, 67, 0.15);\n",
              "      fill: #174EA6;\n",
              "    }\n",
              "\n",
              "    [theme=dark] .colab-df-convert {\n",
              "      background-color: #3B4455;\n",
              "      fill: #D2E3FC;\n",
              "    }\n",
              "\n",
              "    [theme=dark] .colab-df-convert:hover {\n",
              "      background-color: #434B5C;\n",
              "      box-shadow: 0px 1px 3px 1px rgba(0, 0, 0, 0.15);\n",
              "      filter: drop-shadow(0px 1px 2px rgba(0, 0, 0, 0.3));\n",
              "      fill: #FFFFFF;\n",
              "    }\n",
              "  </style>\n",
              "\n",
              "      <script>\n",
              "        const buttonEl =\n",
              "          document.querySelector('#df-b721f5c8-9baf-4ca5-9320-24e15d30fb93 button.colab-df-convert');\n",
              "        buttonEl.style.display =\n",
              "          google.colab.kernel.accessAllowed ? 'block' : 'none';\n",
              "\n",
              "        async function convertToInteractive(key) {\n",
              "          const element = document.querySelector('#df-b721f5c8-9baf-4ca5-9320-24e15d30fb93');\n",
              "          const dataTable =\n",
              "            await google.colab.kernel.invokeFunction('convertToInteractive',\n",
              "                                                     [key], {});\n",
              "          if (!dataTable) return;\n",
              "\n",
              "          const docLinkHtml = 'Like what you see? Visit the ' +\n",
              "            '<a target=\"_blank\" href=https://colab.research.google.com/notebooks/data_table.ipynb>data table notebook</a>'\n",
              "            + ' to learn more about interactive tables.';\n",
              "          element.innerHTML = '';\n",
              "          dataTable['output_type'] = 'display_data';\n",
              "          await google.colab.output.renderOutput(dataTable, element);\n",
              "          const docLink = document.createElement('div');\n",
              "          docLink.innerHTML = docLinkHtml;\n",
              "          element.appendChild(docLink);\n",
              "        }\n",
              "      </script>\n",
              "    </div>\n",
              "  </div>\n",
              "  "
            ]
          },
          "metadata": {},
          "execution_count": 4
        }
      ],
      "source": [
        "df_iris.describe()"
      ]
    },
    {
      "cell_type": "code",
      "execution_count": null,
      "metadata": {
        "id": "Lwo0uevsMOhu",
        "outputId": "366007ca-083e-4c8a-d82f-8d2574c639d7",
        "colab": {
          "base_uri": "https://localhost:8080/"
        }
      },
      "outputs": [
        {
          "output_type": "execute_result",
          "data": {
            "text/plain": [
              "species\n",
              "setosa        50\n",
              "versicolor    50\n",
              "virginica     50\n",
              "dtype: int64"
            ]
          },
          "metadata": {},
          "execution_count": 5
        }
      ],
      "source": [
        "df_iris.groupby(\"species\").size()"
      ]
    },
    {
      "cell_type": "markdown",
      "metadata": {
        "id": "H4G864OQMOhu"
      },
      "source": [
        "Make a test and train split.  Note that we are using a *stratified sample* here so that we don't mess up our classifier! [More info in the docs!](https://scikit-learn.org/stable/modules/generated/sklearn.model_selection.train_test_split.html)\n"
      ]
    },
    {
      "cell_type": "code",
      "execution_count": null,
      "metadata": {
        "id": "gTn5gV0DMOhu"
      },
      "outputs": [],
      "source": [
        "# Vectorize the whole thing...\n",
        "import sklearn\n",
        "from sklearn.model_selection import train_test_split\n",
        "\n",
        "train, test = train_test_split(df_iris, \n",
        "                               test_size=0.4, \n",
        "                               stratify=df_iris[\"species\"])"
      ]
    },
    {
      "cell_type": "code",
      "execution_count": null,
      "metadata": {
        "id": "Bg6-0HfKMOhv",
        "outputId": "c1afe12f-b012-45fa-98ef-2353f54cc317",
        "colab": {
          "base_uri": "https://localhost:8080/"
        }
      },
      "outputs": [
        {
          "output_type": "execute_result",
          "data": {
            "text/plain": [
              "species\n",
              "setosa        30\n",
              "versicolor    30\n",
              "virginica     30\n",
              "dtype: int64"
            ]
          },
          "metadata": {},
          "execution_count": 7
        }
      ],
      "source": [
        "# Check that...\n",
        "train.groupby(\"species\").size()"
      ]
    },
    {
      "cell_type": "code",
      "execution_count": null,
      "metadata": {
        "id": "bQUf88EZMOhv",
        "outputId": "3ced496d-6800-410a-95bc-f29fc69562f7",
        "colab": {
          "base_uri": "https://localhost:8080/"
        }
      },
      "outputs": [
        {
          "output_type": "execute_result",
          "data": {
            "text/plain": [
              "species\n",
              "setosa        20\n",
              "versicolor    20\n",
              "virginica     20\n",
              "dtype: int64"
            ]
          },
          "metadata": {},
          "execution_count": 8
        }
      ],
      "source": [
        "test.groupby(\"species\").size()"
      ]
    },
    {
      "cell_type": "code",
      "execution_count": null,
      "metadata": {
        "id": "9a3dvXBvMOhv",
        "outputId": "640c3c81-e50b-4290-b8ca-d65b5b470068",
        "colab": {
          "base_uri": "https://localhost:8080/",
          "height": 603
        }
      },
      "outputs": [
        {
          "output_type": "execute_result",
          "data": {
            "text/plain": [
              "<seaborn.axisgrid.PairGrid at 0x7fa162a24e10>"
            ]
          },
          "metadata": {},
          "execution_count": 9
        },
        {
          "output_type": "display_data",
          "data": {
            "text/plain": [
              "<Figure size 660.75x576 with 20 Axes>"
            ],
            "image/png": "[encoded data removed]"
          },
          "metadata": {
            "needs_background": "light"
          }
        }
      ],
      "source": [
        "# Just for fun..\n",
        "import seaborn as sns\n",
        "sns.pairplot(train, hue=\"species\", height=2, palette='colorblind')"
      ]
    },
    {
      "cell_type": "code",
      "execution_count": null,
      "metadata": {
        "id": "kcvh6MvuMOhv",
        "outputId": "fb93d49f-fa3d-4004-8be0-bbaf3635cb44",
        "colab": {
          "base_uri": "https://localhost:8080/",
          "height": 323
        }
      },
      "outputs": [
        {
          "output_type": "display_data",
          "data": {
            "text/plain": [
              "<Figure size 432x288 with 2 Axes>"
            ],
            "image/png": "[encoded data removed]"
          },
          "metadata": {
            "needs_background": "light"
          }
        }
      ],
      "source": [
        "corrmat = train.corr()\n",
        "sns.heatmap(corrmat, annot = True, square = True);"
      ]
    },
    {
      "cell_type": "markdown",
      "metadata": {
        "id": "IMkur6-YMOhw"
      },
      "source": [
        "## Decision Tree\n",
        "\n",
        "Now let's build a decision tree!"
      ]
    },
    {
      "cell_type": "code",
      "source": [
        "from sklearn.tree import DecisionTreeClassifier, plot_tree\n",
        "from sklearn import metrics\n",
        "features = ['sepal_length','sepal_width','petal_length','petal_width']\n",
        "X_train = train[features]\n",
        "y_train = train.species\n",
        "X_test = test[features]\n",
        "y_test = test.species"
      ],
      "metadata": {
        "id": "Q90pthH4lD6V"
      },
      "execution_count": null,
      "outputs": []
    },
    {
      "cell_type": "code",
      "execution_count": null,
      "metadata": {
        "id": "YgXFir23MOhw"
      },
      "outputs": [],
      "source": [
        "mod_dt = DecisionTreeClassifier(max_depth = 3, random_state = 1)\n",
        "mod_dt.fit(X_train,y_train)\n",
        "prediction=mod_dt.predict(X_test)"
      ]
    },
    {
      "cell_type": "code",
      "execution_count": null,
      "metadata": {
        "id": "iq2eao7PMOhw",
        "outputId": "13a6b5b5-4f01-462c-c3f8-4bb0095bd7c5",
        "colab": {
          "base_uri": "https://localhost:8080/"
        }
      },
      "outputs": [
        {
          "output_type": "stream",
          "name": "stdout",
          "text": [
            "The accuracy of the Decision Tree is 0.917\n",
            "The Precision of the Decision Tree is 0.917\n",
            "The Recall of the Decision Tree is 0.917\n"
          ]
        }
      ],
      "source": [
        "# Check some measures...\n",
        "print(f\"The accuracy of the Decision Tree is {metrics.accuracy_score(prediction,y_test):.3f}\")\n",
        "print(f\"The Precision of the Decision Tree is {metrics.precision_score(prediction,y_test,average='weighted'):.3f}\")\n",
        "print(f\"The Recall of the Decision Tree is {metrics.recall_score(prediction,y_test,average='weighted'):.3f}\")"
      ]
    },
    {
      "cell_type": "code",
      "execution_count": null,
      "metadata": {
        "id": "GLJoDd45MOhw",
        "outputId": "56bb32ec-4975-4463-fd3d-5bdfbf83851a",
        "colab": {
          "base_uri": "https://localhost:8080/",
          "height": 352
        }
      },
      "outputs": [
        {
          "output_type": "stream",
          "name": "stderr",
          "text": [
            "/usr/local/lib/python3.7/dist-packages/sklearn/utils/deprecation.py:87: FutureWarning: Function plot_confusion_matrix is deprecated; Function `plot_confusion_matrix` is deprecated in 1.0 and will be removed in 1.2. Use one of the class methods: ConfusionMatrixDisplay.from_predictions or ConfusionMatrixDisplay.from_estimator.\n",
            "  warnings.warn(msg, category=FutureWarning)\n"
          ]
        },
        {
          "output_type": "execute_result",
          "data": {
            "text/plain": [
              "<sklearn.metrics._plot.confusion_matrix.ConfusionMatrixDisplay at 0x7fa15d7efe10>"
            ]
          },
          "metadata": {},
          "execution_count": 14
        },
        {
          "output_type": "display_data",
          "data": {
            "text/plain": [
              "<Figure size 432x288 with 2 Axes>"
            ],
            "image/png": "[encoded data removed]"
          },
          "metadata": {
            "needs_background": "light"
          }
        }
      ],
      "source": [
        "# Plot some graphs...\n",
        "metrics.plot_confusion_matrix(mod_dt, X_test, y_test,\n",
        "                                 display_labels=mod_dt.classes_,\n",
        "                                 cmap=plt.cm.Blues, normalize='all')"
      ]
    },
    {
      "cell_type": "code",
      "execution_count": null,
      "metadata": {
        "id": "P7OhjdEAMOhw",
        "outputId": "89412be9-60eb-4751-f245-b317d44e99b6",
        "colab": {
          "base_uri": "https://localhost:8080/"
        }
      },
      "outputs": [
        {
          "output_type": "execute_result",
          "data": {
            "text/plain": [
              "array([0.        , 0.        , 0.45449275, 0.54550725])"
            ]
          },
          "metadata": {},
          "execution_count": 15
        }
      ],
      "source": [
        "# Cooler...\n",
        "mod_dt.feature_importances_\n"
      ]
    },
    {
      "cell_type": "code",
      "execution_count": null,
      "metadata": {
        "id": "wmzl3hF1MOhx",
        "outputId": "3b60f336-443b-43b0-b462-509d42627dc8",
        "colab": {
          "base_uri": "https://localhost:8080/",
          "height": 466
        }
      },
      "outputs": [
        {
          "output_type": "display_data",
          "data": {
            "text/plain": [
              "<Figure size 720x576 with 1 Axes>"
            ],
            "image/png": "[encoded data removed]"
          },
          "metadata": {
            "needs_background": "light"
          }
        }
      ],
      "source": [
        "plt.figure(figsize = (10,8))\n",
        "plot_tree(mod_dt, feature_names = features, class_names = mod_dt.classes_, filled = True);"
      ]
    },
    {
      "cell_type": "markdown",
      "metadata": {
        "id": "ldQTz46QMOhx"
      },
      "source": [
        "The Above only is using petal_width and petal_length... so we can plot the decision boundry..\n",
        "\n",
        "<img src=\"https://github.com/nmattei/cmps3160/blob/master/_demos/data/boundry.png?raw=1\">"
      ]
    },
    {
      "cell_type": "markdown",
      "source": [
        "## Logistic Regression\n",
        "\n",
        "Let's compare with Logistic Regression"
      ],
      "metadata": {
        "id": "YErvo1TkWmqt"
      }
    },
    {
      "cell_type": "code",
      "source": [
        "from sklearn.linear_model import LogisticRegression\n",
        "lr = LogisticRegression()\n",
        "lr.fit(X_train,y_train)\n",
        "lr_prediction=lr.predict(X_test)\n",
        "print(f\"The accuracy of Logistic Regression is {metrics.accuracy_score(lr_prediction,y_test):.3f}\")\n",
        "print(f\"The Precision of Logistic Regression is {metrics.precision_score(lr_prediction,y_test,average='weighted'):.3f}\")\n",
        "print(f\"The Recall of Logistic Regression is {metrics.recall_score(lr_prediction,y_test,average='weighted'):.3f}\")"
      ],
      "metadata": {
        "colab": {
          "base_uri": "https://localhost:8080/"
        },
        "id": "bDpbqmXcWdwg",
        "outputId": "125ef11d-f990-4145-cc85-ebd7e1ff54ef"
      },
      "execution_count": null,
      "outputs": [
        {
          "output_type": "stream",
          "name": "stdout",
          "text": [
            "The accuracy of Logistic Regression is 0.983\n",
            "The Precision of Logistic Regression is 0.984\n",
            "The Recall of Logistic Regression is 0.983\n"
          ]
        }
      ]
    },
    {
      "cell_type": "markdown",
      "source": [
        "### Logistic Regression coefficients\n",
        "\n",
        "We can inspect the `_coef` variable of the LogisticRegression classifier to find the $\\beta$ coefficients for each class. This is a matrix where cell (i,j) returns the $\\beta$ parameter for class $i$ and feature $j$."
      ],
      "metadata": {
        "id": "K4Q_8isJvIir"
      }
    },
    {
      "cell_type": "code",
      "source": [
        "lr.coef_"
      ],
      "metadata": {
        "colab": {
          "base_uri": "https://localhost:8080/"
        },
        "id": "r_VaNK27vFBG",
        "outputId": "5829dd91-2c14-4435-f4a1-12ae66a25628"
      },
      "execution_count": null,
      "outputs": [
        {
          "output_type": "execute_result",
          "data": {
            "text/plain": [
              "array([[-0.38671967,  0.78735391, -2.21155117, -0.90644055],\n",
              "       [ 0.28032953, -0.28210581, -0.07526758, -0.72372763],\n",
              "       [ 0.10639014, -0.5052481 ,  2.28681875,  1.63016818]])"
            ]
          },
          "metadata": {},
          "execution_count": 18
        }
      ]
    },
    {
      "cell_type": "code",
      "source": [
        "# let's put the coefficients into a nice data frame.\n",
        "pd.DataFrame(lr.coef_, columns=features, index=lr.classes_)"
      ],
      "metadata": {
        "colab": {
          "base_uri": "https://localhost:8080/",
          "height": 143
        },
        "id": "LWDRRBSnvkYp",
        "outputId": "a6a13c9f-4af0-4ad6-dbaf-352821baf7da"
      },
      "execution_count": null,
      "outputs": [
        {
          "output_type": "execute_result",
          "data": {
            "text/plain": [
              "            sepal_length  sepal_width  petal_length  petal_width\n",
              "setosa          -0.38672     0.787354     -2.211551    -0.906441\n",
              "versicolor       0.28033    -0.282106     -0.075268    -0.723728\n",
              "virginica        0.10639    -0.505248      2.286819     1.630168"
            ],
            "text/html": [
              "\n",
              "  <div id=\"df-3622e205-19f2-49a0-8cd4-afd651a0b431\">\n",
              "    <div class=\"colab-df-container\">\n",
              "      <div>\n",
              "<style scoped>\n",
              "    .dataframe tbody tr th:only-of-type {\n",
              "        vertical-align: middle;\n",
              "    }\n",
              "\n",
              "    .dataframe tbody tr th {\n",
              "        vertical-align: top;\n",
              "    }\n",
              "\n",
              "    .dataframe thead th {\n",
              "        text-align: right;\n",
              "    }\n",
              "</style>\n",
              "<table border=\"1\" class=\"dataframe\">\n",
              "  <thead>\n",
              "    <tr style=\"text-align: right;\">\n",
              "      <th></th>\n",
              "      <th>sepal_length</th>\n",
              "      <th>sepal_width</th>\n",
              "      <th>petal_length</th>\n",
              "      <th>petal_width</th>\n",
              "    </tr>\n",
              "  </thead>\n",
              "  <tbody>\n",
              "    <tr>\n",
              "      <th>setosa</th>\n",
              "      <td>-0.38672</td>\n",
              "      <td>0.787354</td>\n",
              "      <td>-2.211551</td>\n",
              "      <td>-0.906441</td>\n",
              "    </tr>\n",
              "    <tr>\n",
              "      <th>versicolor</th>\n",
              "      <td>0.28033</td>\n",
              "      <td>-0.282106</td>\n",
              "      <td>-0.075268</td>\n",
              "      <td>-0.723728</td>\n",
              "    </tr>\n",
              "    <tr>\n",
              "      <th>virginica</th>\n",
              "      <td>0.10639</td>\n",
              "      <td>-0.505248</td>\n",
              "      <td>2.286819</td>\n",
              "      <td>1.630168</td>\n",
              "    </tr>\n",
              "  </tbody>\n",
              "</table>\n",
              "</div>\n",
              "      <button class=\"colab-df-convert\" onclick=\"convertToInteractive('df-3622e205-19f2-49a0-8cd4-afd651a0b431')\"\n",
              "              title=\"Convert this dataframe to an interactive table.\"\n",
              "              style=\"display:none;\">\n",
              "        \n",
              "  <svg xmlns=\"http://www.w3.org/2000/svg\" height=\"24px\"viewBox=\"0 0 24 24\"\n",
              "       width=\"24px\">\n",
              "    <path d=\"M0 0h24v24H0V0z\" fill=\"none\"/>\n",
              "    <path d=\"M18.56 5.44l.94 2.06.94-2.06 2.06-.94-2.06-.94-.94-2.06-.94 2.06-2.06.94zm-11 1L8.5 8.5l.94-2.06 2.06-.94-2.06-.94L8.5 2.5l-.94 2.06-2.06.94zm10 10l.94 2.06.94-2.06 2.06-.94-2.06-.94-.94-2.06-.94 2.06-2.06.94z\"/><path d=\"M17.41 7.96l-1.37-1.37c-.4-.4-.92-.59-1.43-.59-.52 0-1.04.2-1.43.59L10.3 9.45l-7.72 7.72c-.78.78-.78 2.05 0 2.83L4 21.41c.39.39.9.59 1.41.59.51 0 1.02-.2 1.41-.59l7.78-7.78 2.81-2.81c.8-.78.8-2.07 0-2.86zM5.41 20L4 18.59l7.72-7.72 1.47 1.35L5.41 20z\"/>\n",
              "  </svg>\n",
              "      </button>\n",
              "      \n",
              "  <style>\n",
              "    .colab-df-container {\n",
              "      display:flex;\n",
              "      flex-wrap:wrap;\n",
              "      gap: 12px;\n",
              "    }\n",
              "\n",
              "    .colab-df-convert {\n",
              "      background-color: #E8F0FE;\n",
              "      border: none;\n",
              "      border-radius: 50%;\n",
              "      cursor: pointer;\n",
              "      display: none;\n",
              "      fill: #1967D2;\n",
              "      height: 32px;\n",
              "      padding: 0 0 0 0;\n",
              "      width: 32px;\n",
              "    }\n",
              "\n",
              "    .colab-df-convert:hover {\n",
              "      background-color: #E2EBFA;\n",
              "      box-shadow: 0px 1px 2px rgba(60, 64, 67, 0.3), 0px 1px 3px 1px rgba(60, 64, 67, 0.15);\n",
              "      fill: #174EA6;\n",
              "    }\n",
              "\n",
              "    [theme=dark] .colab-df-convert {\n",
              "      background-color: #3B4455;\n",
              "      fill: #D2E3FC;\n",
              "    }\n",
              "\n",
              "    [theme=dark] .colab-df-convert:hover {\n",
              "      background-color: #434B5C;\n",
              "      box-shadow: 0px 1px 3px 1px rgba(0, 0, 0, 0.15);\n",
              "      filter: drop-shadow(0px 1px 2px rgba(0, 0, 0, 0.3));\n",
              "      fill: #FFFFFF;\n",
              "    }\n",
              "  </style>\n",
              "\n",
              "      <script>\n",
              "        const buttonEl =\n",
              "          document.querySelector('#df-3622e205-19f2-49a0-8cd4-afd651a0b431 button.colab-df-convert');\n",
              "        buttonEl.style.display =\n",
              "          google.colab.kernel.accessAllowed ? 'block' : 'none';\n",
              "\n",
              "        async function convertToInteractive(key) {\n",
              "          const element = document.querySelector('#df-3622e205-19f2-49a0-8cd4-afd651a0b431');\n",
              "          const dataTable =\n",
              "            await google.colab.kernel.invokeFunction('convertToInteractive',\n",
              "                                                     [key], {});\n",
              "          if (!dataTable) return;\n",
              "\n",
              "          const docLinkHtml = 'Like what you see? Visit the ' +\n",
              "            '<a target=\"_blank\" href=https://colab.research.google.com/notebooks/data_table.ipynb>data table notebook</a>'\n",
              "            + ' to learn more about interactive tables.';\n",
              "          element.innerHTML = '';\n",
              "          dataTable['output_type'] = 'display_data';\n",
              "          await google.colab.output.renderOutput(dataTable, element);\n",
              "          const docLink = document.createElement('div');\n",
              "          docLink.innerHTML = docLinkHtml;\n",
              "          element.appendChild(docLink);\n",
              "        }\n",
              "      </script>\n",
              "    </div>\n",
              "  </div>\n",
              "  "
            ]
          },
          "metadata": {},
          "execution_count": 19
        }
      ]
    },
    {
      "cell_type": "markdown",
      "source": [
        "We can inspect the coefficients for each class for some insights into what the predictive features are. For example, `petal_length` appears to be strongly positively associated with the `virginica` class, which matches what we saw above in the pairplot. \n",
        "\n"
      ],
      "metadata": {
        "id": "kCRN7kCSv11x"
      }
    },
    {
      "cell_type": "markdown",
      "source": [
        "### Decision Boundary\n",
        "\n",
        "To visualize the decision boundary, we'll fit a new Logistic Regression classifier using two dimensions.\n",
        "\n",
        "We'll then make a countour plot showing the predictions as the two features change.\n",
        "\n",
        "Note that in the latest version of sklearn, there is a [class](https://scikit-learn.org/stable/modules/generated/sklearn.inspection.DecisionBoundaryDisplay.html#sklearn.inspection.DecisionBoundaryDisplay) that makes this plotting easier, but it is not available on Colab."
      ],
      "metadata": {
        "id": "XQwLiGBg8IBc"
      }
    },
    {
      "cell_type": "code",
      "source": [
        "# fit a classifier using only two features\n",
        "features_s = ['petal_length','petal_width']\n",
        "X_train_s = train[features_s]\n",
        "X_test_s = test[features_s]\n",
        "lr.fit(X_train_s,y_train)\n",
        "lr_prediction_s=lr.predict(X_test_s)"
      ],
      "metadata": {
        "id": "z7YcZQdZxe8z"
      },
      "execution_count": null,
      "outputs": []
    },
    {
      "cell_type": "code",
      "source": [
        "# generate a grid of points for many posible values of petal length and width.\n",
        "xx, yy = np.mgrid[0:7:.01, 0:3:.01]\n",
        "grid = np.c_[xx.ravel(), yy.ravel()]\n",
        "grid_preds = lr.predict(grid)\n",
        "label2int = {'setosa': 0, 'versicolor': 1, 'virginica': 2}\n",
        "labelints = np.array([label2int[s] for s in grid_preds])\n",
        "labelints = labelints.reshape(xx.shape)"
      ],
      "metadata": {
        "colab": {
          "base_uri": "https://localhost:8080/"
        },
        "id": "Tiejv7t81ppA",
        "outputId": "b3829795-2ba1-494d-bb87-4262618461ad"
      },
      "execution_count": null,
      "outputs": [
        {
          "output_type": "stream",
          "name": "stderr",
          "text": [
            "/usr/local/lib/python3.7/dist-packages/sklearn/base.py:451: UserWarning: X does not have valid feature names, but LogisticRegression was fitted with feature names\n",
            "  \"X does not have valid feature names, but\"\n"
          ]
        }
      ]
    },
    {
      "cell_type": "code",
      "source": [
        "# plot the predicted class for each point.\n",
        "f, ax = plt.subplots(figsize=(8, 6))\n",
        "contour = ax.contourf(xx, yy, labelints, 25, cmap=\"RdBu\")\n",
        "sns.scatterplot(data=X_test, ax=ax, x='petal_length', y='petal_width', hue=lr_prediction_s)\n",
        "plt.legend(loc='upper left')"
      ],
      "metadata": {
        "colab": {
          "base_uri": "https://localhost:8080/",
          "height": 407
        },
        "id": "zbLM5uBW14Jq",
        "outputId": "625a6573-cba1-4c62-f296-d468c0d19cb4"
      },
      "execution_count": null,
      "outputs": [
        {
          "output_type": "execute_result",
          "data": {
            "text/plain": [
              "<matplotlib.legend.Legend at 0x7fa15cf3b4d0>"
            ]
          },
          "metadata": {},
          "execution_count": 22
        },
        {
          "output_type": "display_data",
          "data": {
            "text/plain": [
              "<Figure size 576x432 with 1 Axes>"
            ],
            "image/png": "[encoded data removed]"
          },
          "metadata": {
            "needs_background": "light"
          }
        }
      ]
    },
    {
      "cell_type": "markdown",
      "source": [
        "## Text classification\n",
        "\n",
        "In this example we go through a light example of processing a dataset for analyzing text.\n",
        "\n",
        "The data comes from [this website](https://www.cs.cornell.edu/people/pabo/movie-review-data/) at Cornell and is from Bo Pang and Lillian Lee, A Sentimental Education: Sentiment Analysis Using Subjectivity Summarization Based on Minimum Cuts, Proceedings of ACL 2004.\n",
        "\n",
        "This contains 1000 positive and 1000 negative movie reviews. Our job is to classify a review as positive or negative based on the text."
      ],
      "metadata": {
        "id": "mN1g8kQd_QKv"
      }
    },
    {
      "cell_type": "code",
      "source": [
        "# need to unzip the data first.\n",
        "!unzip ./data/review_polarity.zip -d ./data/"
      ],
      "metadata": {
        "colab": {
          "base_uri": "https://localhost:8080/"
        },
        "id": "qJYg4wgXAYxK",
        "outputId": "7bfca1e8-85b4-4917-eca2-529b8f62e26e"
      },
      "execution_count": null,
      "outputs": [
        {
          "output_type": "stream",
          "name": "stdout",
          "text": [
            "Archive:  ./data/review_polarity.zip\n",
            "replace ./data/__MACOSX/._review_polarity? [y]es, [n]o, [A]ll, [N]one, [r]ename: n\n",
            "replace ./data/review_polarity/.DS_Store? [y]es, [n]o, [A]ll, [N]one, [r]ename: N\n"
          ]
        }
      ]
    },
    {
      "cell_type": "code",
      "source": [
        "!ls data/review_polarity/pos"
      ],
      "metadata": {
        "colab": {
          "base_uri": "https://localhost:8080/"
        },
        "id": "F2-W8PCCArxJ",
        "outputId": "dbfb9601-a08d-4b2c-a2c5-ad5533e18a8d"
      },
      "execution_count": null,
      "outputs": [
        {
          "output_type": "stream",
          "name": "stdout",
          "text": [
            "cv000_29590.txt  cv250_25616.txt  cv500_10251.txt  cv750_10180.txt\n",
            "cv001_18431.txt  cv251_22636.txt  cv501_11657.txt  cv751_15719.txt\n",
            "cv002_15918.txt  cv252_23779.txt  cv502_10406.txt  cv752_24155.txt\n",
            "cv003_11664.txt  cv253_10077.txt  cv503_10558.txt  cv753_10875.txt\n",
            "cv004_11636.txt  cv254_6027.txt   cv504_29243.txt  cv754_7216.txt\n",
            "cv005_29443.txt  cv255_13683.txt  cv505_12090.txt  cv755_23616.txt\n",
            "cv006_15448.txt  cv256_14740.txt  cv506_15956.txt  cv756_22540.txt\n",
            "cv007_4968.txt\t cv257_10975.txt  cv507_9220.txt   cv757_10189.txt\n",
            "cv008_29435.txt  cv258_5792.txt   cv508_16006.txt  cv758_9671.txt\n",
            "cv009_29592.txt  cv259_10934.txt  cv509_15888.txt  cv759_13522.txt\n",
            "cv010_29198.txt  cv260_13959.txt  cv510_23360.txt  cv760_8597.txt\n",
            "cv011_12166.txt  cv261_10954.txt  cv511_10132.txt  cv761_12620.txt\n",
            "cv012_29576.txt  cv262_12649.txt  cv512_15965.txt  cv762_13927.txt\n",
            "cv013_10159.txt  cv263_19259.txt  cv513_6923.txt   cv763_14729.txt\n",
            "cv014_13924.txt  cv264_12801.txt  cv514_11187.txt  cv764_11739.txt\n",
            "cv015_29439.txt  cv265_10814.txt  cv515_17069.txt  cv765_19037.txt\n",
            "cv016_4659.txt\t cv266_25779.txt  cv516_11172.txt  cv766_7540.txt\n",
            "cv017_22464.txt  cv267_14952.txt  cv517_19219.txt  cv767_14062.txt\n",
            "cv018_20137.txt  cv268_18834.txt  cv518_13331.txt  cv768_11751.txt\n",
            "cv019_14482.txt  cv269_21732.txt  cv519_14661.txt  cv769_8123.txt\n",
            "cv020_8825.txt\t cv270_6079.txt   cv520_12295.txt  cv770_10451.txt\n",
            "cv021_15838.txt  cv271_13837.txt  cv521_15828.txt  cv771_28665.txt\n",
            "cv022_12864.txt  cv272_18974.txt  cv522_5583.txt   cv772_12119.txt\n",
            "cv023_12672.txt  cv273_29112.txt  cv523_16615.txt  cv773_18817.txt\n",
            "cv024_6778.txt\t cv274_25253.txt  cv524_23627.txt  cv774_13845.txt\n",
            "cv025_3108.txt\t cv275_28887.txt  cv525_16122.txt  cv775_16237.txt\n",
            "cv026_29325.txt  cv276_15684.txt  cv526_12083.txt  cv776_20529.txt\n",
            "cv027_25219.txt  cv277_19091.txt  cv527_10123.txt  cv777_10094.txt\n",
            "cv028_26746.txt  cv278_13041.txt  cv528_10822.txt  cv778_17330.txt\n",
            "cv029_18643.txt  cv279_18329.txt  cv529_10420.txt  cv779_17881.txt\n",
            "cv030_21593.txt  cv280_8267.txt   cv530_16212.txt  cv780_7984.txt\n",
            "cv031_18452.txt  cv281_23253.txt  cv531_26486.txt  cv781_5262.txt\n",
            "cv032_22550.txt  cv282_6653.txt   cv532_6522.txt   cv782_19526.txt\n",
            "cv033_24444.txt  cv283_11055.txt  cv533_9821.txt   cv783_13227.txt\n",
            "cv034_29647.txt  cv284_19119.txt  cv534_14083.txt  cv784_14394.txt\n",
            "cv035_3954.txt\t cv285_16494.txt  cv535_19728.txt  cv785_22600.txt\n",
            "cv036_16831.txt  cv286_25050.txt  cv536_27134.txt  cv786_22497.txt\n",
            "cv037_18510.txt  cv287_15900.txt  cv537_12370.txt  cv787_13743.txt\n",
            "cv038_9749.txt\t cv288_18791.txt  cv538_28667.txt  cv788_25272.txt\n",
            "cv039_6170.txt\t cv289_6463.txt   cv539_20347.txt  cv789_12136.txt\n",
            "cv040_8276.txt\t cv290_11084.txt  cv540_3421.txt   cv790_14600.txt\n",
            "cv041_21113.txt  cv291_26635.txt  cv541_28835.txt  cv791_16302.txt\n",
            "cv042_10982.txt  cv292_7282.txt   cv542_18980.txt  cv792_3832.txt\n",
            "cv043_15013.txt  cv293_29856.txt  cv543_5045.txt   cv793_13650.txt\n",
            "cv044_16969.txt  cv294_11684.txt  cv544_5108.txt   cv794_15868.txt\n",
            "cv045_23923.txt  cv295_15570.txt  cv545_12014.txt  cv795_10122.txt\n",
            "cv046_10188.txt  cv296_12251.txt  cv546_11767.txt  cv796_15782.txt\n",
            "cv047_1754.txt\t cv297_10047.txt  cv547_16324.txt  cv797_6957.txt\n",
            "cv048_16828.txt  cv298_23111.txt  cv548_17731.txt  cv798_23531.txt\n",
            "cv049_20471.txt  cv299_16214.txt  cv549_21443.txt  cv799_18543.txt\n",
            "cv050_11175.txt  cv300_22284.txt  cv550_22211.txt  cv800_12368.txt\n",
            "cv051_10306.txt  cv301_12146.txt  cv551_10565.txt  cv801_25228.txt\n",
            "cv052_29378.txt  cv302_25649.txt  cv552_10016.txt  cv802_28664.txt\n",
            "cv053_21822.txt  cv303_27520.txt  cv553_26915.txt  cv803_8207.txt\n",
            "cv054_4230.txt\t cv304_28706.txt  cv554_13151.txt  cv804_10862.txt\n",
            "cv055_8338.txt\t cv305_9946.txt   cv555_23922.txt  cv805_19601.txt\n",
            "cv056_13133.txt  cv306_10364.txt  cv556_14808.txt  cv806_8842.txt\n",
            "cv057_7453.txt\t cv307_25270.txt  cv557_11449.txt  cv807_21740.txt\n",
            "cv058_8025.txt\t cv308_5016.txt   cv558_29507.txt  cv808_12635.txt\n",
            "cv059_28885.txt  cv309_22571.txt  cv559_0050.txt   cv809_5009.txt\n",
            "cv060_10844.txt  cv310_13091.txt  cv560_17175.txt  cv810_12458.txt\n",
            "cv061_8837.txt\t cv311_16002.txt  cv561_9201.txt   cv811_21386.txt\n",
            "cv062_23115.txt  cv312_29377.txt  cv562_10359.txt  cv812_17924.txt\n",
            "cv063_28997.txt  cv313_18198.txt  cv563_17257.txt  cv813_6534.txt\n",
            "cv064_24576.txt  cv314_14422.txt  cv564_11110.txt  cv814_18975.txt\n",
            "cv065_15248.txt  cv315_11629.txt  cv565_29572.txt  cv815_22456.txt\n",
            "cv066_10821.txt  cv316_6370.txt   cv566_8581.txt   cv816_13655.txt\n",
            "cv067_19774.txt  cv317_24049.txt  cv567_29611.txt  cv817_4041.txt\n",
            "cv068_13400.txt  cv318_10493.txt  cv568_15638.txt  cv818_10211.txt\n",
            "cv069_10801.txt  cv319_14727.txt  cv569_26381.txt  cv819_9364.txt\n",
            "cv070_12289.txt  cv320_9530.txt   cv570_29082.txt  cv820_22892.txt\n",
            "cv071_12095.txt  cv321_12843.txt  cv571_29366.txt  cv821_29364.txt\n",
            "cv072_6169.txt\t cv322_20318.txt  cv572_18657.txt  cv822_20049.txt\n",
            "cv073_21785.txt  cv323_29805.txt  cv573_29525.txt  cv823_15569.txt\n",
            "cv074_6875.txt\t cv324_7082.txt   cv574_22156.txt  cv824_8838.txt\n",
            "cv075_6500.txt\t cv325_16629.txt  cv575_21150.txt  cv825_5063.txt\n",
            "cv076_24945.txt  cv326_13295.txt  cv576_14094.txt  cv826_11834.txt\n",
            "cv077_22138.txt  cv327_20292.txt  cv577_28549.txt  cv827_18331.txt\n",
            "cv078_14730.txt  cv328_10373.txt  cv578_15094.txt  cv828_19831.txt\n",
            "cv079_11933.txt  cv329_29370.txt  cv579_11605.txt  cv829_20289.txt\n",
            "cv080_13465.txt  cv330_29809.txt  cv580_14064.txt  cv830_6014.txt\n",
            "cv081_16582.txt  cv331_8273.txt   cv581_19381.txt  cv831_14689.txt\n",
            "cv082_11080.txt  cv332_16307.txt  cv582_6559.txt   cv832_23275.txt\n",
            "cv083_24234.txt  cv333_8916.txt   cv583_29692.txt  cv833_11053.txt\n",
            "cv084_13566.txt  cv334_10001.txt  cv584_29722.txt  cv834_22195.txt\n",
            "cv085_1381.txt\t cv335_14665.txt  cv585_22496.txt  cv835_19159.txt\n",
            "cv086_18371.txt  cv336_10143.txt  cv586_7543.txt   cv836_12968.txt\n",
            "cv087_1989.txt\t cv337_29181.txt  cv587_19162.txt  cv837_27325.txt\n",
            "cv088_24113.txt  cv338_8821.txt   cv588_13008.txt  cv838_24728.txt\n",
            "cv089_11418.txt  cv339_21119.txt  cv589_12064.txt  cv839_21467.txt\n",
            "cv090_0042.txt\t cv340_13287.txt  cv590_19290.txt  cv840_16321.txt\n",
            "cv091_7400.txt\t cv341_24430.txt  cv591_23640.txt  cv841_3967.txt\n",
            "cv092_28017.txt  cv342_19456.txt  cv592_22315.txt  cv842_5866.txt\n",
            "cv093_13951.txt  cv343_10368.txt  cv593_10987.txt  cv843_15544.txt\n",
            "cv094_27889.txt  cv344_5312.txt   cv594_11039.txt  cv844_12690.txt\n",
            "cv095_28892.txt  cv345_9954.txt   cv595_25335.txt  cv845_14290.txt\n",
            "cv096_11474.txt  cv346_18168.txt  cv596_28311.txt  cv846_29497.txt\n",
            "cv097_24970.txt  cv347_13194.txt  cv597_26360.txt  cv847_1941.txt\n",
            "cv098_15435.txt  cv348_18176.txt  cv598_16452.txt  cv848_10036.txt\n",
            "cv099_10534.txt  cv349_13507.txt  cv599_20988.txt  cv849_15729.txt\n",
            "cv100_11528.txt  cv350_20670.txt  cv600_23878.txt  cv850_16466.txt\n",
            "cv101_10175.txt  cv351_15458.txt  cv601_23453.txt  cv851_20469.txt\n",
            "cv102_7846.txt\t cv352_5524.txt   cv602_8300.txt   cv852_27523.txt\n",
            "cv103_11021.txt  cv353_18159.txt  cv603_17694.txt  cv853_29233.txt\n",
            "cv104_18134.txt  cv354_8132.txt   cv604_2230.txt   cv854_17740.txt\n",
            "cv105_17990.txt  cv355_16413.txt  cv605_11800.txt  cv855_20661.txt\n",
            "cv106_16807.txt  cv356_25163.txt  cv606_15985.txt  cv856_29013.txt\n",
            "cv107_24319.txt  cv357_13156.txt  cv607_7717.txt   cv857_15958.txt\n",
            "cv108_15571.txt  cv358_10691.txt  cv608_23231.txt  cv858_18819.txt\n",
            "cv109_21172.txt  cv359_6647.txt   cv609_23877.txt  cv859_14107.txt\n",
            "cv110_27788.txt  cv360_8398.txt   cv610_2287.txt   cv860_13853.txt\n",
            "cv111_11473.txt  cv361_28944.txt  cv611_21120.txt  cv861_1198.txt\n",
            "cv112_11193.txt  cv362_15341.txt  cv612_5461.txt   cv862_14324.txt\n",
            "cv113_23102.txt  cv363_29332.txt  cv613_21796.txt  cv863_7424.txt\n",
            "cv114_18398.txt  cv364_12901.txt  cv614_10626.txt  cv864_3416.txt\n",
            "cv115_25396.txt  cv365_11576.txt  cv615_14182.txt  cv865_2895.txt\n",
            "cv116_28942.txt  cv366_10221.txt  cv616_29319.txt  cv866_29691.txt\n",
            "cv117_24295.txt  cv367_22792.txt  cv617_9322.txt   cv867_16661.txt\n",
            "cv118_28980.txt  cv368_10466.txt  cv618_8974.txt   cv868_11948.txt\n",
            "cv119_9867.txt\t cv369_12886.txt  cv619_12462.txt  cv869_23611.txt\n",
            "cv120_4111.txt\t cv370_5221.txt   cv620_24265.txt  cv870_16348.txt\n",
            "cv121_17302.txt  cv371_7630.txt   cv621_14368.txt  cv871_24888.txt\n",
            "cv122_7392.txt\t cv372_6552.txt   cv622_8147.txt   cv872_12591.txt\n",
            "cv123_11182.txt  cv373_20404.txt  cv623_15356.txt  cv873_18636.txt\n",
            "cv124_4122.txt\t cv374_25436.txt  cv624_10744.txt  cv874_11236.txt\n",
            "cv125_9391.txt\t cv375_9929.txt   cv625_12440.txt  cv875_5754.txt\n",
            "cv126_28971.txt  cv376_19435.txt  cv626_7410.txt   cv876_9390.txt\n",
            "cv127_14711.txt  cv377_7946.txt   cv627_11620.txt  cv877_29274.txt\n",
            "cv128_29627.txt  cv378_20629.txt  cv628_19325.txt  cv878_15694.txt\n",
            "cv129_16741.txt  cv379_21963.txt  cv629_14909.txt  cv879_14903.txt\n",
            "cv130_17083.txt  cv380_7574.txt   cv630_10057.txt  cv880_29800.txt\n",
            "cv131_10713.txt  cv381_20172.txt  cv631_4967.txt   cv881_13254.txt\n",
            "cv132_5618.txt\t cv382_7897.txt   cv632_9610.txt   cv882_10026.txt\n",
            "cv133_16336.txt  cv383_13116.txt  cv633_29837.txt  cv883_27751.txt\n",
            "cv134_22246.txt  cv384_17140.txt  cv634_11101.txt  cv884_13632.txt\n",
            "cv135_11603.txt  cv385_29741.txt  cv635_10022.txt  cv885_12318.txt\n",
            "cv136_11505.txt  cv386_10080.txt  cv636_15279.txt  cv886_18177.txt\n",
            "cv137_15422.txt  cv387_11507.txt  cv637_1250.txt   cv887_5126.txt\n",
            "cv138_12721.txt  cv388_12009.txt  cv638_2953.txt   cv888_24435.txt\n",
            "cv139_12873.txt  cv389_9369.txt   cv639_10308.txt  cv889_21430.txt\n",
            "cv140_7479.txt\t cv390_11345.txt  cv640_5378.txt   cv890_3977.txt\n",
            "cv141_15686.txt  cv391_10802.txt  cv641_12349.txt  cv891_6385.txt\n",
            "cv142_22516.txt  cv392_11458.txt  cv642_29867.txt  cv892_17576.txt\n",
            "cv143_19666.txt  cv393_29327.txt  cv643_29349.txt  cv893_26269.txt\n",
            "cv144_5007.txt\t cv394_5137.txt   cv644_17154.txt  cv894_2068.txt\n",
            "cv145_11472.txt  cv395_10849.txt  cv645_15668.txt  cv895_21022.txt\n",
            "cv146_18458.txt  cv396_17989.txt  cv646_15065.txt  cv896_16071.txt\n",
            "cv147_21193.txt  cv397_29023.txt  cv647_13691.txt  cv897_10837.txt\n",
            "cv148_16345.txt  cv398_15537.txt  cv648_15792.txt  cv898_14187.txt\n",
            "cv149_15670.txt  cv399_2877.txt   cv649_12735.txt  cv899_16014.txt\n",
            "cv150_12916.txt  cv400_19220.txt  cv650_14340.txt  cv900_10331.txt\n",
            "cv151_15771.txt  cv401_12605.txt  cv651_10492.txt  cv901_11017.txt\n",
            "cv152_8736.txt\t cv402_14425.txt  cv652_13972.txt  cv902_12256.txt\n",
            "cv153_10779.txt  cv403_6621.txt   cv653_19583.txt  cv903_17822.txt\n",
            "cv154_9328.txt\t cv404_20315.txt  cv654_18246.txt  cv904_24353.txt\n",
            "cv155_7308.txt\t cv405_20399.txt  cv655_11154.txt  cv905_29114.txt\n",
            "cv156_10481.txt  cv406_21020.txt  cv656_24201.txt  cv906_11491.txt\n",
            "cv157_29372.txt  cv407_22637.txt  cv657_24513.txt  cv907_3541.txt\n",
            "cv158_10390.txt  cv408_5297.txt   cv658_10532.txt  cv908_16009.txt\n",
            "cv159_29505.txt  cv409_29786.txt  cv659_19944.txt  cv909_9960.txt\n",
            "cv160_10362.txt  cv410_24266.txt  cv660_21893.txt  cv910_20488.txt\n",
            "cv161_11425.txt  cv411_15007.txt  cv661_2450.txt   cv911_20260.txt\n",
            "cv162_10424.txt  cv412_24095.txt  cv662_13320.txt  cv912_5674.txt\n",
            "cv163_10052.txt  cv413_7398.txt   cv663_13019.txt  cv913_29252.txt\n",
            "cv164_22447.txt  cv414_10518.txt  cv664_4389.txt   cv914_28742.txt\n",
            "cv165_22619.txt  cv415_22517.txt  cv665_29538.txt  cv915_8841.txt\n",
            "cv166_11052.txt  cv416_11136.txt  cv666_18963.txt  cv916_15467.txt\n",
            "cv167_16376.txt  cv417_13115.txt  cv667_18467.txt  cv917_29715.txt\n",
            "cv168_7050.txt\t cv418_14774.txt  cv668_17604.txt  cv918_2693.txt\n",
            "cv169_23778.txt  cv419_13394.txt  cv669_22995.txt  cv919_16380.txt\n",
            "cv170_3006.txt\t cv420_28795.txt  cv670_25826.txt  cv920_29622.txt\n",
            "cv171_13537.txt  cv421_9709.txt   cv671_5054.txt   cv921_12747.txt\n",
            "cv172_11131.txt  cv422_9381.txt   cv672_28083.txt  cv922_10073.txt\n",
            "cv173_4471.txt\t cv423_11155.txt  cv673_24714.txt  cv923_11051.txt\n",
            "cv174_9659.txt\t cv424_8831.txt   cv674_10732.txt  cv924_29540.txt\n",
            "cv175_6964.txt\t cv425_8250.txt   cv675_21588.txt  cv925_8969.txt\n",
            "cv176_12857.txt  cv426_10421.txt  cv676_21090.txt  cv926_17059.txt\n",
            "cv177_10367.txt  cv427_10825.txt  cv677_17715.txt  cv927_10681.txt\n",
            "cv178_12972.txt  cv428_11347.txt  cv678_13419.txt  cv928_9168.txt\n",
            "cv179_9228.txt\t cv429_7439.txt   cv679_28559.txt  cv929_16908.txt\n",
            "cv180_16113.txt  cv430_17351.txt  cv680_10160.txt  cv930_13475.txt\n",
            "cv181_14401.txt  cv431_7085.txt   cv681_9692.txt   cv931_17563.txt\n",
            "cv182_7281.txt\t cv432_14224.txt  cv682_16139.txt  cv932_13401.txt\n",
            "cv183_18612.txt  cv433_10144.txt  cv683_12167.txt  cv933_23776.txt\n",
            "cv184_2673.txt\t cv434_5793.txt   cv684_11798.txt  cv934_19027.txt\n",
            "cv185_28654.txt  cv435_23110.txt  cv685_5947.txt   cv935_23841.txt\n",
            "cv186_2269.txt\t cv436_19179.txt  cv686_13900.txt  cv936_15954.txt\n",
            "cv187_12829.txt  cv437_22849.txt  cv687_21100.txt  cv937_9811.txt\n",
            "cv188_19226.txt  cv438_8043.txt   cv688_7368.txt   cv938_10220.txt\n",
            "cv189_22934.txt  cv439_15970.txt  cv689_12587.txt  cv939_10583.txt\n",
            "cv190_27052.txt  cv440_15243.txt  cv690_5619.txt   cv940_17705.txt\n",
            "cv191_29719.txt  cv441_13711.txt  cv691_5043.txt   cv941_10246.txt\n",
            "cv192_14395.txt  cv442_13846.txt  cv692_15451.txt  cv942_17082.txt\n",
            "cv193_5416.txt\t cv443_21118.txt  cv693_18063.txt  cv943_22488.txt\n",
            "cv194_12079.txt  cv444_9974.txt   cv694_4876.txt   cv944_13521.txt\n",
            "cv195_14528.txt  cv445_25882.txt  cv695_21108.txt  cv945_12160.txt\n",
            "cv196_29027.txt  cv446_11353.txt  cv696_29740.txt  cv946_18658.txt\n",
            "cv197_29328.txt  cv447_27332.txt  cv697_11162.txt  cv947_10601.txt\n",
            "cv198_18180.txt  cv448_14695.txt  cv698_15253.txt  cv948_24606.txt\n",
            "cv199_9629.txt\t cv449_8785.txt   cv699_7223.txt   cv949_20112.txt\n",
            "cv200_2915.txt\t cv450_7890.txt   cv700_21947.txt  cv950_12350.txt\n",
            "cv201_6997.txt\t cv451_10690.txt  cv701_14252.txt  cv951_10926.txt\n",
            "cv202_10654.txt  cv452_5088.txt   cv702_11500.txt  cv952_25240.txt\n",
            "cv203_17986.txt  cv453_10379.txt  cv703_16143.txt  cv953_6836.txt\n",
            "cv204_8451.txt\t cv454_2053.txt   cv704_15969.txt  cv954_18628.txt\n",
            "cv205_9457.txt\t cv455_29000.txt  cv705_11059.txt  cv955_25001.txt\n",
            "cv206_14293.txt  cv456_18985.txt  cv706_24716.txt  cv956_11609.txt\n",
            "cv207_29284.txt  cv457_18453.txt  cv707_10678.txt  cv957_8737.txt\n",
            "cv208_9020.txt\t cv458_8604.txt   cv708_28729.txt  cv958_12162.txt\n",
            "cv209_29118.txt  cv459_20319.txt  cv709_10529.txt  cv959_14611.txt\n",
            "cv210_9312.txt\t cv460_10842.txt  cv710_22577.txt  cv960_29007.txt\n",
            "cv211_9953.txt\t cv461_19600.txt  cv711_11665.txt  cv961_5682.txt\n",
            "cv212_10027.txt  cv462_19350.txt  cv712_22920.txt  cv962_9803.txt\n",
            "cv213_18934.txt  cv463_10343.txt  cv713_29155.txt  cv963_6895.txt\n",
            "cv214_12294.txt  cv464_15650.txt  cv714_18502.txt  cv964_6021.txt\n",
            "cv215_22240.txt  cv465_22431.txt  cv715_18179.txt  cv965_26071.txt\n",
            "cv216_18738.txt  cv466_18722.txt  cv716_10514.txt  cv966_28832.txt\n",
            "cv217_28842.txt  cv467_25773.txt  cv717_15953.txt  cv967_5788.txt\n",
            "cv218_24352.txt  cv468_15228.txt  cv718_11434.txt  cv968_24218.txt\n",
            "cv219_18626.txt  cv469_20630.txt  cv719_5713.txt   cv969_13250.txt\n",
            "cv220_29059.txt  cv470_15952.txt  cv720_5389.txt   cv970_18450.txt\n",
            "cv221_2695.txt\t cv471_16858.txt  cv721_29121.txt  cv971_10874.txt\n",
            "cv222_17395.txt  cv472_29280.txt  cv722_7110.txt   cv972_26417.txt\n",
            "cv223_29066.txt  cv473_7367.txt   cv723_8648.txt   cv973_10066.txt\n",
            "cv224_17661.txt  cv474_10209.txt  cv724_13681.txt  cv974_22941.txt\n",
            "cv225_29224.txt  cv475_21692.txt  cv725_10103.txt  cv975_10981.txt\n",
            "cv226_2618.txt\t cv476_16856.txt  cv726_4719.txt   cv976_10267.txt\n",
            "cv227_24215.txt  cv477_22479.txt  cv727_4978.txt   cv977_4938.txt\n",
            "cv228_5806.txt\t cv478_14309.txt  cv728_16133.txt  cv978_20929.txt\n",
            "cv229_13611.txt  cv479_5649.txt   cv729_10154.txt  cv979_18921.txt\n",
            "cv230_7428.txt\t cv480_19817.txt  cv730_10279.txt  cv980_10953.txt\n",
            "cv231_10425.txt  cv481_7436.txt   cv731_4136.txt   cv981_14989.txt\n",
            "cv232_14991.txt  cv482_10580.txt  cv732_12245.txt  cv982_21103.txt\n",
            "cv233_15964.txt  cv483_16378.txt  cv733_9839.txt   cv983_22928.txt\n",
            "cv234_20643.txt  cv484_25054.txt  cv734_21568.txt  cv984_12767.txt\n",
            "cv235_10217.txt  cv485_26649.txt  cv735_18801.txt  cv985_6359.txt\n",
            "cv236_11565.txt  cv486_9799.txt   cv736_23670.txt  cv986_13527.txt\n",
            "cv237_19221.txt  cv487_10446.txt  cv737_28907.txt  cv987_6965.txt\n",
            "cv238_12931.txt  cv488_19856.txt  cv738_10116.txt  cv988_18740.txt\n",
            "cv239_3385.txt\t cv489_17906.txt  cv739_11209.txt  cv989_15824.txt\n",
            "cv240_14336.txt  cv490_17872.txt  cv740_12445.txt  cv990_11591.txt\n",
            "cv241_23130.txt  cv491_12145.txt  cv741_11890.txt  cv991_18645.txt\n",
            "cv242_10638.txt  cv492_18271.txt  cv742_7751.txt   cv992_11962.txt\n",
            "cv243_20728.txt  cv493_12839.txt  cv743_15449.txt  cv993_29737.txt\n",
            "cv244_21649.txt  cv494_17389.txt  cv744_10038.txt  cv994_12270.txt\n",
            "cv245_8569.txt\t cv495_14518.txt  cv745_12773.txt  cv995_21821.txt\n",
            "cv246_28807.txt  cv496_10530.txt  cv746_10147.txt  cv996_11592.txt\n",
            "cv247_13142.txt  cv497_26980.txt  cv747_16556.txt  cv997_5046.txt\n",
            "cv248_13987.txt  cv498_8832.txt   cv748_12786.txt  cv998_14111.txt\n",
            "cv249_11640.txt  cv499_10658.txt  cv749_17765.txt  cv999_13106.txt\n"
          ]
        }
      ]
    },
    {
      "cell_type": "code",
      "source": [
        "!cat data/review_polarity/pos/cv193_5416.txt"
      ],
      "metadata": {
        "colab": {
          "base_uri": "https://localhost:8080/"
        },
        "id": "pWmkSVh6CBip",
        "outputId": "6451cc7d-218e-495b-bb92-1db5673426ca"
      },
      "execution_count": null,
      "outputs": [
        {
          "output_type": "stream",
          "name": "stdout",
          "text": [
            "on the basis of this film alone , i never would have predicted that , in two years , quentin tarantino would become the country's biggest hotshot director . \n",
            "reservoir dogs has hints of the tarantino brilliance that emerged in pulp fiction , but is a much less substantive , more conventional crime story than the big pf . \n",
            "here's what the two movies do have in common . . . \n",
            "--scenes of intelligent , amusing dialogue with no relevance to the plot --a story that jumps back and forth in time rather than going in a logical , chronological sequence --graphic yet necessary violence --an engaging crime story --dialogue liberally spiced with swear words and racial/gender slurs --three of the same actors ( harvey keitel , tim roth and steve buscemi ) --a mexican standoff ending , although this one is considerably less optimistic than pf \n",
            "reservoir dogs is an entire hour shorter than pulp fiction because it's only got one story to tell rather than three . \n",
            "crime lord joe cabot ( veteran actor lawrence tierney ) has assembled five criminals who have never even met each other to pull a diamond store heist . \n",
            "the five are instructed not to reveal their real names or personal details or anything the cops could use if one of them was captured and interrogated . \n",
            "instead , they are all given code names off the color chart -- mr . white ( keitel ) , mr . pink ( buscemi ) , mr . orange ( roth ) , mr . blonde ( michael madsen ) , mr . brown ( tarantino ) and mr . peach ( tarantino's chin ) . \n",
            "most of the movie's running time is spent with mr . white and pink waiting at a warehouse for the others to arrive . \n",
            "mr . orange , meanwhile , is on the floor , dying from a gunshot wound . \n",
            "the police had arrived at the scene of the crime way too soon , leading white to believe one of the five was an informant . \n",
            "the story's background unfolds through a series of flashbacks , of the crime itself and the meetings between joe and the criminals prior to the crime . \n",
            "eventually , blonde arrives with a police officer hostage , and what follows is a truly brutal , uncomfortable torture scene . \n",
            "let's just say picasso would be inspired by what blonde does to the cop's ear . \n",
            "a lot of the time , reservoir dogs seems like your typical gangster heist-gone-wrong movie , but there are a few sequences that are uniquely tarantino . \n",
            "the opening scene in the coffee shop starts the movie off on a high note the rest of it doesn't live up to , as the criminals plus joe have a conversation on , among other things , tipping philosophies and their interpretations of madonna's \" like a virgin . \" \n",
            "another scene involves roth's lengthy manufactured story about running into a group of cops and a police dog in a bus station bathroom while carrying a giant bag of marijuana . \n",
            "neither of these have much plot relevance but are given ample time to develop , like the captain koons gold watch speech in pulp fiction , only here these sequences are more enjoyable than the rest of the movie . \n",
            "reservoir dogs is good but it's no pulp fiction . \n"
          ]
        }
      ]
    },
    {
      "cell_type": "code",
      "source": [
        "import glob\n",
        "\n",
        "# labels are based on which directory the files are in.\n",
        "all_pos = list(glob.glob(\"./data/review_polarity/pos/*\"))\n",
        "all_neg = list(glob.glob(\"./data/review_polarity/neg/*\"))\n",
        "labels = np.array([1] * len(all_pos) + [0] * len(all_neg))\n",
        "filenames = all_pos + all_neg"
      ],
      "metadata": {
        "id": "jkjx-0p3_Wvz"
      },
      "execution_count": null,
      "outputs": []
    },
    {
      "cell_type": "markdown",
      "source": [
        "We'll use TfidfVectorizer to convert each document into a (sparse) *feature* vector."
      ],
      "metadata": {
        "id": "atBZM4FWI2x4"
      }
    },
    {
      "cell_type": "code",
      "source": [
        "from sklearn.feature_extraction.text import TfidfVectorizer\n",
        "from sklearn.linear_model import LogisticRegression\n",
        "from sklearn.model_selection import train_test_split\n",
        "\n",
        "vec = TfidfVectorizer(input='filename', stop_words='english')\n",
        "X = vec.fit_transform(filenames)\n",
        "X.shape"
      ],
      "metadata": {
        "colab": {
          "base_uri": "https://localhost:8080/"
        },
        "id": "MU1axtAEAYM6",
        "outputId": "0e949c38-0483-42fc-fee4-782639aa6be4"
      },
      "execution_count": null,
      "outputs": [
        {
          "output_type": "execute_result",
          "data": {
            "text/plain": [
              "(2000, 39354)"
            ]
          },
          "metadata": {},
          "execution_count": 27
        }
      ]
    },
    {
      "cell_type": "markdown",
      "source": [
        "So, we have 2000 documents and 39,659 unique words.\n",
        "\n",
        "How big is this matrix?\n",
        "\n",
        "Wait, how do we store that?\n",
        "\n",
        "dense matrix:\n",
        "$$\n",
        "X=\n",
        "  \\begin{bmatrix}\n",
        "    0.1 & 2.8 & 3.2 & ... & 1.5 \\\\\n",
        "    3.2 & 4.1 & 5.1 & ... & 2.7  \\\\\n",
        "    ...\\\\\n",
        "    1.4 & 3.4 & 7.5 & ... & 7.5  \\\\\n",
        "  \\end{bmatrix}\n",
        "$$\n",
        "\n",
        "sparse matrix:\n",
        "$$\n",
        "X=\n",
        "  \\begin{bmatrix}\n",
        "    0.1 & 0 & 0 & ... & 1.5 \\\\\n",
        "    0 & 0 & 0 & ... & 2.7  \\\\\n",
        "    ...\\\\\n",
        "    0 & 3.4 & 0 & ... & 0  \\\\\n",
        "  \\end{bmatrix}\n",
        "$$\n",
        "\n",
        "How can we store a sparse matrix more efficiently?\n",
        "\n",
        "<br><br><br>\n",
        "[CSR matrix](https://docs.scipy.org/doc/scipy/reference/generated/scipy.sparse.csr_matrix.html)"
      ],
      "metadata": {
        "id": "HpsQVY9DDf4h"
      }
    },
    {
      "cell_type": "code",
      "source": [
        "X[0]"
      ],
      "metadata": {
        "colab": {
          "base_uri": "https://localhost:8080/"
        },
        "id": "iT0AxAWxDnn6",
        "outputId": "d85e9241-f70d-43bb-9258-c728fb567ac1"
      },
      "execution_count": null,
      "outputs": [
        {
          "output_type": "execute_result",
          "data": {
            "text/plain": [
              "<1x39354 sparse matrix of type '<class 'numpy.float64'>'\n",
              "\twith 263 stored elements in Compressed Sparse Row format>"
            ]
          },
          "metadata": {},
          "execution_count": 28
        }
      ]
    },
    {
      "cell_type": "code",
      "source": [
        "filenames[0]"
      ],
      "metadata": {
        "colab": {
          "base_uri": "https://localhost:8080/",
          "height": 36
        },
        "id": "Vfou1bkiEADv",
        "outputId": "f3993328-fa0d-4764-a0b3-d12ef6be672f"
      },
      "execution_count": null,
      "outputs": [
        {
          "output_type": "execute_result",
          "data": {
            "text/plain": [
              "'./data/review_polarity/pos/cv839_21467.txt'"
            ],
            "application/vnd.google.colaboratory.intrinsic+json": {
              "type": "string"
            }
          },
          "metadata": {},
          "execution_count": 29
        }
      ]
    },
    {
      "cell_type": "code",
      "source": [
        "!cat ./data/review_polarity/pos/cv839_21467.txt"
      ],
      "metadata": {
        "colab": {
          "base_uri": "https://localhost:8080/"
        },
        "id": "TclbqfRcDuAo",
        "outputId": "a87677c5-436d-43e6-a392-37d47a14d552"
      },
      "execution_count": null,
      "outputs": [
        {
          "output_type": "stream",
          "name": "stdout",
          "text": [
            "assume nothing . \n",
            "the phrase is perhaps one of the most used of the 1990's , as first impressions and rumors are hardly ever what they seem to be . \n",
            "the phrase especially goes for oscar novak , an architect who is the main focus of three to tango , a delightful , funny romantic comedy about assumptions and being yourself . \n",
            "novak ( matthew perry ) , a shy , clumsy , chicago based architect , along with openly gay partner , peter steinberg ( oliver platt ) , fights for projects day in and day out . \n",
            "one of these is the job of restoring a popular building for charles newman ( dylan mcdermott ) , a rich , well-known businessman . \n",
            "charles immediately takes a liking to oscar , as he enjoys his personality and sense of humor . \n",
            "seeing oscar as someone he could trust , charles asks him to watch his girlfriend , an unpredictable , adventurous girl named amy post ( neve campbell ) , who makes a living by blowing glass . \n",
            "charles wants to know who she talks to , what she does , and where she goes . \n",
            "the point ? \n",
            "to make sure she's not seeing someone else , of course . \n",
            "oscar gladly takes the job , and meets amy at an art show of hers , and sparks fly between the two from the get go . \n",
            "oscar feels he has found the one meant for him , and he is content with the idea of being with amy . \n",
            "well , another popular phrase of the 90's is \" all good things must come to an end , \" and this stays true for oscar as well . \n",
            "charles walks in on amy and oscar having a drink one night , as oscar and amy have become great friends , but he doesn't seem to mind . \n",
            "why is this ? \n",
            "he thinks oscar is gay . \n",
            "he's not afraid to share this with him either . \n",
            "oscar stands in shock after the words , \" i swear if you weren't gay oscar , i'd have to kill you , \" are muttered flamboyantly from charles' mouth . \n",
            "the word spreads instantly through town . \n",
            "will oscar \" come out \" of his supposed gayness , or will he tell everyone that he isn't ? \n",
            "one would immediately think he would deny the fact , but numerous occurrences come to oscar , which result in the fact that if he denies the fact , he could lose his job with charles . \n",
            "matthew perry doesn't escape his character as chandler on the already classic t . v . \n",
            "comedy \" friends , \" as both oscar novak and chandler are clueless , shy , and sensitive . \n",
            "nonetheless , perry is hilarious here , and shows that he can handle drama , as obviously , his character suffers quite a bit here . \n",
            "it's wonderful to see neve campbell outside of a horror movie , ( she was the star of scream 1 and 2 , and the upcoming scream 3 ) as she handles comedy superbly here . \n",
            "her voice , smile , and personality are more than perfect for romantic comedies- stay with this genre , neve . \n",
            "neve is delightful as her conflicted character , who feels love for oscar , but knows , based on rumors , that he is gay . \n",
            "as usual , campbell is likable as her likable character . \n",
            "unlike the other two leads here , dylan mcdermott is flat in his dialogue , and is never convincing . \n",
            "when his character his present , mcdermott sets a dull tone to the scene with his horrible acting . \n",
            "stick to the t . v . \n",
            "drama , the practice , dylan . \n",
            "the major weak spot in three to tango is the direction of damon santostefano . \n",
            "no originality or technique is used whatsoever . \n",
            "three to tango is lucky that the script is so edgy and that perry and campbell are wonderful in comedy , or else the film would have been a disaster , as it is just plain boring to look at . \n",
            "three to tango is a film done many times before , as the plot is suspiciously close to 1998's the object of my affection , but the plot has never been completed so well . \n",
            "three to tango's script , written by rodney patrick vaccaro and aline brosh mckenna is fun , fast , and funny , delivering not only original , hilarious gay jokes ( not your run of the mill material ) , but a certain snappiness in the dialogue between characters that always keeps you smiling . \n",
            "unlike last summer's south park : bigger , longer , and uncut and 1997's in & out , three to tango is a comedy in which the gay element is not crude or vulgar . \n",
            "the script is wise to take this route , as gays can't ( i don't think so , anyway ) be offended by this light , playful comedy . \n",
            " ( to prove this , a gay couple was in the audience who were laughing constantly . ) \n",
            "three to tango's climax is a hilarious , clever scene that is pure irony based on the outcome of most romantic-mistaken identity comedies . \n",
            "three to tango is a gem . \n",
            "the bottom line : three to tango is a light , sharp , snappy romantic comedy with a superb ending , and great stars . \n",
            "one of the better romantic comedies of 1999 . \n"
          ]
        }
      ]
    },
    {
      "cell_type": "code",
      "source": [
        "X[0].indices"
      ],
      "metadata": {
        "colab": {
          "base_uri": "https://localhost:8080/"
        },
        "id": "fPPKb_19EYEb",
        "outputId": "fb4defe0-b7b5-49e2-de2d-ba8eccb65589"
      },
      "execution_count": null,
      "outputs": [
        {
          "output_type": "execute_result",
          "data": {
            "text/plain": [
              "array([  215,  3713, 33191, 11543, 34046, 32255, 31236, 20421, 14400,\n",
              "       17135, 22506, 24614, 18418, 27573,  6569,  6593,  7495, 19893,\n",
              "        2651,  7953, 27357, 26198, 20329, 24218, 10368, 14351, 29824,\n",
              "       38692, 37937,  8322, 11247,   212, 36564, 20664,  3775, 25182,\n",
              "       32598, 33996, 32184, 19182,  5973, 32253,  5858, 21597, 29932,\n",
              "       18860, 24524,  9147, 12746, 14055, 21787,  4811,  1492, 37306,\n",
              "       25338, 29631, 38970,  7133,  1207, 24054,   213,  6639, 34236,\n",
              "       26259, 35371, 20683,  4375, 26140, 19034,  9852, 13085, 11062,\n",
              "       30674, 20857, 38405, 34785, 24525, 30227,  8645,  9793, 32913,\n",
              "       38223, 21159, 26699, 33355,   963, 16698, 30413, 35540, 10802,\n",
              "       31067, 26885,  7699,  9594, 13311, 19979, 36911, 20350, 37265,\n",
              "       19496, 20780,  7342, 14449, 33244,  6965, 25599, 32179, 37859,\n",
              "       34047, 15688, 37158, 30633, 33165, 22959, 16708, 24684, 38788,\n",
              "        3878, 27758, 33925, 24142, 10574, 15684, 31500, 16338, 23797,\n",
              "       30957,  6680,  6497,  5922,  5961, 11913, 20739,  9237, 29105,\n",
              "       24167, 23986, 12553,  9267, 35134, 18480, 34851, 14349, 34129,\n",
              "       35696, 18037, 32939, 38833, 22947, 13270, 23189, 19325, 38359,\n",
              "       34303, 38839, 31394, 33151, 31225,  1245, 35137, 22310, 10293,\n",
              "       13930, 15138, 23669, 10669, 15921, 38021, 36117, 33248, 11527,\n",
              "        6955, 35133, 14895,   418, 17111,  7572, 21837, 12872, 13495,\n",
              "       32665,  2321, 21906, 14665,  7968, 34144, 21167, 26337, 10292,\n",
              "       34579, 19488, 38076, 14691,  4106, 20531, 21172,  5340, 23557,\n",
              "       26600,  1738, 23269, 14632,  1158, 36984, 14634, 38155,  2404,\n",
              "       36138, 30837, 16927, 30946, 25710, 11630, 20365, 34553, 17293,\n",
              "        5113, 19495, 29352, 21740, 10920, 23582,  5994,  4939, 26489,\n",
              "       29089, 18811,  8789, 27189, 13056, 26180, 24291, 33289, 25770,\n",
              "       25241, 14346, 24381,  3211,  6155,  6686, 31560, 25690, 21641,\n",
              "        2496,  6967, 29682, 14089,  9130, 34624, 13511, 21140,  2173,\n",
              "       23919, 24562, 14840, 11935, 15774, 29927, 17443,   204, 37252,\n",
              "       25901,  2491], dtype=int32)"
            ]
          },
          "metadata": {},
          "execution_count": 31
        }
      ]
    },
    {
      "cell_type": "code",
      "source": [
        "feature_names = np.array(vec.get_feature_names_out())\n",
        "feature_names[X[0].indices]"
      ],
      "metadata": {
        "colab": {
          "base_uri": "https://localhost:8080/"
        },
        "id": "K1PM1PS9Ea2O",
        "outputId": "e8c61060-6869-4174-b58b-d464b4f49d00"
      },
      "execution_count": null,
      "outputs": [
        {
          "output_type": "execute_result",
          "data": {
            "text/plain": [
              "array(['1999', 'better', 'stars', 'ending', 'superb', 'snappy', 'sharp',\n",
              "       'line', 'gem', 'identity', 'mistaken', 'outcome', 'irony', 'pure',\n",
              "       'clever', 'climax', 'constantly', 'laughing', 'audience', 'couple',\n",
              "       'prove', 'playful', 'light', 'offended', 'don', 'gays', 'route',\n",
              "       'wise', 'vulgar', 'crude', 'element', '1997', 'uncut', 'longer',\n",
              "       'bigger', 'park', 'south', 'summer', 'smiling', 'keeps',\n",
              "       'characters', 'snappiness', 'certain', 'material', 'run', 'jokes',\n",
              "       'original', 'delivering', 'fast', 'fun', 'mckenna', 'brosh',\n",
              "       'aline', 'vaccaro', 'patrick', 'rodney', 'written', 'completed',\n",
              "       'affection', 'object', '1998', 'close', 'suspiciously', 'plot',\n",
              "       'times', 'look', 'boring', 'plain', 'just', 'disaster', 'film',\n",
              "       'edgy', 'script', 'lucky', 'whatsoever', 'technique',\n",
              "       'originality', 'santostefano', 'damon', 'direction', 'spot',\n",
              "       'weak', 'major', 'practice', 'stick', 'acting', 'horrible',\n",
              "       'scene', 'tone', 'dull', 'sets', 'present', 'convincing',\n",
              "       'dialogue', 'flat', 'leads', 'unlike', 'likable', 'usual', 'knows',\n",
              "       'love', 'conflicted', 'genre', 'stay', 'comedies', 'perfect',\n",
              "       'smile', 'voice', 'superbly', 'handles', 'upcoming', 'scream',\n",
              "       'star', 'movie', 'horror', 'outside', 'wonderful', 'bit', 'quite',\n",
              "       'suffers', 'obviously', 'drama', 'handle', 'shows', 'hilarious',\n",
              "       'nonetheless', 'sensitive', 'clueless', 'classic', 'chandler',\n",
              "       'character', 'escape', 'lose', 'denies', 'result', 'occurrences',\n",
              "       'numerous', 'fact', 'deny', 'think', 'isn', 'tell', 'gayness',\n",
              "       'supposed', 'town', 'instantly', 'spreads', 'word', 'mouth',\n",
              "       'flamboyantly', 'muttered', 'kill', 'weren', 'swear', 'words',\n",
              "       'shock', 'stands', 'share', 'afraid', 'thinks', 'mind', 'doesn',\n",
              "       'friends', 'great', 'night', 'drink', 'having', 'walks', 'true',\n",
              "       'stays', 'end', 'come', 'things', 'good', '90', 'idea', 'content',\n",
              "       'meant', 'feels', 'fly', 'sparks', 'art', 'meets', 'gladly',\n",
              "       'course', 'sure', 'make', 'point', 'does', 'talks', 'know',\n",
              "       'wants', 'glass', 'blowing', 'living', 'makes', 'campbell', 'neve',\n",
              "       'post', 'amy', 'named', 'girl', 'adventurous', 'unpredictable',\n",
              "       'girlfriend', 'watch', 'asks', 'trust', 'seeing', 'humor', 'sense',\n",
              "       'personality', 'enjoys', 'liking', 'takes', 'immediately',\n",
              "       'businessman', 'known', 'rich', 'mcdermott', 'dylan', 'newman',\n",
              "       'charles', 'building', 'popular', 'restoring', 'job', 'day',\n",
              "       'projects', 'fights', 'platt', 'oliver', 'steinberg', 'peter',\n",
              "       'partner', 'gay', 'openly', 'based', 'chicago', 'clumsy', 'shy',\n",
              "       'perry', 'matthew', 'assumptions', 'comedy', 'romantic', 'funny',\n",
              "       'delightful', 'tango', 'focus', 'main', 'architect', 'novak',\n",
              "       'oscar', 'goes', 'especially', 'hardly', 'rumors', 'impressions',\n",
              "       '1990', 'used', 'phrase', 'assume'], dtype=object)"
            ]
          },
          "metadata": {},
          "execution_count": 32
        }
      ]
    },
    {
      "cell_type": "code",
      "source": [
        "X[0].data"
      ],
      "metadata": {
        "colab": {
          "base_uri": "https://localhost:8080/"
        },
        "id": "5mVc4jNUErM6",
        "outputId": "c5d1b2d7-e133-453c-e899-ea5ddab4e3b4"
      },
      "execution_count": null,
      "outputs": [
        {
          "output_type": "execute_result",
          "data": {
            "text/plain": [
              "array([0.03030992, 0.01536371, 0.02056505, 0.02149539, 0.03072866,\n",
              "       0.04667269, 0.03257854, 0.02009914, 0.03697826, 0.03204523,\n",
              "       0.03805403, 0.03904346, 0.03640059, 0.03099175, 0.02636374,\n",
              "       0.0287055 , 0.02761026, 0.0296111 , 0.01587958, 0.02106223,\n",
              "       0.02953737, 0.04274086, 0.04955506, 0.04018568, 0.01394804,\n",
              "       0.05346218, 0.03878344, 0.02983679, 0.04596646, 0.0398832 ,\n",
              "       0.02838468, 0.0296111 , 0.04667269, 0.02838468, 0.03280309,\n",
              "       0.02991358, 0.03315323, 0.02400842, 0.04366829, 0.02690918,\n",
              "       0.01280582, 0.05859823, 0.02529702, 0.02422014, 0.02236194,\n",
              "       0.02517387, 0.01894227, 0.03621762, 0.02550695, 0.01882037,\n",
              "       0.05346218, 0.05859823, 0.05859823, 0.05559383, 0.03339619,\n",
              "       0.04832613, 0.0203709 , 0.04153664, 0.03658819, 0.03678066,\n",
              "       0.02904084, 0.02315503, 0.04745338, 0.02677612, 0.01836811,\n",
              "       0.01619999, 0.02383649, 0.03174275, 0.01044755, 0.03047458,\n",
              "       0.01677195, 0.04083041, 0.05101898, 0.03268997, 0.03552784,\n",
              "       0.03760481, 0.03352073, 0.05859823, 0.03782602, 0.02264588,\n",
              "       0.03268997, 0.03006958, 0.02294112, 0.0398832 , 0.03291798,\n",
              "       0.01718422, 0.03047458, 0.02859231, 0.02784004, 0.02851134,\n",
              "       0.02400842, 0.02590048, 0.02772426, 0.03875228, 0.02789862,\n",
              "       0.02411352, 0.05331253, 0.06388605, 0.0266067 , 0.02300161,\n",
              "       0.01566213, 0.04532173, 0.02411352, 0.02645997, 0.09493382,\n",
              "       0.02258821, 0.03174275, 0.02485512, 0.04083041, 0.03697826,\n",
              "       0.03760481, 0.06045787, 0.01828731, 0.00927828, 0.02328009,\n",
              "       0.02795766, 0.05092897, 0.01892474, 0.0180345 , 0.03404092,\n",
              "       0.02414889, 0.04643459, 0.03417689, 0.020653  , 0.07614084,\n",
              "       0.03431539, 0.03878344, 0.03640059, 0.02334342, 0.10361748,\n",
              "       0.06101056, 0.02772426, 0.03014883, 0.04832613, 0.02440132,\n",
              "       0.04667269, 0.03014883, 0.04952863, 0.04472863, 0.03291827,\n",
              "       0.0161396 , 0.02179891, 0.05559383, 0.02261699, 0.0236023 ,\n",
              "       0.03658819, 0.04667269, 0.02451219, 0.02983679, 0.05346218,\n",
              "       0.05346218, 0.02370177, 0.03236059, 0.04083041, 0.02493353,\n",
              "       0.03145214, 0.02897254, 0.02932048, 0.03417689, 0.02801718,\n",
              "       0.01991667, 0.02786033, 0.04380581, 0.03042717, 0.02058694,\n",
              "       0.03878344, 0.01861595, 0.03417689, 0.02094627, 0.03640059,\n",
              "       0.01471086, 0.04904088, 0.01639661, 0.01130427, 0.02968557,\n",
              "       0.02118004, 0.03214887, 0.03117249, 0.04986706, 0.03268997,\n",
              "       0.03931294, 0.02617494, 0.02509289, 0.04931556, 0.01773015,\n",
              "       0.01903059, 0.01241732, 0.01762652, 0.0128135 , 0.03474715,\n",
              "       0.01465158, 0.01973859, 0.03697826, 0.03931294, 0.02447505,\n",
              "       0.01497336, 0.14019852, 0.15513377, 0.03164461, 0.17602815,\n",
              "       0.02159519, 0.02118004, 0.04472863, 0.03853224, 0.02517387,\n",
              "       0.01817564, 0.0285755 , 0.03145214, 0.04319038, 0.02169635,\n",
              "       0.01917413, 0.0592222 , 0.03904346, 0.03878344, 0.03431315,\n",
              "       0.05361395, 0.0398832 , 0.02288113, 0.02626874, 0.14794668,\n",
              "       0.12822259, 0.04050104, 0.23377333, 0.02953737, 0.05189104,\n",
              "       0.04931556, 0.05698541, 0.03603796, 0.03569436, 0.03327371,\n",
              "       0.04153664, 0.03431539, 0.05559383, 0.02489422, 0.02999117,\n",
              "       0.22962166, 0.04319008, 0.06143439, 0.03489685, 0.03805403,\n",
              "       0.07756689, 0.17891453, 0.06128599, 0.05180874, 0.1231802 ,\n",
              "       0.12927852, 0.03519434, 0.07009926, 0.43493514, 0.0273874 ,\n",
              "       0.02074201, 0.09334538, 0.15542621, 0.37639328, 0.03476141,\n",
              "       0.01981721, 0.02917934, 0.08733658, 0.04931556, 0.04153664,\n",
              "       0.04236007, 0.12055704, 0.03489685])"
            ]
          },
          "metadata": {},
          "execution_count": 33
        }
      ]
    },
    {
      "cell_type": "code",
      "source": [
        "X_train, X_test, y_train, y_test = train_test_split(X, labels, test_size=0.4,\n",
        "                                                    shuffle=True, random_state=42)"
      ],
      "metadata": {
        "id": "QyCHOyOME_bK"
      },
      "execution_count": null,
      "outputs": []
    },
    {
      "cell_type": "code",
      "source": [
        "textlr = LogisticRegression()\n",
        "textlr.fit(X_train, y_train)\n",
        "y_predicted = textlr.predict(X_test)\n",
        "print(f\"accuracy= {metrics.accuracy_score(y_predicted,y_test):.3f}\")\n",
        "print(f\"precision= {metrics.precision_score(y_predicted,y_test):.3f}\")\n",
        "print(f\"recall ={metrics.recall_score(y_predicted,y_test):.3f}\")"
      ],
      "metadata": {
        "colab": {
          "base_uri": "https://localhost:8080/"
        },
        "id": "pRqkGnsMEz-v",
        "outputId": "c526c3c2-d713-4a9b-ba39-b21ad2699797"
      },
      "execution_count": null,
      "outputs": [
        {
          "output_type": "stream",
          "name": "stdout",
          "text": [
            "accuracy= 0.811\n",
            "precision= 0.829\n",
            "recall =0.803\n"
          ]
        }
      ]
    },
    {
      "cell_type": "code",
      "source": [
        "metrics.plot_confusion_matrix(textlr, X_test, y_test,\n",
        "                                 display_labels=textlr.classes_,\n",
        "                                 cmap=plt.cm.Blues, normalize='all')"
      ],
      "metadata": {
        "colab": {
          "base_uri": "https://localhost:8080/",
          "height": 352
        },
        "id": "jdDPsO-YFOj9",
        "outputId": "b8c0b49f-7bf8-442d-81cf-b2e4484bfc75"
      },
      "execution_count": null,
      "outputs": [
        {
          "output_type": "stream",
          "name": "stderr",
          "text": [
            "/usr/local/lib/python3.7/dist-packages/sklearn/utils/deprecation.py:87: FutureWarning: Function plot_confusion_matrix is deprecated; Function `plot_confusion_matrix` is deprecated in 1.0 and will be removed in 1.2. Use one of the class methods: ConfusionMatrixDisplay.from_predictions or ConfusionMatrixDisplay.from_estimator.\n",
            "  warnings.warn(msg, category=FutureWarning)\n"
          ]
        },
        {
          "output_type": "execute_result",
          "data": {
            "text/plain": [
              "<sklearn.metrics._plot.confusion_matrix.ConfusionMatrixDisplay at 0x7fa15c00d690>"
            ]
          },
          "metadata": {},
          "execution_count": 36
        },
        {
          "output_type": "display_data",
          "data": {
            "text/plain": [
              "<Figure size 432x288 with 2 Axes>"
            ],
            "image/png": "[encoded data removed]"
          },
          "metadata": {
            "needs_background": "light"
          }
        }
      ]
    },
    {
      "cell_type": "code",
      "source": [
        "pos_coef = pd.DataFrame(textlr.coef_[0],  index=feature_names).rename(columns={0: 'coef'})\n",
        "pos_coef.sort_values('coef', ascending=False).head(20)"
      ],
      "metadata": {
        "colab": {
          "base_uri": "https://localhost:8080/",
          "height": 676
        },
        "id": "_IMBC_pLGHn4",
        "outputId": "c2052cc2-fb67-41fa-f9ab-e5ee82772e19"
      },
      "execution_count": null,
      "outputs": [
        {
          "output_type": "execute_result",
          "data": {
            "text/plain": [
              "                 coef\n",
              "great        1.234703\n",
              "truman       1.167373\n",
              "life         0.999059\n",
              "war          0.944817\n",
              "performance  0.865198\n",
              "jackie       0.788420\n",
              "excellent    0.779120\n",
              "titanic      0.773535\n",
              "best         0.762075\n",
              "family       0.746461\n",
              "world        0.695860\n",
              "hilarious    0.677030\n",
              "american     0.675204\n",
              "perfectly    0.647631\n",
              "damon        0.643709\n",
              "perfect      0.634513\n",
              "oscar        0.633054\n",
              "ending       0.615367\n",
              "terrific     0.614500\n",
              "effective    0.606916"
            ],
            "text/html": [
              "\n",
              "  <div id=\"df-cc4a91a5-44f9-458c-99e9-6425b4a64925\">\n",
              "    <div class=\"colab-df-container\">\n",
              "      <div>\n",
              "<style scoped>\n",
              "    .dataframe tbody tr th:only-of-type {\n",
              "        vertical-align: middle;\n",
              "    }\n",
              "\n",
              "    .dataframe tbody tr th {\n",
              "        vertical-align: top;\n",
              "    }\n",
              "\n",
              "    .dataframe thead th {\n",
              "        text-align: right;\n",
              "    }\n",
              "</style>\n",
              "<table border=\"1\" class=\"dataframe\">\n",
              "  <thead>\n",
              "    <tr style=\"text-align: right;\">\n",
              "      <th></th>\n",
              "      <th>coef</th>\n",
              "    </tr>\n",
              "  </thead>\n",
              "  <tbody>\n",
              "    <tr>\n",
              "      <th>great</th>\n",
              "      <td>1.234703</td>\n",
              "    </tr>\n",
              "    <tr>\n",
              "      <th>truman</th>\n",
              "      <td>1.167373</td>\n",
              "    </tr>\n",
              "    <tr>\n",
              "      <th>life</th>\n",
              "      <td>0.999059</td>\n",
              "    </tr>\n",
              "    <tr>\n",
              "      <th>war</th>\n",
              "      <td>0.944817</td>\n",
              "    </tr>\n",
              "    <tr>\n",
              "      <th>performance</th>\n",
              "      <td>0.865198</td>\n",
              "    </tr>\n",
              "    <tr>\n",
              "      <th>jackie</th>\n",
              "      <td>0.788420</td>\n",
              "    </tr>\n",
              "    <tr>\n",
              "      <th>excellent</th>\n",
              "      <td>0.779120</td>\n",
              "    </tr>\n",
              "    <tr>\n",
              "      <th>titanic</th>\n",
              "      <td>0.773535</td>\n",
              "    </tr>\n",
              "    <tr>\n",
              "      <th>best</th>\n",
              "      <td>0.762075</td>\n",
              "    </tr>\n",
              "    <tr>\n",
              "      <th>family</th>\n",
              "      <td>0.746461</td>\n",
              "    </tr>\n",
              "    <tr>\n",
              "      <th>world</th>\n",
              "      <td>0.695860</td>\n",
              "    </tr>\n",
              "    <tr>\n",
              "      <th>hilarious</th>\n",
              "      <td>0.677030</td>\n",
              "    </tr>\n",
              "    <tr>\n",
              "      <th>american</th>\n",
              "      <td>0.675204</td>\n",
              "    </tr>\n",
              "    <tr>\n",
              "      <th>perfectly</th>\n",
              "      <td>0.647631</td>\n",
              "    </tr>\n",
              "    <tr>\n",
              "      <th>damon</th>\n",
              "      <td>0.643709</td>\n",
              "    </tr>\n",
              "    <tr>\n",
              "      <th>perfect</th>\n",
              "      <td>0.634513</td>\n",
              "    </tr>\n",
              "    <tr>\n",
              "      <th>oscar</th>\n",
              "      <td>0.633054</td>\n",
              "    </tr>\n",
              "    <tr>\n",
              "      <th>ending</th>\n",
              "      <td>0.615367</td>\n",
              "    </tr>\n",
              "    <tr>\n",
              "      <th>terrific</th>\n",
              "      <td>0.614500</td>\n",
              "    </tr>\n",
              "    <tr>\n",
              "      <th>effective</th>\n",
              "      <td>0.606916</td>\n",
              "    </tr>\n",
              "  </tbody>\n",
              "</table>\n",
              "</div>\n",
              "      <button class=\"colab-df-convert\" onclick=\"convertToInteractive('df-cc4a91a5-44f9-458c-99e9-6425b4a64925')\"\n",
              "              title=\"Convert this dataframe to an interactive table.\"\n",
              "              style=\"display:none;\">\n",
              "        \n",
              "  <svg xmlns=\"http://www.w3.org/2000/svg\" height=\"24px\"viewBox=\"0 0 24 24\"\n",
              "       width=\"24px\">\n",
              "    <path d=\"M0 0h24v24H0V0z\" fill=\"none\"/>\n",
              "    <path d=\"M18.56 5.44l.94 2.06.94-2.06 2.06-.94-2.06-.94-.94-2.06-.94 2.06-2.06.94zm-11 1L8.5 8.5l.94-2.06 2.06-.94-2.06-.94L8.5 2.5l-.94 2.06-2.06.94zm10 10l.94 2.06.94-2.06 2.06-.94-2.06-.94-.94-2.06-.94 2.06-2.06.94z\"/><path d=\"M17.41 7.96l-1.37-1.37c-.4-.4-.92-.59-1.43-.59-.52 0-1.04.2-1.43.59L10.3 9.45l-7.72 7.72c-.78.78-.78 2.05 0 2.83L4 21.41c.39.39.9.59 1.41.59.51 0 1.02-.2 1.41-.59l7.78-7.78 2.81-2.81c.8-.78.8-2.07 0-2.86zM5.41 20L4 18.59l7.72-7.72 1.47 1.35L5.41 20z\"/>\n",
              "  </svg>\n",
              "      </button>\n",
              "      \n",
              "  <style>\n",
              "    .colab-df-container {\n",
              "      display:flex;\n",
              "      flex-wrap:wrap;\n",
              "      gap: 12px;\n",
              "    }\n",
              "\n",
              "    .colab-df-convert {\n",
              "      background-color: #E8F0FE;\n",
              "      border: none;\n",
              "      border-radius: 50%;\n",
              "      cursor: pointer;\n",
              "      display: none;\n",
              "      fill: #1967D2;\n",
              "      height: 32px;\n",
              "      padding: 0 0 0 0;\n",
              "      width: 32px;\n",
              "    }\n",
              "\n",
              "    .colab-df-convert:hover {\n",
              "      background-color: #E2EBFA;\n",
              "      box-shadow: 0px 1px 2px rgba(60, 64, 67, 0.3), 0px 1px 3px 1px rgba(60, 64, 67, 0.15);\n",
              "      fill: #174EA6;\n",
              "    }\n",
              "\n",
              "    [theme=dark] .colab-df-convert {\n",
              "      background-color: #3B4455;\n",
              "      fill: #D2E3FC;\n",
              "    }\n",
              "\n",
              "    [theme=dark] .colab-df-convert:hover {\n",
              "      background-color: #434B5C;\n",
              "      box-shadow: 0px 1px 3px 1px rgba(0, 0, 0, 0.15);\n",
              "      filter: drop-shadow(0px 1px 2px rgba(0, 0, 0, 0.3));\n",
              "      fill: #FFFFFF;\n",
              "    }\n",
              "  </style>\n",
              "\n",
              "      <script>\n",
              "        const buttonEl =\n",
              "          document.querySelector('#df-cc4a91a5-44f9-458c-99e9-6425b4a64925 button.colab-df-convert');\n",
              "        buttonEl.style.display =\n",
              "          google.colab.kernel.accessAllowed ? 'block' : 'none';\n",
              "\n",
              "        async function convertToInteractive(key) {\n",
              "          const element = document.querySelector('#df-cc4a91a5-44f9-458c-99e9-6425b4a64925');\n",
              "          const dataTable =\n",
              "            await google.colab.kernel.invokeFunction('convertToInteractive',\n",
              "                                                     [key], {});\n",
              "          if (!dataTable) return;\n",
              "\n",
              "          const docLinkHtml = 'Like what you see? Visit the ' +\n",
              "            '<a target=\"_blank\" href=https://colab.research.google.com/notebooks/data_table.ipynb>data table notebook</a>'\n",
              "            + ' to learn more about interactive tables.';\n",
              "          element.innerHTML = '';\n",
              "          dataTable['output_type'] = 'display_data';\n",
              "          await google.colab.output.renderOutput(dataTable, element);\n",
              "          const docLink = document.createElement('div');\n",
              "          docLink.innerHTML = docLinkHtml;\n",
              "          element.appendChild(docLink);\n",
              "        }\n",
              "      </script>\n",
              "    </div>\n",
              "  </div>\n",
              "  "
            ]
          },
          "metadata": {},
          "execution_count": 37
        }
      ]
    },
    {
      "cell_type": "code",
      "source": [
        "pos_coef.sort_values('coef', ascending=True).head(20)"
      ],
      "metadata": {
        "colab": {
          "base_uri": "https://localhost:8080/",
          "height": 676
        },
        "id": "EISw8DspHICB",
        "outputId": "2f24712e-7c2b-4797-d878-cb21f53a5eee"
      },
      "execution_count": null,
      "outputs": [
        {
          "output_type": "execute_result",
          "data": {
            "text/plain": [
              "                   coef\n",
              "bad           -2.452292\n",
              "movie         -1.247675\n",
              "plot          -1.208255\n",
              "boring        -1.101725\n",
              "worst         -1.035364\n",
              "supposed      -0.965584\n",
              "stupid        -0.909417\n",
              "reason        -0.867921\n",
              "unfortunately -0.833222\n",
              "waste         -0.811281\n",
              "just          -0.772339\n",
              "poor          -0.719920\n",
              "dull          -0.715610\n",
              "carpenter     -0.692083\n",
              "mess          -0.677009\n",
              "big           -0.668269\n",
              "fails         -0.664383\n",
              "attempt       -0.663678\n",
              "paul          -0.654855\n",
              "wasted        -0.652161"
            ],
            "text/html": [
              "\n",
              "  <div id=\"df-7f9a3a11-a319-4044-9bdc-9509c9cce018\">\n",
              "    <div class=\"colab-df-container\">\n",
              "      <div>\n",
              "<style scoped>\n",
              "    .dataframe tbody tr th:only-of-type {\n",
              "        vertical-align: middle;\n",
              "    }\n",
              "\n",
              "    .dataframe tbody tr th {\n",
              "        vertical-align: top;\n",
              "    }\n",
              "\n",
              "    .dataframe thead th {\n",
              "        text-align: right;\n",
              "    }\n",
              "</style>\n",
              "<table border=\"1\" class=\"dataframe\">\n",
              "  <thead>\n",
              "    <tr style=\"text-align: right;\">\n",
              "      <th></th>\n",
              "      <th>coef</th>\n",
              "    </tr>\n",
              "  </thead>\n",
              "  <tbody>\n",
              "    <tr>\n",
              "      <th>bad</th>\n",
              "      <td>-2.452292</td>\n",
              "    </tr>\n",
              "    <tr>\n",
              "      <th>movie</th>\n",
              "      <td>-1.247675</td>\n",
              "    </tr>\n",
              "    <tr>\n",
              "      <th>plot</th>\n",
              "      <td>-1.208255</td>\n",
              "    </tr>\n",
              "    <tr>\n",
              "      <th>boring</th>\n",
              "      <td>-1.101725</td>\n",
              "    </tr>\n",
              "    <tr>\n",
              "      <th>worst</th>\n",
              "      <td>-1.035364</td>\n",
              "    </tr>\n",
              "    <tr>\n",
              "      <th>supposed</th>\n",
              "      <td>-0.965584</td>\n",
              "    </tr>\n",
              "    <tr>\n",
              "      <th>stupid</th>\n",
              "      <td>-0.909417</td>\n",
              "    </tr>\n",
              "    <tr>\n",
              "      <th>reason</th>\n",
              "      <td>-0.867921</td>\n",
              "    </tr>\n",
              "    <tr>\n",
              "      <th>unfortunately</th>\n",
              "      <td>-0.833222</td>\n",
              "    </tr>\n",
              "    <tr>\n",
              "      <th>waste</th>\n",
              "      <td>-0.811281</td>\n",
              "    </tr>\n",
              "    <tr>\n",
              "      <th>just</th>\n",
              "      <td>-0.772339</td>\n",
              "    </tr>\n",
              "    <tr>\n",
              "      <th>poor</th>\n",
              "      <td>-0.719920</td>\n",
              "    </tr>\n",
              "    <tr>\n",
              "      <th>dull</th>\n",
              "      <td>-0.715610</td>\n",
              "    </tr>\n",
              "    <tr>\n",
              "      <th>carpenter</th>\n",
              "      <td>-0.692083</td>\n",
              "    </tr>\n",
              "    <tr>\n",
              "      <th>mess</th>\n",
              "      <td>-0.677009</td>\n",
              "    </tr>\n",
              "    <tr>\n",
              "      <th>big</th>\n",
              "      <td>-0.668269</td>\n",
              "    </tr>\n",
              "    <tr>\n",
              "      <th>fails</th>\n",
              "      <td>-0.664383</td>\n",
              "    </tr>\n",
              "    <tr>\n",
              "      <th>attempt</th>\n",
              "      <td>-0.663678</td>\n",
              "    </tr>\n",
              "    <tr>\n",
              "      <th>paul</th>\n",
              "      <td>-0.654855</td>\n",
              "    </tr>\n",
              "    <tr>\n",
              "      <th>wasted</th>\n",
              "      <td>-0.652161</td>\n",
              "    </tr>\n",
              "  </tbody>\n",
              "</table>\n",
              "</div>\n",
              "      <button class=\"colab-df-convert\" onclick=\"convertToInteractive('df-7f9a3a11-a319-4044-9bdc-9509c9cce018')\"\n",
              "              title=\"Convert this dataframe to an interactive table.\"\n",
              "              style=\"display:none;\">\n",
              "        \n",
              "  <svg xmlns=\"http://www.w3.org/2000/svg\" height=\"24px\"viewBox=\"0 0 24 24\"\n",
              "       width=\"24px\">\n",
              "    <path d=\"M0 0h24v24H0V0z\" fill=\"none\"/>\n",
              "    <path d=\"M18.56 5.44l.94 2.06.94-2.06 2.06-.94-2.06-.94-.94-2.06-.94 2.06-2.06.94zm-11 1L8.5 8.5l.94-2.06 2.06-.94-2.06-.94L8.5 2.5l-.94 2.06-2.06.94zm10 10l.94 2.06.94-2.06 2.06-.94-2.06-.94-.94-2.06-.94 2.06-2.06.94z\"/><path d=\"M17.41 7.96l-1.37-1.37c-.4-.4-.92-.59-1.43-.59-.52 0-1.04.2-1.43.59L10.3 9.45l-7.72 7.72c-.78.78-.78 2.05 0 2.83L4 21.41c.39.39.9.59 1.41.59.51 0 1.02-.2 1.41-.59l7.78-7.78 2.81-2.81c.8-.78.8-2.07 0-2.86zM5.41 20L4 18.59l7.72-7.72 1.47 1.35L5.41 20z\"/>\n",
              "  </svg>\n",
              "      </button>\n",
              "      \n",
              "  <style>\n",
              "    .colab-df-container {\n",
              "      display:flex;\n",
              "      flex-wrap:wrap;\n",
              "      gap: 12px;\n",
              "    }\n",
              "\n",
              "    .colab-df-convert {\n",
              "      background-color: #E8F0FE;\n",
              "      border: none;\n",
              "      border-radius: 50%;\n",
              "      cursor: pointer;\n",
              "      display: none;\n",
              "      fill: #1967D2;\n",
              "      height: 32px;\n",
              "      padding: 0 0 0 0;\n",
              "      width: 32px;\n",
              "    }\n",
              "\n",
              "    .colab-df-convert:hover {\n",
              "      background-color: #E2EBFA;\n",
              "      box-shadow: 0px 1px 2px rgba(60, 64, 67, 0.3), 0px 1px 3px 1px rgba(60, 64, 67, 0.15);\n",
              "      fill: #174EA6;\n",
              "    }\n",
              "\n",
              "    [theme=dark] .colab-df-convert {\n",
              "      background-color: #3B4455;\n",
              "      fill: #D2E3FC;\n",
              "    }\n",
              "\n",
              "    [theme=dark] .colab-df-convert:hover {\n",
              "      background-color: #434B5C;\n",
              "      box-shadow: 0px 1px 3px 1px rgba(0, 0, 0, 0.15);\n",
              "      filter: drop-shadow(0px 1px 2px rgba(0, 0, 0, 0.3));\n",
              "      fill: #FFFFFF;\n",
              "    }\n",
              "  </style>\n",
              "\n",
              "      <script>\n",
              "        const buttonEl =\n",
              "          document.querySelector('#df-7f9a3a11-a319-4044-9bdc-9509c9cce018 button.colab-df-convert');\n",
              "        buttonEl.style.display =\n",
              "          google.colab.kernel.accessAllowed ? 'block' : 'none';\n",
              "\n",
              "        async function convertToInteractive(key) {\n",
              "          const element = document.querySelector('#df-7f9a3a11-a319-4044-9bdc-9509c9cce018');\n",
              "          const dataTable =\n",
              "            await google.colab.kernel.invokeFunction('convertToInteractive',\n",
              "                                                     [key], {});\n",
              "          if (!dataTable) return;\n",
              "\n",
              "          const docLinkHtml = 'Like what you see? Visit the ' +\n",
              "            '<a target=\"_blank\" href=https://colab.research.google.com/notebooks/data_table.ipynb>data table notebook</a>'\n",
              "            + ' to learn more about interactive tables.';\n",
              "          element.innerHTML = '';\n",
              "          dataTable['output_type'] = 'display_data';\n",
              "          await google.colab.output.renderOutput(dataTable, element);\n",
              "          const docLink = document.createElement('div');\n",
              "          docLink.innerHTML = docLinkHtml;\n",
              "          element.appendChild(docLink);\n",
              "        }\n",
              "      </script>\n",
              "    </div>\n",
              "  </div>\n",
              "  "
            ]
          },
          "metadata": {},
          "execution_count": 38
        }
      ]
    },
    {
      "cell_type": "markdown",
      "metadata": {
        "id": "SNn1J4a4MOhx"
      },
      "source": [
        "## Titanic\n",
        "\n",
        "Let's fit a Decision Tree classifier on the Titanic data as well."
      ]
    },
    {
      "cell_type": "code",
      "execution_count": null,
      "metadata": {
        "id": "3qM8ypn4MOhx",
        "outputId": "4a4f7de4-cc14-4520-b997-51b2d3b507d3",
        "colab": {
          "base_uri": "https://localhost:8080/",
          "height": 583
        }
      },
      "outputs": [
        {
          "output_type": "execute_result",
          "data": {
            "text/plain": [
              "   pclass  survived                                             name      age  \\\n",
              "0       1         1                    Allen, Miss. Elisabeth Walton  29.0000   \n",
              "1       1         1                   Allison, Master. Hudson Trevor   0.9167   \n",
              "2       1         0                     Allison, Miss. Helen Loraine   2.0000   \n",
              "3       1         0             Allison, Mr. Hudson Joshua Creighton  30.0000   \n",
              "4       1         0  Allison, Mrs. Hudson J C (Bessie Waldo Daniels)  25.0000   \n",
              "\n",
              "   sibsp  parch  ticket      fare    cabin embarked boat   body  \\\n",
              "0      0      0   24160  211.3375       B5        S    2    NaN   \n",
              "1      1      2  113781  151.5500  C22 C26        S   11    NaN   \n",
              "2      1      2  113781  151.5500  C22 C26        S  NaN    NaN   \n",
              "3      1      2  113781  151.5500  C22 C26        S  NaN  135.0   \n",
              "4      1      2  113781  151.5500  C22 C26        S  NaN    NaN   \n",
              "\n",
              "                         home.dest  sex_female  sex_male  \n",
              "0                     St Louis, MO           1         0  \n",
              "1  Montreal, PQ / Chesterville, ON           0         1  \n",
              "2  Montreal, PQ / Chesterville, ON           1         0  \n",
              "3  Montreal, PQ / Chesterville, ON           0         1  \n",
              "4  Montreal, PQ / Chesterville, ON           1         0  "
            ],
            "text/html": [
              "\n",
              "  <div id=\"df-969fc827-8792-412f-878f-776f4228593f\">\n",
              "    <div class=\"colab-df-container\">\n",
              "      <div>\n",
              "<style scoped>\n",
              "    .dataframe tbody tr th:only-of-type {\n",
              "        vertical-align: middle;\n",
              "    }\n",
              "\n",
              "    .dataframe tbody tr th {\n",
              "        vertical-align: top;\n",
              "    }\n",
              "\n",
              "    .dataframe thead th {\n",
              "        text-align: right;\n",
              "    }\n",
              "</style>\n",
              "<table border=\"1\" class=\"dataframe\">\n",
              "  <thead>\n",
              "    <tr style=\"text-align: right;\">\n",
              "      <th></th>\n",
              "      <th>pclass</th>\n",
              "      <th>survived</th>\n",
              "      <th>name</th>\n",
              "      <th>age</th>\n",
              "      <th>sibsp</th>\n",
              "      <th>parch</th>\n",
              "      <th>ticket</th>\n",
              "      <th>fare</th>\n",
              "      <th>cabin</th>\n",
              "      <th>embarked</th>\n",
              "      <th>boat</th>\n",
              "      <th>body</th>\n",
              "      <th>home.dest</th>\n",
              "      <th>sex_female</th>\n",
              "      <th>sex_male</th>\n",
              "    </tr>\n",
              "  </thead>\n",
              "  <tbody>\n",
              "    <tr>\n",
              "      <th>0</th>\n",
              "      <td>1</td>\n",
              "      <td>1</td>\n",
              "      <td>Allen, Miss. Elisabeth Walton</td>\n",
              "      <td>29.0000</td>\n",
              "      <td>0</td>\n",
              "      <td>0</td>\n",
              "      <td>24160</td>\n",
              "      <td>211.3375</td>\n",
              "      <td>B5</td>\n",
              "      <td>S</td>\n",
              "      <td>2</td>\n",
              "      <td>NaN</td>\n",
              "      <td>St Louis, MO</td>\n",
              "      <td>1</td>\n",
              "      <td>0</td>\n",
              "    </tr>\n",
              "    <tr>\n",
              "      <th>1</th>\n",
              "      <td>1</td>\n",
              "      <td>1</td>\n",
              "      <td>Allison, Master. Hudson Trevor</td>\n",
              "      <td>0.9167</td>\n",
              "      <td>1</td>\n",
              "      <td>2</td>\n",
              "      <td>113781</td>\n",
              "      <td>151.5500</td>\n",
              "      <td>C22 C26</td>\n",
              "      <td>S</td>\n",
              "      <td>11</td>\n",
              "      <td>NaN</td>\n",
              "      <td>Montreal, PQ / Chesterville, ON</td>\n",
              "      <td>0</td>\n",
              "      <td>1</td>\n",
              "    </tr>\n",
              "    <tr>\n",
              "      <th>2</th>\n",
              "      <td>1</td>\n",
              "      <td>0</td>\n",
              "      <td>Allison, Miss. Helen Loraine</td>\n",
              "      <td>2.0000</td>\n",
              "      <td>1</td>\n",
              "      <td>2</td>\n",
              "      <td>113781</td>\n",
              "      <td>151.5500</td>\n",
              "      <td>C22 C26</td>\n",
              "      <td>S</td>\n",
              "      <td>NaN</td>\n",
              "      <td>NaN</td>\n",
              "      <td>Montreal, PQ / Chesterville, ON</td>\n",
              "      <td>1</td>\n",
              "      <td>0</td>\n",
              "    </tr>\n",
              "    <tr>\n",
              "      <th>3</th>\n",
              "      <td>1</td>\n",
              "      <td>0</td>\n",
              "      <td>Allison, Mr. Hudson Joshua Creighton</td>\n",
              "      <td>30.0000</td>\n",
              "      <td>1</td>\n",
              "      <td>2</td>\n",
              "      <td>113781</td>\n",
              "      <td>151.5500</td>\n",
              "      <td>C22 C26</td>\n",
              "      <td>S</td>\n",
              "      <td>NaN</td>\n",
              "      <td>135.0</td>\n",
              "      <td>Montreal, PQ / Chesterville, ON</td>\n",
              "      <td>0</td>\n",
              "      <td>1</td>\n",
              "    </tr>\n",
              "    <tr>\n",
              "      <th>4</th>\n",
              "      <td>1</td>\n",
              "      <td>0</td>\n",
              "      <td>Allison, Mrs. Hudson J C (Bessie Waldo Daniels)</td>\n",
              "      <td>25.0000</td>\n",
              "      <td>1</td>\n",
              "      <td>2</td>\n",
              "      <td>113781</td>\n",
              "      <td>151.5500</td>\n",
              "      <td>C22 C26</td>\n",
              "      <td>S</td>\n",
              "      <td>NaN</td>\n",
              "      <td>NaN</td>\n",
              "      <td>Montreal, PQ / Chesterville, ON</td>\n",
              "      <td>1</td>\n",
              "      <td>0</td>\n",
              "    </tr>\n",
              "  </tbody>\n",
              "</table>\n",
              "</div>\n",
              "      <button class=\"colab-df-convert\" onclick=\"convertToInteractive('df-969fc827-8792-412f-878f-776f4228593f')\"\n",
              "              title=\"Convert this dataframe to an interactive table.\"\n",
              "              style=\"display:none;\">\n",
              "        \n",
              "  <svg xmlns=\"http://www.w3.org/2000/svg\" height=\"24px\"viewBox=\"0 0 24 24\"\n",
              "       width=\"24px\">\n",
              "    <path d=\"M0 0h24v24H0V0z\" fill=\"none\"/>\n",
              "    <path d=\"M18.56 5.44l.94 2.06.94-2.06 2.06-.94-2.06-.94-.94-2.06-.94 2.06-2.06.94zm-11 1L8.5 8.5l.94-2.06 2.06-.94-2.06-.94L8.5 2.5l-.94 2.06-2.06.94zm10 10l.94 2.06.94-2.06 2.06-.94-2.06-.94-.94-2.06-.94 2.06-2.06.94z\"/><path d=\"M17.41 7.96l-1.37-1.37c-.4-.4-.92-.59-1.43-.59-.52 0-1.04.2-1.43.59L10.3 9.45l-7.72 7.72c-.78.78-.78 2.05 0 2.83L4 21.41c.39.39.9.59 1.41.59.51 0 1.02-.2 1.41-.59l7.78-7.78 2.81-2.81c.8-.78.8-2.07 0-2.86zM5.41 20L4 18.59l7.72-7.72 1.47 1.35L5.41 20z\"/>\n",
              "  </svg>\n",
              "      </button>\n",
              "      \n",
              "  <style>\n",
              "    .colab-df-container {\n",
              "      display:flex;\n",
              "      flex-wrap:wrap;\n",
              "      gap: 12px;\n",
              "    }\n",
              "\n",
              "    .colab-df-convert {\n",
              "      background-color: #E8F0FE;\n",
              "      border: none;\n",
              "      border-radius: 50%;\n",
              "      cursor: pointer;\n",
              "      display: none;\n",
              "      fill: #1967D2;\n",
              "      height: 32px;\n",
              "      padding: 0 0 0 0;\n",
              "      width: 32px;\n",
              "    }\n",
              "\n",
              "    .colab-df-convert:hover {\n",
              "      background-color: #E2EBFA;\n",
              "      box-shadow: 0px 1px 2px rgba(60, 64, 67, 0.3), 0px 1px 3px 1px rgba(60, 64, 67, 0.15);\n",
              "      fill: #174EA6;\n",
              "    }\n",
              "\n",
              "    [theme=dark] .colab-df-convert {\n",
              "      background-color: #3B4455;\n",
              "      fill: #D2E3FC;\n",
              "    }\n",
              "\n",
              "    [theme=dark] .colab-df-convert:hover {\n",
              "      background-color: #434B5C;\n",
              "      box-shadow: 0px 1px 3px 1px rgba(0, 0, 0, 0.15);\n",
              "      filter: drop-shadow(0px 1px 2px rgba(0, 0, 0, 0.3));\n",
              "      fill: #FFFFFF;\n",
              "    }\n",
              "  </style>\n",
              "\n",
              "      <script>\n",
              "        const buttonEl =\n",
              "          document.querySelector('#df-969fc827-8792-412f-878f-776f4228593f button.colab-df-convert');\n",
              "        buttonEl.style.display =\n",
              "          google.colab.kernel.accessAllowed ? 'block' : 'none';\n",
              "\n",
              "        async function convertToInteractive(key) {\n",
              "          const element = document.querySelector('#df-969fc827-8792-412f-878f-776f4228593f');\n",
              "          const dataTable =\n",
              "            await google.colab.kernel.invokeFunction('convertToInteractive',\n",
              "                                                     [key], {});\n",
              "          if (!dataTable) return;\n",
              "\n",
              "          const docLinkHtml = 'Like what you see? Visit the ' +\n",
              "            '<a target=\"_blank\" href=https://colab.research.google.com/notebooks/data_table.ipynb>data table notebook</a>'\n",
              "            + ' to learn more about interactive tables.';\n",
              "          element.innerHTML = '';\n",
              "          dataTable['output_type'] = 'display_data';\n",
              "          await google.colab.output.renderOutput(dataTable, element);\n",
              "          const docLink = document.createElement('div');\n",
              "          docLink.innerHTML = docLinkHtml;\n",
              "          element.appendChild(docLink);\n",
              "        }\n",
              "      </script>\n",
              "    </div>\n",
              "  </div>\n",
              "  "
            ]
          },
          "metadata": {},
          "execution_count": 39
        }
      ],
      "source": [
        "df_titanic = pd.read_csv(\"./data/titanic.csv\")\n",
        "df_titanic = pd.get_dummies(df_titanic, columns=['sex'])\n",
        "# Be cheeky with our NAN\n",
        "df_titanic = df_titanic[(df_titanic[\"age\"].notna()) & (df_titanic[\"fare\"].notna())]\n",
        "df_titanic.head()"
      ]
    },
    {
      "cell_type": "code",
      "execution_count": null,
      "metadata": {
        "id": "cdcLrt0UMOhx"
      },
      "outputs": [],
      "source": [
        "train, test = train_test_split(df_titanic, \n",
        "                               test_size=0.4, \n",
        "                               stratify=df_titanic[\"survived\"])"
      ]
    },
    {
      "cell_type": "code",
      "execution_count": null,
      "metadata": {
        "id": "K4n2pL22MOhx"
      },
      "outputs": [],
      "source": [
        "features = [\"pclass\", \"fare\", \"sex_female\", \"age\"]\n",
        "X_train = train[features]\n",
        "y_train = train.survived\n",
        "X_test = test[features]\n",
        "y_test = test.survived"
      ]
    },
    {
      "cell_type": "code",
      "execution_count": null,
      "metadata": {
        "id": "FzcAJ6xKMOhx",
        "outputId": "ffb978ab-baf5-4344-d9d0-66194ffeda1c",
        "colab": {
          "base_uri": "https://localhost:8080/"
        }
      },
      "outputs": [
        {
          "output_type": "stream",
          "name": "stdout",
          "text": [
            "The accuracy of the Decision Tree is 0.789\n",
            "The Precision of the Decision Tree is 0.880\n",
            "The Recall of the Decision Tree is 0.789\n"
          ]
        }
      ],
      "source": [
        "mod_dt = DecisionTreeClassifier(max_depth = 3, random_state = 1)\n",
        "mod_dt.fit(X_train,y_train)\n",
        "prediction=mod_dt.predict(X_test)\n",
        "# Check some measures...\n",
        "print(f\"The accuracy of the Decision Tree is {metrics.accuracy_score(prediction,y_test):.3f}\")\n",
        "print(f\"The Precision of the Decision Tree is {metrics.precision_score(prediction,y_test,average='weighted'):.3f}\")\n",
        "print(f\"The Recall of the Decision Tree is {metrics.recall_score(prediction,y_test,average='weighted'):.3f}\")"
      ]
    },
    {
      "cell_type": "code",
      "execution_count": null,
      "metadata": {
        "id": "U1bzS87oMOhx",
        "outputId": "c94742d8-b19f-4f1b-fe69-3e2f82afefd3",
        "colab": {
          "base_uri": "https://localhost:8080/",
          "height": 352
        }
      },
      "outputs": [
        {
          "output_type": "stream",
          "name": "stderr",
          "text": [
            "/usr/local/lib/python3.7/dist-packages/sklearn/utils/deprecation.py:87: FutureWarning: Function plot_confusion_matrix is deprecated; Function `plot_confusion_matrix` is deprecated in 1.0 and will be removed in 1.2. Use one of the class methods: ConfusionMatrixDisplay.from_predictions or ConfusionMatrixDisplay.from_estimator.\n",
            "  warnings.warn(msg, category=FutureWarning)\n"
          ]
        },
        {
          "output_type": "execute_result",
          "data": {
            "text/plain": [
              "<sklearn.metrics._plot.confusion_matrix.ConfusionMatrixDisplay at 0x7fa15cf82510>"
            ]
          },
          "metadata": {},
          "execution_count": 43
        },
        {
          "output_type": "display_data",
          "data": {
            "text/plain": [
              "<Figure size 432x288 with 2 Axes>"
            ],
            "image/png": "[encoded data removed]"
          },
          "metadata": {
            "needs_background": "light"
          }
        }
      ],
      "source": [
        "# Plot some graphs...\n",
        "metrics.plot_confusion_matrix(mod_dt, X_test, y_test,\n",
        "                                 display_labels=[\"died\",\"survived\"],\n",
        "                                 cmap=plt.cm.Blues, normalize='all')"
      ]
    },
    {
      "cell_type": "code",
      "execution_count": null,
      "metadata": {
        "id": "8KTelmpSMOhx",
        "outputId": "a7299ac9-08b1-4cf2-af96-868c99d547f5",
        "colab": {
          "base_uri": "https://localhost:8080/",
          "height": 352
        }
      },
      "outputs": [
        {
          "output_type": "stream",
          "name": "stderr",
          "text": [
            "/usr/local/lib/python3.7/dist-packages/sklearn/utils/deprecation.py:87: FutureWarning: Function plot_precision_recall_curve is deprecated; Function `plot_precision_recall_curve` is deprecated in 1.0 and will be removed in 1.2. Use one of the class methods: PrecisionRecallDisplay.from_predictions or PrecisionRecallDisplay.from_estimator.\n",
            "  warnings.warn(msg, category=FutureWarning)\n"
          ]
        },
        {
          "output_type": "execute_result",
          "data": {
            "text/plain": [
              "<sklearn.metrics._plot.precision_recall_curve.PrecisionRecallDisplay at 0x7fa15d0bb350>"
            ]
          },
          "metadata": {},
          "execution_count": 44
        },
        {
          "output_type": "display_data",
          "data": {
            "text/plain": [
              "<Figure size 432x288 with 1 Axes>"
            ],
            "image/png": "[encoded data removed]"
          },
          "metadata": {
            "needs_background": "light"
          }
        }
      ],
      "source": [
        "# Plot some graphs...\n",
        "metrics.plot_precision_recall_curve(mod_dt, X_test, y_test)"
      ]
    },
    {
      "cell_type": "code",
      "execution_count": null,
      "metadata": {
        "id": "vryAenC_MOhy",
        "outputId": "cf33702d-b622-4b9c-9db3-dc87f992a1ff",
        "colab": {
          "base_uri": "https://localhost:8080/",
          "height": 466
        }
      },
      "outputs": [
        {
          "output_type": "display_data",
          "data": {
            "text/plain": [
              "<Figure size 1080x576 with 1 Axes>"
            ],
            "image/png": "[encoded data removed]"
          },
          "metadata": {
            "needs_background": "light"
          }
        }
      ],
      "source": [
        "plt.figure(figsize = (15,8))\n",
        "plot_tree(mod_dt, feature_names = features, class_names={1:\"survived\", 0:\"died\"}, filled = True);"
      ]
    }
  ],
  "metadata": {
    "kernelspec": {
      "display_name": "Python 3.8.3 64-bit",
      "language": "python",
      "name": "python3"
    },
    "language_info": {
      "codemirror_mode": {
        "name": "ipython",
        "version": 3
      },
      "file_extension": ".py",
      "mimetype": "text/x-python",
      "name": "python",
      "nbconvert_exporter": "python",
      "pygments_lexer": "ipython3",
      "version": "3.8.3"
    },
    "vscode": {
      "interpreter": {
        "hash": "aee8b7b246df8f9039afb4144a1f6fd8d2ca17a180786b69acc140d282b71a49"
      }
    },
    "colab": {
      "provenance": [],
      "collapsed_sections": [],
      "include_colab_link": true
    }
  },
  "nbformat": 4,
  "nbformat_minor": 0
}