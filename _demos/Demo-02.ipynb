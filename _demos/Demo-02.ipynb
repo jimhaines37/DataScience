{
  "cells": [
    {
      "cell_type": "markdown",
      "metadata": {
        "id": "view-in-github",
        "colab_type": "text"
      },
      "source": [
        "<a href=\"https://colab.research.google.com/github/jimhaines37/DataScience/blob/main/_demos/Demo-02.ipynb\" target=\"_parent\"><img src=\"https://colab.research.google.com/assets/colab-badge.svg\" alt=\"Open In Colab\"/></a>"
      ]
    },
    {
      "cell_type": "markdown",
      "source": [
        "# Demo 02: Introduction to Pandas, Reading Data, and Plotting!\n",
        "\n",
        "In this demo we will get more practice working with Pandas, slicing data, and some simple plotting. At the very end we will do a bit more complex analysis and make a model!"
      ],
      "metadata": {
        "id": "ihgPK7LWrOG8"
      }
    },
    {
      "cell_type": "code",
      "execution_count": null,
      "metadata": {
        "id": "WdlGyrgPlV4Q"
      },
      "outputs": [],
      "source": [
        "# first, mount your google drive, change to the course folder, pull latest changes, and change to the lab folder.\n",
        "# Startup Magic to: (1) Mount Google Drive\n",
        "# (2) Change to Course Folder\n",
        "# (3) Pull latest Changes\n",
        "# (4) Move to the Demo Directory so that the data files are available\n",
        "\n",
        "from google.colab import drive\n",
        "drive.mount('/content/drive')\n",
        "%cd /content/drive/My Drive/cmps3160\n",
        "!git pull\n",
        "%cd _demos"
      ]
    },
    {
      "cell_type": "markdown",
      "metadata": {
        "id": "EQGlYUjylUV0"
      },
      "source": [
        "# Intro to Pandas, Reading Data, and Plotting\n",
        "\n",
        "The cell below loads up a few libraries and does some initialization.  In this notebook we'll do a few basic data manipulations and see the Pandas formatting for the first time and make some simple graphs.\n"
      ]
    },
    {
      "cell_type": "code",
      "execution_count": null,
      "metadata": {
        "id": "ryXT939elUV4"
      },
      "outputs": [],
      "source": [
        "### Standard Magic and startup initializers.\n",
        "\n",
        "# Load Numpy\n",
        "import numpy as np\n",
        "# Load MatPlotLib\n",
        "import matplotlib\n",
        "import matplotlib.pyplot as plt\n",
        "# Load Pandas\n",
        "import pandas as pd\n",
        "\n",
        "# This lets us show plots inline and also save PDF plots if we want them. \n",
        "# This is not strictly necessary if you are working in CoLab but if you\n",
        "# run this on a local install these packages help.\n",
        "%matplotlib inline\n",
        "from matplotlib.backends.backend_pdf import PdfPages\n",
        "matplotlib.style.use('fivethirtyeight')\n",
        "# Seaborn is a plotting package for Pandas that we'll try out...\n",
        "import seaborn as sns\n",
        "\n",
        "# Make the fonts a little bigger in our graphs.\n",
        "font = {'size'   : 20}\n",
        "matplotlib.rc('font', **font)\n",
        "matplotlib.rcParams['mathtext.fontset'] = 'cm'\n",
        "matplotlib.rcParams['pdf.fonttype'] = 42\n",
        "\n",
        "# These two things are for Pandas, it widens the notebook and lets us display data easily.\n",
        "# Again these have no effect on CoLab but are useful for if you are working on Anaconda\n",
        "# or docker on your own machine.\n",
        "from IPython.core.display import display, HTML\n",
        "display(HTML(\"<style>.container { width:95% !important; }</style>\"))"
      ]
    },
    {
      "cell_type": "markdown",
      "metadata": {
        "id": "06EqHCQElUV5"
      },
      "source": [
        "## Working with some real data and Pandas!\n",
        "\n",
        "Opening and reading CSV files is very easy with Pandas [Read CSV Documentation](https://pandas.pydata.org/pandas-docs/stable/reference/api/pandas.read_csv.html)\n",
        "\n",
        "In general the [Pandas Documentation](https://pandas.pydata.org/docs/) is very good and you should spend some time getting to know it. You can also use the cheatsheets that we have posted on the [course webpage](https://nmattei.github.io/cmps3160/)."
      ]
    },
    {
      "cell_type": "code",
      "execution_count": null,
      "metadata": {
        "id": "RbTTqwVnlUV6"
      },
      "outputs": [],
      "source": [
        "# Open the NBA Salaries file.\n",
        "\n",
        "df_nba = pd.read_csv(\"./data/nba_salaries.csv\")"
      ]
    },
    {
      "cell_type": "markdown",
      "source": [
        "Once we have loaded the data into the variable `df_nba` we can print it out! We can also slice the data by the index, or first column of the dataframe."
      ],
      "metadata": {
        "id": "ctiEqge3sytQ"
      }
    },
    {
      "cell_type": "code",
      "execution_count": null,
      "metadata": {
        "id": "xgNShWrRlUV6"
      },
      "outputs": [],
      "source": [
        "# Display gives us a basic table.  Note that we can index and slice this in many different ways.\n",
        "display(df_nba)"
      ]
    },
    {
      "cell_type": "code",
      "execution_count": null,
      "metadata": {
        "id": "QEXzRTbynH9f"
      },
      "outputs": [],
      "source": [
        "# Within this we can get different rows of the table by the index, the left most column\n",
        "display(df_nba[10:30])"
      ]
    },
    {
      "cell_type": "markdown",
      "source": [
        "We can pull out specific cells in the table."
      ],
      "metadata": {
        "id": "QtxKuaFotGjM"
      }
    },
    {
      "cell_type": "code",
      "execution_count": null,
      "metadata": {
        "id": "RMHZb8cMlUV7"
      },
      "outputs": [],
      "source": [
        "# Look at a specific person... a little clunky.\n",
        "display(df_nba.loc[df_nba['PLAYER'] == \"Stephen Curry\"])"
      ]
    },
    {
      "cell_type": "code",
      "execution_count": null,
      "metadata": {
        "id": "NCUPevc9lUV7"
      },
      "outputs": [],
      "source": [
        "# Can filter for a whole set\n",
        "df_nba.loc[df_nba['POSITION'] == \"PG\"][:10]\n",
        "# Again note that we can slice this different ways\n",
        "# but we will always get the results in the order of the *index*"
      ]
    },
    {
      "cell_type": "markdown",
      "source": [
        "Because our data is well organized (we'll get more into how to do this well when we get into Tidy Data) we can use the selecting features to see a team."
      ],
      "metadata": {
        "id": "uP6T6X_VtUM1"
      }
    },
    {
      "cell_type": "code",
      "execution_count": null,
      "metadata": {
        "id": "MOHZMINtlUV8"
      },
      "outputs": [],
      "source": [
        "# Can also see a team...\n",
        "df_nba.loc[df_nba['TEAM'] == \"New Orleans Pelicans\"]"
      ]
    },
    {
      "cell_type": "markdown",
      "source": [
        "You may have noticed that we are using boolean functions to select, we can combine these using the standard boolean operators `|`, `&`, and `!`. One quirk of Pandas is that we really should encase all our boolean logic in parentisis, which can get a bit cumbersome."
      ],
      "metadata": {
        "id": "ZioAyOcMtqdE"
      }
    },
    {
      "cell_type": "code",
      "source": [
        "df_nba.loc[(df_nba['TEAM'] == \"New Orleans Pelicans\") | (df_nba['TEAM'] == \"Boston Celtics\")]"
      ],
      "metadata": {
        "id": "tU649djit9GQ"
      },
      "execution_count": null,
      "outputs": []
    },
    {
      "cell_type": "code",
      "source": [
        "# We can also do more complex selection, which we'll need a lot!\n",
        "df_nba.loc[(df_nba[\"'15-'16 SALARY\"] > 5.0)]"
      ],
      "metadata": {
        "id": "CfY_iCyduIyD"
      },
      "execution_count": null,
      "outputs": []
    },
    {
      "cell_type": "markdown",
      "source": [
        "**Gotcha Warning** Pandas will let you use a `.attribute` notation... but I don't like this..."
      ],
      "metadata": {
        "id": "JqHX2xxPuevz"
      }
    },
    {
      "cell_type": "code",
      "execution_count": null,
      "metadata": {
        "id": "eTxxcmA0lUV8"
      },
      "outputs": [],
      "source": [
        "# There are other ways to index, but I always use the full selection as it's more explicit.\n",
        "df_nba.loc[df_nba.TEAM == \"New Orleans Pelicans\"]"
      ]
    },
    {
      "cell_type": "markdown",
      "metadata": {
        "id": "J4irAYvElUV9"
      },
      "source": [
        "**Question:** Why would I not want to use the `.TEAM` syntax all the time? What could go wrong? "
      ]
    },
    {
      "cell_type": "code",
      "execution_count": null,
      "metadata": {
        "id": "dd-S_KEKlUV9"
      },
      "outputs": [],
      "source": [
        "# Can also just pick out a subset of coumns if we want.\n",
        "df_nba[['PLAYER', 'TEAM']]"
      ]
    },
    {
      "cell_type": "markdown",
      "source": [
        "In the above the function returns a **view** of a dataframe with just the relevant columns. We can use this and compute summary stats, which we'll use more later.\n",
        "\n",
        "I really cannot stress enough how useful [the handy Pandas Cheat Sheet is.](https://drive.google.com/file/d/1SWw2QXKPGJv99_a4VceEdBkmnB2Zljb5/view)"
      ],
      "metadata": {
        "id": "gV1SyDQzuxBW"
      }
    },
    {
      "cell_type": "code",
      "execution_count": null,
      "metadata": {
        "id": "EGshAMH-lUV-"
      },
      "outputs": [],
      "source": [
        "# Can also compute summary stats over columns, like the mean.. (look at cheat sheet!)\n",
        "# Note the problem with the column name!\n",
        "df_nba.loc[df_nba['TEAM'] == \"New Orleans Pelicans\"][\"'15-'16 SALARY\"].sum()"
      ]
    },
    {
      "cell_type": "code",
      "execution_count": null,
      "metadata": {
        "id": "rocDYoAElUV-"
      },
      "outputs": [],
      "source": [
        "df_nba[\"'15-'16 SALARY\"].median()"
      ]
    },
    {
      "cell_type": "code",
      "source": [
        "df_nba[\"'15-'16 SALARY\"].describe()"
      ],
      "metadata": {
        "id": "CVCeWEOnvIjB"
      },
      "execution_count": null,
      "outputs": []
    },
    {
      "cell_type": "markdown",
      "metadata": {
        "id": "6TcJLbbflUV_"
      },
      "source": [
        "# Sorting!\n",
        "\n",
        "Up to now everything has been sorted by the `index` or first columnt of the dataframe. We might want to sort by other things, so we can use `sort_values`."
      ]
    },
    {
      "cell_type": "code",
      "execution_count": null,
      "metadata": {
        "id": "x_oanJ80lUV_"
      },
      "outputs": [],
      "source": [
        "# Look at all PGs sorted by salary...\n",
        "df_nba.loc[df_nba['POSITION'] == \"PG\"].sort_values(\"'15-'16 SALARY\", ascending=False)[:10]"
      ]
    },
    {
      "cell_type": "markdown",
      "metadata": {
        "id": "NM-hDLcIlUV_"
      },
      "source": [
        "Note that the above sorting does not happen *in place* unless we explicitly tell Pandas to do so -- [Documentation for sort_values](https://pandas.pydata.org/pandas-docs/stable/reference/api/pandas.DataFrame.sort_values.html)"
      ]
    },
    {
      "cell_type": "code",
      "execution_count": null,
      "metadata": {
        "id": "SQSrnriClUWA"
      },
      "outputs": [],
      "source": [
        "# Once we sort by values it does not stay the same unless we overwrite the table or do it in place...\n",
        "df_nba.loc[df_nba['POSITION'] == \"PG\"][:5]"
      ]
    },
    {
      "cell_type": "markdown",
      "metadata": {
        "id": "s09wNDsclUWA"
      },
      "source": [
        "### So let's try to sort it in place!\n",
        "\n",
        "**Gotcha Warning!**"
      ]
    },
    {
      "cell_type": "code",
      "execution_count": null,
      "metadata": {
        "id": "EhhdptkilUWA"
      },
      "outputs": [],
      "source": [
        "df_nba.loc[df_nba['POSITION'] == \"PG\"].sort_values(\"'15-'16 SALARY\", inplace=True, ascending=False)\n",
        "\n",
        "## This won't work -- note that we are getting a VIEW of the data with the first command, so \n",
        "## we get the dreaded set with copy warning! because we are only operating on a view of the data!"
      ]
    },
    {
      "cell_type": "markdown",
      "source": [
        "You are going to get so sick of the **SettingWithCopyWarning** before this class is over. Do not ignore these! They will cost you professionalism points on turned in assignments and, more importantly, it means you are likely doing something that you do not want to or do not mean to do.\n",
        "\n",
        "[Remember Arie's Handy Coding Guide!](https://nmattei.github.io/cmps3140/codingguide)"
      ],
      "metadata": {
        "id": "_Wm8By6uvipW"
      }
    },
    {
      "cell_type": "code",
      "execution_count": null,
      "metadata": {
        "id": "YWh356MklUWA"
      },
      "outputs": [],
      "source": [
        "# We have to sort, then print the whole data frame\n",
        "df_nba.sort_values(\"'15-'16 SALARY\", inplace=True, ascending=False)"
      ]
    },
    {
      "cell_type": "code",
      "execution_count": null,
      "metadata": {
        "id": "vjUNUk2jlUWB"
      },
      "outputs": [],
      "source": [
        "df_nba.loc[df_nba['POSITION'] == \"PG\"][:5]"
      ]
    },
    {
      "cell_type": "code",
      "execution_count": null,
      "metadata": {
        "id": "Zc4NE9pqlUWB"
      },
      "outputs": [],
      "source": [
        "# But now everything is sorted!\n",
        "df_nba[:5]"
      ]
    },
    {
      "cell_type": "code",
      "execution_count": null,
      "metadata": {
        "id": "QVldU-pLlUWB"
      },
      "outputs": [],
      "source": [
        "# Now let's put it back to normal... Note here we used .sort_index, if we used reset_index we'd renumber!!\n",
        "df_nba.sort_index(inplace=True)\n",
        "df_nba.loc[df_nba['POSITION'] == \"PG\"][:5]"
      ]
    },
    {
      "cell_type": "markdown",
      "source": [
        "To make sure it is clear -- if we had called `reset_index` on the above then we would have completely renumbered and set the index to the current order. While this may not seem like a big deal now, it might be if our data was, e.g., dates!"
      ],
      "metadata": {
        "id": "hk3t3g7vwVRc"
      }
    },
    {
      "cell_type": "code",
      "execution_count": null,
      "metadata": {
        "id": "itfn0yxhlUWB"
      },
      "outputs": [],
      "source": [
        "# Get a histogram with Pandas\n",
        "df_nba['POSITION'].hist()"
      ]
    },
    {
      "cell_type": "code",
      "execution_count": null,
      "metadata": {
        "id": "4vg8xAcXlUWC"
      },
      "outputs": [],
      "source": [
        "# Maybe see what the position distribution is... (using seaborn)\n",
        "sns.countplot(x=df_nba['POSITION'])"
      ]
    },
    {
      "cell_type": "code",
      "execution_count": null,
      "metadata": {
        "id": "PsWJE2OQlUWC"
      },
      "outputs": [],
      "source": [
        "# Or we can see how salaries are distributed...\n",
        "df_nba.plot.scatter(x='POSITION', y=\"'15-'16 SALARY\")"
      ]
    },
    {
      "cell_type": "code",
      "execution_count": null,
      "metadata": {
        "id": "rDpDBvHxlUWC"
      },
      "outputs": [],
      "source": [
        "# Or box plots to get really fancy...\n",
        "df_nba.boxplot(column=[\"'15-'16 SALARY\"], by=['POSITION'], figsize=(10,10))"
      ]
    },
    {
      "cell_type": "markdown",
      "metadata": {
        "id": "aTlYaaqvlUWD"
      },
      "source": [
        "# Reading some Books and Making a Model!\n",
        "\n",
        "So far we've seen the basics of how to sort and slice data, you'll practice these more in Lab 2! \n",
        "\n",
        "But now let's try something more fun. We're going to go build a model that shows the relationship between the number of characters in a book, and the puncuation!\n",
        "\n",
        "To do this we'll use several tools that we'll do much more with later in the semester including the `requests` library and using Python's regular expression processing features."
      ]
    },
    {
      "cell_type": "code",
      "execution_count": null,
      "metadata": {
        "id": "9NGwOuOjlUWD"
      },
      "outputs": [],
      "source": [
        "from urllib.request import urlopen \n",
        "import re\n",
        "def read_url(url): \n",
        "    return re.sub('\\\\s+', ' ', urlopen(url).read().decode())"
      ]
    },
    {
      "cell_type": "code",
      "execution_count": null,
      "metadata": {
        "id": "ZwwaAWrNlUWE"
      },
      "outputs": [],
      "source": [
        "\n",
        "# Read two books, fast!\n",
        "\n",
        "huck_finn_url = 'https://www.inferentialthinking.com/data/huck_finn.txt'\n",
        "huck_finn_text = read_url(huck_finn_url)\n",
        "huck_finn_chapters = huck_finn_text.split('CHAPTER ')[44:]\n",
        "\n",
        "little_women_url = 'https://www.inferentialthinking.com/data/little_women.txt'\n",
        "little_women_text = read_url(little_women_url)\n",
        "little_women_chapters = little_women_text.split('CHAPTER ')[1:]"
      ]
    },
    {
      "cell_type": "code",
      "execution_count": null,
      "metadata": {
        "id": "ePDQ9lB-lUWE",
        "scrolled": true
      },
      "outputs": [],
      "source": [
        "len(huck_finn_chapters)"
      ]
    },
    {
      "cell_type": "code",
      "source": [
        "huck_finn_chapters[0][:300]"
      ],
      "metadata": {
        "id": "YBEE84PYxWVS"
      },
      "execution_count": null,
      "outputs": []
    },
    {
      "cell_type": "code",
      "execution_count": null,
      "metadata": {
        "id": "WRwa7HS-lUWE"
      },
      "outputs": [],
      "source": [
        "# Turn it into a data frame..\n",
        "df_huck = pd.DataFrame(huck_finn_chapters, columns=[\"Text\"])"
      ]
    },
    {
      "cell_type": "code",
      "execution_count": null,
      "metadata": {
        "id": "ARRcX9qClUWE"
      },
      "outputs": [],
      "source": [
        "display(df_huck[:5])"
      ]
    },
    {
      "cell_type": "code",
      "execution_count": null,
      "metadata": {
        "id": "MdgDA_X_lUWE"
      },
      "outputs": [],
      "source": [
        "# Count how many times we see each character...\n",
        "# Here we make a data frame out of a dictionary where the index is the column name\n",
        "# and the values are the column\n",
        "counts = pd.DataFrame({\n",
        "        'Jim':np.char.count(huck_finn_chapters, 'Jim'),\n",
        "        'Tom':np.char.count(huck_finn_chapters, 'Tom'),\n",
        "        'Huck':np.char.count(huck_finn_chapters, 'Huck')\n",
        "    })"
      ]
    },
    {
      "cell_type": "code",
      "execution_count": null,
      "metadata": {
        "id": "R6M_4IIXlUWE"
      },
      "outputs": [],
      "source": [
        "counts[:10]"
      ]
    },
    {
      "cell_type": "code",
      "execution_count": null,
      "metadata": {
        "id": "838cY0AklUWF"
      },
      "outputs": [],
      "source": [
        "ax = counts.cumsum().plot(figsize=(10,8))\n",
        "ax.set_xlabel(\"Chapter\")\n",
        "ax.set_ylabel(\"Number of Times\")\n",
        "#ax.set_ylim((-5,310))\n",
        "plt.show()"
      ]
    },
    {
      "cell_type": "markdown",
      "metadata": {
        "id": "l1iJuAN3lUWF"
      },
      "source": [
        "There are lots of options for the figures ... Note that here we are using [Pandas Plot](https://pandas.pydata.org/pandas-docs/version/0.23/generated/pandas.DataFrame.plot.html) which is a wrapper around [MatPlot's Plot](https://matplotlib.org/3.1.1/api/_as_gen/matplotlib.pyplot.plot.html)."
      ]
    },
    {
      "cell_type": "code",
      "execution_count": null,
      "metadata": {
        "id": "qDhp8VdilUWF"
      },
      "outputs": [],
      "source": [
        "ax = counts.cumsum().plot(figsize=(10,8), fontsize=(5),\n",
        "                                          lw=2, \n",
        "                                          markersize=12,\n",
        "                                          style=['X-','o-.','v--','s:','d:','*-.'])\n",
        "ax.set_xlabel(\"Chapter\")\n",
        "ax.set_ylabel(\"Number of Times\")\n",
        "ax.set_ylim((-5,310))\n",
        "plt.show()"
      ]
    },
    {
      "cell_type": "code",
      "execution_count": null,
      "metadata": {
        "id": "yNPTISXxlUWF"
      },
      "outputs": [],
      "source": [
        "# Now for Little women... here we're going to do the counts a little differently\n",
        "# and use Numpy (NUmerical PYthon) functions\n",
        "\n",
        "people = ['Amy', 'Beth', 'Jo', 'Laurie', 'Meg']\n",
        "people_counts = {pp: np.char.count(little_women_chapters, pp) for pp in people}\n"
      ]
    },
    {
      "cell_type": "code",
      "execution_count": null,
      "metadata": {
        "id": "-lGvdvmnlUWF"
      },
      "outputs": [],
      "source": [
        "people_counts.keys()"
      ]
    },
    {
      "cell_type": "code",
      "execution_count": null,
      "metadata": {
        "id": "qJi6bC8clUWI"
      },
      "outputs": [],
      "source": [
        "people_counts['Beth']"
      ]
    },
    {
      "cell_type": "code",
      "execution_count": null,
      "metadata": {
        "id": "Fw9iOidulUWI"
      },
      "outputs": [],
      "source": [
        "# Make a pandas table...\n",
        "counts = pd.DataFrame(people_counts)\n",
        "counts"
      ]
    },
    {
      "cell_type": "code",
      "execution_count": null,
      "metadata": {
        "id": "_kkbhQrJlUWI"
      },
      "outputs": [],
      "source": [
        "ax = counts.cumsum().plot(figsize=(10,8), fontsize=(15),\n",
        "                                          lw=2, \n",
        "                                          markersize=12,\n",
        "                                          style=['X-','o-.','v--','s:','d:','*-.'])\n",
        "ax.set_xlabel(\"Chapter\")\n",
        "ax.set_ylabel(\"Number of Times\")\n",
        "plt.show()"
      ]
    },
    {
      "cell_type": "markdown",
      "metadata": {
        "id": "ePz_nrf0lUWJ"
      },
      "source": [
        "# Something more fun...\n",
        "\n",
        "Inspired by the [Inferential Thinking Book](https://www.inferentialthinking.com/chapters/01/3/2/Another_Kind_Of_Character) let's do some more analysis on the text that we have loaded up.\n",
        "\n",
        "First let's count the number of periods and the total number of characters in each of the books."
      ]
    },
    {
      "cell_type": "code",
      "execution_count": null,
      "metadata": {
        "id": "lOEOhKeslUWJ"
      },
      "outputs": [],
      "source": [
        "# Recall that each element in the array corresponds to a chapter.\n",
        "print(huck_finn_chapters[0][:50])\n",
        "print(little_women_chapters[0][:50])"
      ]
    },
    {
      "cell_type": "code",
      "execution_count": null,
      "metadata": {
        "id": "C5U8G-DslUWJ"
      },
      "outputs": [],
      "source": [
        "chars_periods_huck_finn = pd.DataFrame({\n",
        "        'Huck Finn Chapter Length':[len(s) for s in huck_finn_chapters],\n",
        "        'Number of Periods':np.char.count(huck_finn_chapters, '.')\n",
        "        })\n",
        "chars_periods_little_women = pd.DataFrame({\n",
        "        'Little Women Chapter Length': [len(s) for s in little_women_chapters],\n",
        "        'Number of Periods': np.char.count(little_women_chapters, '.')\n",
        "        })"
      ]
    },
    {
      "cell_type": "code",
      "execution_count": null,
      "metadata": {
        "id": "ceZDshGdlUWJ"
      },
      "outputs": [],
      "source": [
        "display(chars_periods_huck_finn[:5])\n",
        "display(chars_periods_little_women[:5])"
      ]
    },
    {
      "cell_type": "markdown",
      "metadata": {
        "id": "t768qHlNlUWJ"
      },
      "source": [
        "What do we notice about the above?  It seems like *Little Women* is significantly longer per chapter than *Huck Finn*.  Let's try plotting this relationship on the same graph.\n",
        "\n",
        "To do this we are going to use the `scatter` function from [MatPlotLib](https://matplotlib.org/3.1.1/api/_as_gen/matplotlib.pyplot.scatter.html)"
      ]
    },
    {
      "cell_type": "code",
      "execution_count": null,
      "metadata": {
        "id": "J5KOjL9MlUWJ"
      },
      "outputs": [],
      "source": [
        "plt.figure(figsize=(6, 6))\n",
        "plt.scatter(chars_periods_huck_finn[\"Number of Periods\"], \n",
        "              chars_periods_huck_finn[\"Huck Finn Chapter Length\"], \n",
        "              color='darkblue')\n",
        "\n",
        "plt.scatter(chars_periods_little_women[\"Number of Periods\"], \n",
        "              chars_periods_little_women[\"Little Women Chapter Length\"], \n",
        "              color='gold')\n",
        "\n",
        "plt.xlabel('Number of periods in chapter')\n",
        "plt.ylabel('Number of characters in chapter')"
      ]
    },
    {
      "cell_type": "markdown",
      "metadata": {
        "id": "cdrweCxalUWK"
      },
      "source": [
        "The above plot shows us a few things:\n",
        "1. Little Women is much longer on average than Huck\n",
        "2. There seems to be a linear relationship between the number of characters and the number of periods\n",
        "\n",
        "If we look at all the chapters that have 100 periods we see they have 10,000 - 15,000 characters.. or roughly 100-150 characters per sentence.  Seems like a Tweet."
      ]
    },
    {
      "cell_type": "code",
      "execution_count": null,
      "metadata": {
        "id": "NBMFCCrwlUWK"
      },
      "outputs": [],
      "source": [
        "# Let's formally find the relationship...\n",
        "from scipy import stats\n",
        "\n",
        "# First let's make the tables the same..\n",
        "chars_periods_huck_finn.columns = ['characters', 'periods']\n",
        "chars_periods_little_women.columns = ['characters', 'periods']\n",
        "display(chars_periods_huck_finn[:5])\n",
        "len(chars_periods_huck_finn)"
      ]
    },
    {
      "cell_type": "code",
      "execution_count": null,
      "metadata": {
        "id": "7oo8pX14lUWK"
      },
      "outputs": [],
      "source": [
        "# Now we are going to concatinate the data together -- this is our first join operation!\n",
        "\n",
        "merged = pd.concat([chars_periods_huck_finn, chars_periods_little_women])\n",
        "merged"
      ]
    },
    {
      "cell_type": "code",
      "execution_count": null,
      "metadata": {
        "id": "Q3YaeRaLlUWK"
      },
      "outputs": [],
      "source": [
        "len(merged)"
      ]
    },
    {
      "cell_type": "code",
      "execution_count": null,
      "metadata": {
        "id": "JRAo9NSRlUWK"
      },
      "outputs": [],
      "source": [
        "slope, intercept, r_value, p_value, std_err = stats.linregress(merged['periods'],merged['characters'])"
      ]
    },
    {
      "cell_type": "code",
      "execution_count": null,
      "metadata": {
        "id": "qttprS7mlUWK"
      },
      "outputs": [],
      "source": [
        "slope"
      ]
    },
    {
      "cell_type": "code",
      "execution_count": null,
      "metadata": {
        "id": "4U9Xk0GllUWK"
      },
      "outputs": [],
      "source": [
        "intercept"
      ]
    },
    {
      "cell_type": "code",
      "execution_count": null,
      "metadata": {
        "id": "jyGT0qd3lUWL"
      },
      "outputs": [],
      "source": [
        "r_value"
      ]
    },
    {
      "cell_type": "code",
      "execution_count": null,
      "metadata": {
        "id": "fSqPZpg2lUWL"
      },
      "outputs": [],
      "source": [
        "p_value"
      ]
    },
    {
      "cell_type": "code",
      "execution_count": null,
      "metadata": {
        "id": "v6cyqKnXlUWL"
      },
      "outputs": [],
      "source": [
        "std_err"
      ]
    },
    {
      "cell_type": "code",
      "execution_count": null,
      "metadata": {
        "id": "0i-4Z-e2lUWL"
      },
      "outputs": [],
      "source": [
        "line = slope * merged['periods'] + intercept"
      ]
    },
    {
      "cell_type": "markdown",
      "metadata": {
        "id": "UA1KJ5wqlUWL"
      },
      "source": [
        "Now we can add the line above to our plot using the [plot function](https://matplotlib.org/3.1.1/api/_as_gen/matplotlib.pyplot.plot.html)."
      ]
    },
    {
      "cell_type": "code",
      "execution_count": null,
      "metadata": {
        "id": "iyMuCMTmlUWL"
      },
      "outputs": [],
      "source": [
        "plt.figure(figsize=(10, 10))\n",
        "plt.scatter(chars_periods_huck_finn[\"periods\"], \n",
        "              chars_periods_huck_finn[\"characters\"], \n",
        "              color='darkblue')\n",
        "\n",
        "plt.scatter(chars_periods_little_women[\"periods\"], \n",
        "              chars_periods_little_women[\"characters\"], \n",
        "              color='gold')\n",
        "\n",
        "plt.plot(merged['periods'], line, lw=1, ls=':')\n",
        "\n",
        "plt.xlabel('Number of periods in chapter')\n",
        "plt.ylabel('Number of characters in chapter')"
      ]
    },
    {
      "cell_type": "code",
      "execution_count": null,
      "metadata": {
        "id": "0Z9uHmXiqzSr"
      },
      "outputs": [],
      "source": []
    }
  ],
  "metadata": {
    "colab": {
      "collapsed_sections": [],
      "name": "Demo-02.ipynb",
      "provenance": [],
      "include_colab_link": true
    },
    "kernelspec": {
      "display_name": "Python 3",
      "language": "python",
      "name": "python3"
    },
    "language_info": {
      "codemirror_mode": {
        "name": "ipython",
        "version": 3
      },
      "file_extension": ".py",
      "mimetype": "text/x-python",
      "name": "python",
      "nbconvert_exporter": "python",
      "pygments_lexer": "ipython3",
      "version": "3.8.3"
    },
    "vscode": {
      "interpreter": {
        "hash": "aee8b7b246df8f9039afb4144a1f6fd8d2ca17a180786b69acc140d282b71a49"
      }
    }
  },
  "nbformat": 4,
  "nbformat_minor": 0
}