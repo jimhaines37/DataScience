{
  "cells": [
    {
      "cell_type": "markdown",
      "metadata": {
        "id": "view-in-github",
        "colab_type": "text"
      },
      "source": [
        "<a href=\"https://colab.research.google.com/github/jimhaines37/DataScience/blob/main/_demos/Demo-07.ipynb\" target=\"_parent\"><img src=\"https://colab.research.google.com/assets/colab-badge.svg\" alt=\"Open In Colab\"/></a>"
      ]
    },
    {
      "cell_type": "markdown",
      "metadata": {
        "id": "3kRa9oHxPBxI"
      },
      "source": [
        "# Demo 07 - Distance Functions and Comparing Entities\n",
        "\n",
        "In this notebook we do a few things with the [NBA Salary Dataset](https://github.com/joshrosson/NBASalaryPredictions) to illustrate working with relationships between variables. Specifically we'll look at distances between *observations* in this dataset and see what we can learn!\n"
      ]
    },
    {
      "cell_type": "code",
      "execution_count": null,
      "metadata": {
        "id": "4LlfiJp0PBxK"
      },
      "outputs": [],
      "source": [
        "# first, mount your google drive, change to the course folder, pull latest changes, and change to the lab folder.\n",
        "# Startup Magic to: (1) Mount Google Drive\n",
        "# (2) Change to Course Folder\n",
        "# (3) Pull latest Changes\n",
        "# (4) Move to the Demo Directory so that the data files are available\n",
        "\n",
        "from google.colab import drive\n",
        "drive.mount('/content/drive')\n",
        "%cd /content/drive/My Drive/cmps3160\n",
        "!git pull\n",
        "%cd _demos"
      ]
    },
    {
      "cell_type": "code",
      "execution_count": null,
      "metadata": {
        "id": "FnGDpiVtPBxL"
      },
      "outputs": [],
      "source": [
        "# Includes and Standard Magic...\n",
        "### Standard Magic and startup initializers.\n",
        "\n",
        "# Load Numpy\n",
        "import numpy as np\n",
        "# Load MatPlotLib\n",
        "import matplotlib\n",
        "import matplotlib.pyplot as plt\n",
        "# Load Pandas\n",
        "import pandas as pd\n",
        "# Load Stats\n",
        "from scipy import stats\n",
        "import seaborn as sns\n",
        "\n",
        "# This lets us show plots inline and also save PDF plots if we want them\n",
        "%matplotlib inline\n",
        "from matplotlib.backends.backend_pdf import PdfPages\n",
        "matplotlib.style.use('fivethirtyeight')\n",
        "\n",
        "# These two things are for Pandas, it widens the notebook and lets us display data easily.\n",
        "from IPython.core.display import display, HTML\n",
        "display(HTML(\"<style>.container { width:95% !important; }</style>\"))\n",
        "\n",
        "# Show a ludicrus number of rows and columns\n",
        "pd.set_option('display.max_rows', 500)\n",
        "pd.set_option('display.max_columns', 500)\n",
        "pd.set_option('display.width', 1000)\n",
        "\n",
        "# Supress scientific notation\n",
        "pd.set_option('display.float_format', lambda x: '%.2f' % x)"
      ]
    },
    {
      "cell_type": "markdown",
      "metadata": {
        "id": "EGlBK6cxPBxL"
      },
      "source": [
        "# Loading the Data and Down Selecting\n",
        "\n",
        "First we'll load the data and focus on just a few attributes to make this more clear."
      ]
    },
    {
      "cell_type": "code",
      "execution_count": null,
      "metadata": {
        "id": "Aku9JpFtPBxL"
      },
      "outputs": [],
      "source": [
        "# Load the data\n",
        "# Data from here: https://github.com/joshrosson/NBASalaryPredictions\n",
        "df_nba = pd.read_csv(\"./data/nba_stats.csv\")\n",
        "display(df_nba.head(10))\n",
        "\n",
        "# Always double check your Dtypes\n",
        "df_nba.dtypes"
      ]
    },
    {
      "cell_type": "markdown",
      "metadata": {
        "id": "sQ1wXUo9PBxL"
      },
      "source": [
        "Is the data for NBA Salary skewed?  Why?"
      ]
    },
    {
      "cell_type": "code",
      "execution_count": null,
      "metadata": {
        "id": "MgtekutnPBxM"
      },
      "outputs": [],
      "source": [
        "# Let's use all the years this time but only a subset of the stats.\n",
        "\n",
        "# Why did I copy this time?\n",
        "df_smallNBA = df_nba[[\"Name\", \"Salary\", \"Season\", \"Pos\", \"Age\", \"MP\", \"PTS\",\"TRB\", \"AST\"]].copy()\n",
        "df_smallNBA.head(10)"
      ]
    },
    {
      "cell_type": "markdown",
      "metadata": {
        "id": "xLIwuEv8PBxM"
      },
      "source": [
        "# Find the closest players!\n"
      ]
    },
    {
      "cell_type": "code",
      "execution_count": null,
      "metadata": {
        "id": "CtLqXMNsPBxM"
      },
      "outputs": [],
      "source": [
        "# Get a smaller set, drop NA's and get dummies...\n",
        "df_smallNBA.dropna(inplace=True)\n",
        "df_smallNBA.reset_index(drop=True, inplace=True)\n",
        "df_smallNBA.head(10)"
      ]
    },
    {
      "cell_type": "code",
      "execution_count": null,
      "metadata": {
        "id": "O2_J8Yk3PBxM"
      },
      "outputs": [],
      "source": [
        "sns.pairplot(df_smallNBA)"
      ]
    },
    {
      "cell_type": "code",
      "execution_count": null,
      "metadata": {
        "id": "hXhiaLdBPBxM"
      },
      "outputs": [],
      "source": [
        "# get dummies -- Why did I remove name? How do we get it back?\n",
        "df_ml = pd.get_dummies(df_smallNBA[[\"Season\", \"Pos\", \"Age\", \"MP\", \"PTS\",\"TRB\", \"AST\"]])\n",
        "display(df_ml.head(10))\n",
        "len(df_ml)"
      ]
    },
    {
      "cell_type": "code",
      "execution_count": null,
      "metadata": {
        "id": "-G1bbqZDPBxM"
      },
      "outputs": [],
      "source": [
        "df_ml.Season.value_counts()"
      ]
    },
    {
      "cell_type": "markdown",
      "metadata": {
        "id": "ruXHMF4KPBxN"
      },
      "source": [
        "We're going to start using [SKLearn](https://scikit-learn.org/stable/modules/classes.html#sklearn-metrics-metrics) we'll get more into it as we go!"
      ]
    },
    {
      "cell_type": "code",
      "execution_count": null,
      "metadata": {
        "id": "v6OfkDwZPBxN"
      },
      "outputs": [],
      "source": [
        "# Use SKLEARN to do some distances.\n",
        "from sklearn.metrics import pairwise_distances\n",
        "D = pairwise_distances(df_ml, metric=\"euclidean\")\n",
        "D.shape\n"
      ]
    },
    {
      "cell_type": "code",
      "execution_count": null,
      "metadata": {
        "id": "eKIMXF8VPBxN"
      },
      "outputs": [],
      "source": [
        "# Find someone intersting...\n",
        "df_smallNBA[(df_smallNBA['Name'] == 'Anthony Davis')]"
      ]
    },
    {
      "cell_type": "code",
      "execution_count": null,
      "metadata": {
        "id": "V5s9M39ePBxN"
      },
      "outputs": [],
      "source": [
        "# So what does this D matrix have inside of it?\n",
        "D"
      ]
    },
    {
      "cell_type": "code",
      "execution_count": null,
      "metadata": {
        "id": "RTJAfRAfPBxN"
      },
      "outputs": [],
      "source": [
        "# So let's see who was the closest to Davis's 2016 Season\n",
        "D[8416, :].argmin()"
      ]
    },
    {
      "cell_type": "code",
      "execution_count": null,
      "metadata": {
        "id": "dnbnHWOQPBxN"
      },
      "outputs": [],
      "source": [
        "# Wait... that's me... what went wrong here?\n",
        "np.fill_diagonal(D, np.inf)\n",
        "\n",
        "# To fix this we have to fill the diagonal with infs to fill it out"
      ]
    },
    {
      "cell_type": "code",
      "execution_count": null,
      "metadata": {
        "id": "4OrPVJUGPBxO"
      },
      "outputs": [],
      "source": [
        "D[8416, :].argmin()"
      ]
    },
    {
      "cell_type": "code",
      "execution_count": null,
      "metadata": {
        "id": "-ThynCrVPBxO"
      },
      "outputs": [],
      "source": [
        "df_smallNBA.loc[[6805]]\n",
        "\n",
        "# 2012 Kevin love who dis? Explains why Lebron wanted that trade hunh?"
      ]
    },
    {
      "cell_type": "code",
      "execution_count": null,
      "metadata": {
        "id": "yd-yCmhdPBxO"
      },
      "outputs": [],
      "source": [
        "df_ml.loc[[8416,6805]]\n"
      ]
    },
    {
      "cell_type": "markdown",
      "metadata": {
        "id": "UCHA2lssPBxO"
      },
      "source": [
        "Lots of different distances we could use [SKLearn Distance Functions](https://scikit-learn.org/stable/modules/generated/sklearn.metrics.DistanceMetric.html)"
      ]
    },
    {
      "cell_type": "code",
      "execution_count": null,
      "metadata": {
        "id": "8SEpr-gMPBxO"
      },
      "outputs": [],
      "source": [
        "# If we change the distance metric what happens?\n",
        "\n",
        "\n",
        "D = pairwise_distances(df_ml, metric=\"hamming\")\n",
        "np.fill_diagonal(D, np.inf)\n",
        "D[8416, :].argmin()"
      ]
    },
    {
      "cell_type": "code",
      "execution_count": null,
      "metadata": {
        "id": "Q0dXmzcPPBxO"
      },
      "outputs": [],
      "source": [
        "df_smallNBA.loc[[8416,8399]]"
      ]
    },
    {
      "cell_type": "code",
      "execution_count": null,
      "metadata": {
        "id": "8awtADyePBxO"
      },
      "outputs": [],
      "source": []
    }
  ],
  "metadata": {
    "kernelspec": {
      "display_name": "Python 3.8.3 64-bit",
      "language": "python",
      "name": "python3"
    },
    "language_info": {
      "codemirror_mode": {
        "name": "ipython",
        "version": 3
      },
      "file_extension": ".py",
      "mimetype": "text/x-python",
      "name": "python",
      "nbconvert_exporter": "python",
      "pygments_lexer": "ipython3",
      "version": "3.8.3"
    },
    "vscode": {
      "interpreter": {
        "hash": "aee8b7b246df8f9039afb4144a1f6fd8d2ca17a180786b69acc140d282b71a49"
      }
    },
    "colab": {
      "provenance": [],
      "include_colab_link": true
    }
  },
  "nbformat": 4,
  "nbformat_minor": 0
}