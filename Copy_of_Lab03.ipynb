{
  "cells": [
    {
      "cell_type": "markdown",
      "metadata": {
        "id": "view-in-github",
        "colab_type": "text"
      },
      "source": [
        "<a href=\"https://colab.research.google.com/github/jimhaines37/DataScience/blob/main/Copy_of_Lab03.ipynb\" target=\"_parent\"><img src=\"https://colab.research.google.com/assets/colab-badge.svg\" alt=\"Open In Colab\"/></a>"
      ]
    },
    {
      "cell_type": "markdown",
      "metadata": {
        "id": "o_oGI_3nAJ22"
      },
      "source": [
        "# Lab 03: Summarizing and Plotting Data\n",
        "\n",
        "This lab is presented with some revisions from [Dennis Sun at Cal Poly](https://web.calpoly.edu/~dsun09/index.html) and his [Data301 Course](http://users.csc.calpoly.edu/~dsun09/data301/lectures.html)\n",
        "\n",
        "### When you have filled out all the questions, submit via [Tulane Canvas](https://tulane.instructure.com/)"
      ]
    },
    {
      "cell_type": "code",
      "source": [
        "# first, mount your google drive, change to the course folder, pull latest changes, and change to the lab folder.\n",
        "from google.colab import drive\n",
        "drive.mount('/content/drive')\n",
        "%cd /content/drive/My Drive/cmps3160\n",
        "!git pull\n",
        "%cd _labs/Lab03"
      ],
      "metadata": {
        "id": "yiC70-8nAU_-",
        "outputId": "12caf31d-9ce0-47bb-dc08-f66d8c21e603",
        "colab": {
          "base_uri": "https://localhost:8080/"
        }
      },
      "execution_count": 1,
      "outputs": [
        {
          "output_type": "stream",
          "name": "stdout",
          "text": [
            "Mounted at /content/drive\n",
            "/content/drive/My Drive/cmps3160\n",
            "remote: Enumerating objects: 13, done.\u001b[K\n",
            "remote: Counting objects: 100% (13/13), done.\u001b[K\n",
            "remote: Compressing objects: 100% (6/6), done.\u001b[K\n",
            "remote: Total 13 (delta 8), reused 12 (delta 7), pack-reused 0\u001b[K\n",
            "Unpacking objects: 100% (13/13), done.\n",
            "From https://github.com/nmattei/cmps3160\n",
            "   658fc39..8fd09eb  master     -> origin/master\n",
            "Updating 658fc39..8fd09eb\n",
            "Fast-forward\n",
            " _demos/README.md             |    2 \u001b[32m+\u001b[m\u001b[31m-\u001b[m\n",
            " _projects/FinalTutorial.md   |   34 \u001b[32m+\u001b[m\u001b[31m-\u001b[m\n",
            " _projects/PastFinal.md       |   86 \u001b[32m+\u001b[m\u001b[31m-\u001b[m\n",
            " _projects/nick_final.ipynb   | 1823 \u001b[32m++++++++++++++++++++++++++++++++++++++++++\u001b[m\n",
            " _projects/wilson_final.ipynb |  423 \u001b[32m++++++++++\u001b[m\n",
            " syllabus.md                  |    2 \u001b[32m+\u001b[m\u001b[31m-\u001b[m\n",
            " 6 files changed, 2309 insertions(+), 61 deletions(-)\n",
            " create mode 100644 _projects/nick_final.ipynb\n",
            " create mode 100644 _projects/wilson_final.ipynb\n",
            "/content/drive/My Drive/cmps3160/_labs/Lab03\n"
          ]
        }
      ]
    },
    {
      "cell_type": "markdown",
      "metadata": {
        "id": "mXTztJd3AJ27"
      },
      "source": [
        "In the previous section, we emphasized the difference between quantitative and categorical variables. The distinction is not merely pedantic; `pandas` will actually behave differently depending on whether it thinks a variable is quantitative or categorical.\n",
        "\n",
        "It is not easy for a human to make sense of _all_ the values of a variable. In this section, we focus on ways to reduce the values to just a handful of summary statistics. Our working example will again be the Titanic data set, which contains both quantitative and categorical variables."
      ]
    },
    {
      "cell_type": "code",
      "execution_count": null,
      "metadata": {
        "id": "oBoYuX_rAJ28",
        "outputId": "2f0cc8a7-ed09-4d86-f827-3b01427d901b",
        "colab": {
          "base_uri": "https://localhost:8080/",
          "height": 248
        }
      },
      "outputs": [
        {
          "output_type": "execute_result",
          "data": {
            "text/plain": [
              "   pclass  survived                                             name     sex  \\\n",
              "0       1         1                    Allen, Miss. Elisabeth Walton  female   \n",
              "1       1         1                   Allison, Master. Hudson Trevor    male   \n",
              "2       1         0                     Allison, Miss. Helen Loraine  female   \n",
              "3       1         0             Allison, Mr. Hudson Joshua Creighton    male   \n",
              "4       1         0  Allison, Mrs. Hudson J C (Bessie Waldo Daniels)  female   \n",
              "\n",
              "       age  sibsp  parch  ticket      fare    cabin embarked boat   body  \\\n",
              "0  29.0000      0      0   24160  211.3375       B5        S    2    NaN   \n",
              "1   0.9167      1      2  113781  151.5500  C22 C26        S   11    NaN   \n",
              "2   2.0000      1      2  113781  151.5500  C22 C26        S  NaN    NaN   \n",
              "3  30.0000      1      2  113781  151.5500  C22 C26        S  NaN  135.0   \n",
              "4  25.0000      1      2  113781  151.5500  C22 C26        S  NaN    NaN   \n",
              "\n",
              "                         home.dest  \n",
              "0                     St Louis, MO  \n",
              "1  Montreal, PQ / Chesterville, ON  \n",
              "2  Montreal, PQ / Chesterville, ON  \n",
              "3  Montreal, PQ / Chesterville, ON  \n",
              "4  Montreal, PQ / Chesterville, ON  "
            ],
            "text/html": [
              "\n",
              "  <div id=\"df-f8218797-b07e-4533-8da2-b2017b56f9d7\">\n",
              "    <div class=\"colab-df-container\">\n",
              "      <div>\n",
              "<style scoped>\n",
              "    .dataframe tbody tr th:only-of-type {\n",
              "        vertical-align: middle;\n",
              "    }\n",
              "\n",
              "    .dataframe tbody tr th {\n",
              "        vertical-align: top;\n",
              "    }\n",
              "\n",
              "    .dataframe thead th {\n",
              "        text-align: right;\n",
              "    }\n",
              "</style>\n",
              "<table border=\"1\" class=\"dataframe\">\n",
              "  <thead>\n",
              "    <tr style=\"text-align: right;\">\n",
              "      <th></th>\n",
              "      <th>pclass</th>\n",
              "      <th>survived</th>\n",
              "      <th>name</th>\n",
              "      <th>sex</th>\n",
              "      <th>age</th>\n",
              "      <th>sibsp</th>\n",
              "      <th>parch</th>\n",
              "      <th>ticket</th>\n",
              "      <th>fare</th>\n",
              "      <th>cabin</th>\n",
              "      <th>embarked</th>\n",
              "      <th>boat</th>\n",
              "      <th>body</th>\n",
              "      <th>home.dest</th>\n",
              "    </tr>\n",
              "  </thead>\n",
              "  <tbody>\n",
              "    <tr>\n",
              "      <th>0</th>\n",
              "      <td>1</td>\n",
              "      <td>1</td>\n",
              "      <td>Allen, Miss. Elisabeth Walton</td>\n",
              "      <td>female</td>\n",
              "      <td>29.0000</td>\n",
              "      <td>0</td>\n",
              "      <td>0</td>\n",
              "      <td>24160</td>\n",
              "      <td>211.3375</td>\n",
              "      <td>B5</td>\n",
              "      <td>S</td>\n",
              "      <td>2</td>\n",
              "      <td>NaN</td>\n",
              "      <td>St Louis, MO</td>\n",
              "    </tr>\n",
              "    <tr>\n",
              "      <th>1</th>\n",
              "      <td>1</td>\n",
              "      <td>1</td>\n",
              "      <td>Allison, Master. Hudson Trevor</td>\n",
              "      <td>male</td>\n",
              "      <td>0.9167</td>\n",
              "      <td>1</td>\n",
              "      <td>2</td>\n",
              "      <td>113781</td>\n",
              "      <td>151.5500</td>\n",
              "      <td>C22 C26</td>\n",
              "      <td>S</td>\n",
              "      <td>11</td>\n",
              "      <td>NaN</td>\n",
              "      <td>Montreal, PQ / Chesterville, ON</td>\n",
              "    </tr>\n",
              "    <tr>\n",
              "      <th>2</th>\n",
              "      <td>1</td>\n",
              "      <td>0</td>\n",
              "      <td>Allison, Miss. Helen Loraine</td>\n",
              "      <td>female</td>\n",
              "      <td>2.0000</td>\n",
              "      <td>1</td>\n",
              "      <td>2</td>\n",
              "      <td>113781</td>\n",
              "      <td>151.5500</td>\n",
              "      <td>C22 C26</td>\n",
              "      <td>S</td>\n",
              "      <td>NaN</td>\n",
              "      <td>NaN</td>\n",
              "      <td>Montreal, PQ / Chesterville, ON</td>\n",
              "    </tr>\n",
              "    <tr>\n",
              "      <th>3</th>\n",
              "      <td>1</td>\n",
              "      <td>0</td>\n",
              "      <td>Allison, Mr. Hudson Joshua Creighton</td>\n",
              "      <td>male</td>\n",
              "      <td>30.0000</td>\n",
              "      <td>1</td>\n",
              "      <td>2</td>\n",
              "      <td>113781</td>\n",
              "      <td>151.5500</td>\n",
              "      <td>C22 C26</td>\n",
              "      <td>S</td>\n",
              "      <td>NaN</td>\n",
              "      <td>135.0</td>\n",
              "      <td>Montreal, PQ / Chesterville, ON</td>\n",
              "    </tr>\n",
              "    <tr>\n",
              "      <th>4</th>\n",
              "      <td>1</td>\n",
              "      <td>0</td>\n",
              "      <td>Allison, Mrs. Hudson J C (Bessie Waldo Daniels)</td>\n",
              "      <td>female</td>\n",
              "      <td>25.0000</td>\n",
              "      <td>1</td>\n",
              "      <td>2</td>\n",
              "      <td>113781</td>\n",
              "      <td>151.5500</td>\n",
              "      <td>C22 C26</td>\n",
              "      <td>S</td>\n",
              "      <td>NaN</td>\n",
              "      <td>NaN</td>\n",
              "      <td>Montreal, PQ / Chesterville, ON</td>\n",
              "    </tr>\n",
              "  </tbody>\n",
              "</table>\n",
              "</div>\n",
              "      <button class=\"colab-df-convert\" onclick=\"convertToInteractive('df-f8218797-b07e-4533-8da2-b2017b56f9d7')\"\n",
              "              title=\"Convert this dataframe to an interactive table.\"\n",
              "              style=\"display:none;\">\n",
              "        \n",
              "  <svg xmlns=\"http://www.w3.org/2000/svg\" height=\"24px\"viewBox=\"0 0 24 24\"\n",
              "       width=\"24px\">\n",
              "    <path d=\"M0 0h24v24H0V0z\" fill=\"none\"/>\n",
              "    <path d=\"M18.56 5.44l.94 2.06.94-2.06 2.06-.94-2.06-.94-.94-2.06-.94 2.06-2.06.94zm-11 1L8.5 8.5l.94-2.06 2.06-.94-2.06-.94L8.5 2.5l-.94 2.06-2.06.94zm10 10l.94 2.06.94-2.06 2.06-.94-2.06-.94-.94-2.06-.94 2.06-2.06.94z\"/><path d=\"M17.41 7.96l-1.37-1.37c-.4-.4-.92-.59-1.43-.59-.52 0-1.04.2-1.43.59L10.3 9.45l-7.72 7.72c-.78.78-.78 2.05 0 2.83L4 21.41c.39.39.9.59 1.41.59.51 0 1.02-.2 1.41-.59l7.78-7.78 2.81-2.81c.8-.78.8-2.07 0-2.86zM5.41 20L4 18.59l7.72-7.72 1.47 1.35L5.41 20z\"/>\n",
              "  </svg>\n",
              "      </button>\n",
              "      \n",
              "  <style>\n",
              "    .colab-df-container {\n",
              "      display:flex;\n",
              "      flex-wrap:wrap;\n",
              "      gap: 12px;\n",
              "    }\n",
              "\n",
              "    .colab-df-convert {\n",
              "      background-color: #E8F0FE;\n",
              "      border: none;\n",
              "      border-radius: 50%;\n",
              "      cursor: pointer;\n",
              "      display: none;\n",
              "      fill: #1967D2;\n",
              "      height: 32px;\n",
              "      padding: 0 0 0 0;\n",
              "      width: 32px;\n",
              "    }\n",
              "\n",
              "    .colab-df-convert:hover {\n",
              "      background-color: #E2EBFA;\n",
              "      box-shadow: 0px 1px 2px rgba(60, 64, 67, 0.3), 0px 1px 3px 1px rgba(60, 64, 67, 0.15);\n",
              "      fill: #174EA6;\n",
              "    }\n",
              "\n",
              "    [theme=dark] .colab-df-convert {\n",
              "      background-color: #3B4455;\n",
              "      fill: #D2E3FC;\n",
              "    }\n",
              "\n",
              "    [theme=dark] .colab-df-convert:hover {\n",
              "      background-color: #434B5C;\n",
              "      box-shadow: 0px 1px 3px 1px rgba(0, 0, 0, 0.15);\n",
              "      filter: drop-shadow(0px 1px 2px rgba(0, 0, 0, 0.3));\n",
              "      fill: #FFFFFF;\n",
              "    }\n",
              "  </style>\n",
              "\n",
              "      <script>\n",
              "        const buttonEl =\n",
              "          document.querySelector('#df-f8218797-b07e-4533-8da2-b2017b56f9d7 button.colab-df-convert');\n",
              "        buttonEl.style.display =\n",
              "          google.colab.kernel.accessAllowed ? 'block' : 'none';\n",
              "\n",
              "        async function convertToInteractive(key) {\n",
              "          const element = document.querySelector('#df-f8218797-b07e-4533-8da2-b2017b56f9d7');\n",
              "          const dataTable =\n",
              "            await google.colab.kernel.invokeFunction('convertToInteractive',\n",
              "                                                     [key], {});\n",
              "          if (!dataTable) return;\n",
              "\n",
              "          const docLinkHtml = 'Like what you see? Visit the ' +\n",
              "            '<a target=\"_blank\" href=https://colab.research.google.com/notebooks/data_table.ipynb>data table notebook</a>'\n",
              "            + ' to learn more about interactive tables.';\n",
              "          element.innerHTML = '';\n",
              "          dataTable['output_type'] = 'display_data';\n",
              "          await google.colab.output.renderOutput(dataTable, element);\n",
              "          const docLink = document.createElement('div');\n",
              "          docLink.innerHTML = docLinkHtml;\n",
              "          element.appendChild(docLink);\n",
              "        }\n",
              "      </script>\n",
              "    </div>\n",
              "  </div>\n",
              "  "
            ]
          },
          "metadata": {},
          "execution_count": 2
        }
      ],
      "source": [
        "import pandas as pd\n",
        "pd.options.display.max_rows = 8\n",
        "\n",
        "df = pd.read_csv(\"../data/titanic.csv\")\n",
        "df.head()"
      ]
    },
    {
      "cell_type": "markdown",
      "metadata": {
        "id": "plmp6QiVAJ29"
      },
      "source": [
        "To get a quick summary of a variable, we can use the `.describe()` function. Let's see what happens when we call `.describe()` on a quantitative variable, like `age`."
      ]
    },
    {
      "cell_type": "code",
      "execution_count": null,
      "metadata": {
        "id": "DZrg6CxDAJ2-",
        "outputId": "2018afc2-74cd-4de6-f2c8-5a6404f8aeb8",
        "colab": {
          "base_uri": "https://localhost:8080/"
        }
      },
      "outputs": [
        {
          "output_type": "execute_result",
          "data": {
            "text/plain": [
              "count    1046.000000\n",
              "mean       29.881135\n",
              "std        14.413500\n",
              "min         0.166700\n",
              "25%        21.000000\n",
              "50%        28.000000\n",
              "75%        39.000000\n",
              "max        80.000000\n",
              "Name: age, dtype: float64"
            ]
          },
          "metadata": {},
          "execution_count": 28
        }
      ],
      "source": [
        "df.age.describe()\n",
        "#df['age'].describe()"
      ]
    },
    {
      "cell_type": "markdown",
      "metadata": {
        "id": "Mnyvp2dyAJ2-"
      },
      "source": [
        "It returns the count (the number of observations with non-missing values), the mean, the standard deviation (`std`), and various percentiles (`min`, `25%`, `50%`, `75%`, `max`).\n",
        "\n",
        "Now, what if we call `.describe()` on a categorical variable, like `embarked`? This is a variable that takes on the values `C`, `Q`, or `S`, depending on whether the passenger embarked at Cherbourg, Queenstown, or Southampton."
      ]
    },
    {
      "cell_type": "code",
      "execution_count": null,
      "metadata": {
        "id": "O-Z1dYAvAJ2-",
        "outputId": "a061e31d-a7a7-45ee-ec31-833a6803a804",
        "colab": {
          "base_uri": "https://localhost:8080/"
        }
      },
      "outputs": [
        {
          "output_type": "execute_result",
          "data": {
            "text/plain": [
              "count     1307\n",
              "unique       3\n",
              "top          S\n",
              "freq       914\n",
              "Name: embarked, dtype: object"
            ]
          },
          "metadata": {},
          "execution_count": 29
        }
      ],
      "source": [
        "df.embarked.describe()"
      ]
    },
    {
      "cell_type": "markdown",
      "metadata": {
        "id": "qOEZgme8AJ2_"
      },
      "source": [
        "The description of this variable is very different. We still get the count (of non-missing values). But instead of the mean and standard deviation (how would you calculate the mean of `Q` and `S`, anyway?), we get the number of unique values (`unique`), the value that appeared most often (`top`), and how often it appeared (`freq`). These are more natural summaries for a categorical variable, which only take on a limited set of values, where the values are often not even numeric."
      ]
    },
    {
      "cell_type": "markdown",
      "metadata": {
        "id": "lInkfeuMAJ2_"
      },
      "source": [
        "The `.describe()` function only provides a handful of the many summary statistics that are available in `pandas`. We extract additional summary statistics below."
      ]
    },
    {
      "cell_type": "markdown",
      "metadata": {
        "id": "1q9YR7IbAJ3A"
      },
      "source": [
        "## Summary Statistics for Quantitative Variables\n",
        "\n",
        "What statistics should we use to summarize a quantitative variable? The most salient features of a quantitative variable are its **center** and **spread**.\n",
        "\n",
        "### Measures of Center\n",
        "\n",
        "Some statistics measure the **center** of a variable. Two commonly used measures of the center are:\n",
        "\n",
        "- the **mean** (a.k.a. average): the sum of the values divided by the count\n",
        "- the **median**: the middle value when you sort the values (i.e., a value such that 50% of the values lie below and 50% of the values lie above)\n",
        "\n",
        "A measure of center gives us information about the \"typical\" value of a variable. For example, you might not know whether a typical fare on the Titanic was £1, £10, or £100. But if we calculate the mean:"
      ]
    },
    {
      "cell_type": "code",
      "execution_count": null,
      "metadata": {
        "id": "LrrTCSe0AJ3A",
        "outputId": "5f167792-0c86-4f93-e504-5d5c33e4ac3c",
        "colab": {
          "base_uri": "https://localhost:8080/"
        }
      },
      "outputs": [
        {
          "output_type": "execute_result",
          "data": {
            "text/plain": [
              "33.29547928134557"
            ]
          },
          "metadata": {},
          "execution_count": 30
        }
      ],
      "source": [
        "df.fare.mean()"
      ]
    },
    {
      "cell_type": "markdown",
      "metadata": {
        "id": "pb1f0JWsAJ3B"
      },
      "source": [
        "we see that a typical fare is around £30.\n",
        "\n",
        "Let's see what the median says about the \"typical\" fare:"
      ]
    },
    {
      "cell_type": "code",
      "execution_count": null,
      "metadata": {
        "id": "JbSkV_A8AJ3B",
        "outputId": "9700316e-d018-4374-fce1-dd155252ee05",
        "colab": {
          "base_uri": "https://localhost:8080/"
        }
      },
      "outputs": [
        {
          "output_type": "execute_result",
          "data": {
            "text/plain": [
              "14.4542"
            ]
          },
          "metadata": {},
          "execution_count": 31
        }
      ],
      "source": [
        "df.fare.median()"
      ]
    },
    {
      "cell_type": "markdown",
      "metadata": {
        "id": "i9gOlsY0AJ3B"
      },
      "source": [
        "The median is quite different from the mean! It says that about 50% of the passengers paid less than £15 and about 50% paid more, so another reasonable value for the \"typical\" fare is £15.\n",
        "\n",
        "The mean was twice the median! What explains this discrepancy? The reason is that the mean is very sensitive to extreme values. To see this, let's look at the highest fare that any passenger paid."
      ]
    },
    {
      "cell_type": "code",
      "execution_count": null,
      "metadata": {
        "id": "ypR1o1loAJ3C",
        "outputId": "65febf54-a14f-47ec-b184-0767ed306a29",
        "colab": {
          "base_uri": "https://localhost:8080/"
        }
      },
      "outputs": [
        {
          "output_type": "execute_result",
          "data": {
            "text/plain": [
              "512.3292"
            ]
          },
          "metadata": {},
          "execution_count": 32
        }
      ],
      "source": [
        "df.fare.max()"
      ]
    },
    {
      "cell_type": "markdown",
      "metadata": {
        "id": "sAnkC231AJ3C"
      },
      "source": [
        "The highest fare paid was over £500! Even if most passengers paid less than £15, extreme values like this one will drag the mean upward. On the other hand, since the median is always the middle value, it is not affected by the extreme values, as long as the ordering of the values is not changed.\n",
        "\n",
        "To drive this point home, let's see what would happen to the mean and median if that maximum fare were actually £10,000."
      ]
    },
    {
      "cell_type": "code",
      "execution_count": null,
      "metadata": {
        "id": "38lNSgpMAJ3C",
        "outputId": "0c725316-763f-4602-ed8c-88363a1de488",
        "colab": {
          "base_uri": "https://localhost:8080/"
        }
      },
      "outputs": [
        {
          "output_type": "execute_result",
          "data": {
            "text/plain": [
              "(62.309763073394485, 14.4542)"
            ]
          },
          "metadata": {},
          "execution_count": 33
        }
      ],
      "source": [
        "fare_10k = df.fare.replace(df.fare.max(), 10000)\n",
        "fare_10k.mean(), fare_10k.median()"
      ]
    },
    {
      "cell_type": "markdown",
      "metadata": {
        "id": "ZEU1363YAJ3D"
      },
      "source": [
        "Notice how the mean is now over £60, but the median is unchanged."
      ]
    },
    {
      "cell_type": "markdown",
      "metadata": {
        "id": "3613DKJsAJ3D"
      },
      "source": [
        "Just to satisfy our curiosity, let's learn more about this passenger who paid the maximum fare. To do this, we have to find the row that achieved this maximum value. Fortunately, there is a convenient `pandas` function, `.idxmax()`, that returns the _row index_ of the maximum fare. (A mathematician might call this the [\"arg max\"](https://en.wikipedia.org/wiki/Arg_max).)"
      ]
    },
    {
      "cell_type": "code",
      "execution_count": null,
      "metadata": {
        "id": "u205Xh7QAJ3D",
        "outputId": "4dbf0f9e-16e5-47ea-c031-3c3cf5dbff9c",
        "colab": {
          "base_uri": "https://localhost:8080/"
        }
      },
      "outputs": [
        {
          "output_type": "execute_result",
          "data": {
            "text/plain": [
              "49"
            ]
          },
          "metadata": {},
          "execution_count": 34
        }
      ],
      "source": [
        "df.fare.idxmax()"
      ]
    },
    {
      "cell_type": "markdown",
      "metadata": {
        "id": "06WuTxILAJ3D"
      },
      "source": [
        "Now we can select the row corresponding to this index using `.loc`, as we learned in the previous section."
      ]
    },
    {
      "cell_type": "code",
      "execution_count": null,
      "metadata": {
        "id": "vcSG4doBAJ3D",
        "outputId": "27dffa74-702f-49e6-d537-7e81c864c59a",
        "colab": {
          "base_uri": "https://localhost:8080/"
        }
      },
      "outputs": [
        {
          "output_type": "execute_result",
          "data": {
            "text/plain": [
              "pclass                                                    1\n",
              "survived                                                  1\n",
              "name                     Cardeza, Mr. Thomas Drake Martinez\n",
              "sex                                                    male\n",
              "                                  ...                      \n",
              "embarked                                                  C\n",
              "boat                                                      3\n",
              "body                                                    NaN\n",
              "home.dest    Austria-Hungary / Germantown, Philadelphia, PA\n",
              "Name: 49, Length: 14, dtype: object"
            ]
          },
          "metadata": {},
          "execution_count": 35
        }
      ],
      "source": [
        "df.loc[df.fare.idxmax()]\n",
        "#df.loc[49]"
      ]
    },
    {
      "cell_type": "markdown",
      "metadata": {
        "id": "RnfEupEWAJ3D"
      },
      "source": [
        "The median is a number below which 50% of the values fall. What if we want to know some other percentile? We can use the `.quantile()` function, which takes a percentile rank (between 0 and 1) as input and returns the corresponding percentile.\n",
        "\n",
        "For example, the 75th percentile is:"
      ]
    },
    {
      "cell_type": "code",
      "execution_count": null,
      "metadata": {
        "id": "p14mAmwLAJ3E",
        "outputId": "ce64bf43-254a-494d-c989-f788cbb27fb5",
        "colab": {
          "base_uri": "https://localhost:8080/"
        }
      },
      "outputs": [
        {
          "output_type": "execute_result",
          "data": {
            "text/plain": [
              "31.275"
            ]
          },
          "metadata": {},
          "execution_count": 36
        }
      ],
      "source": [
        "df.fare.quantile(.75)"
      ]
    },
    {
      "cell_type": "markdown",
      "metadata": {
        "id": "kebczFYjAJ3E"
      },
      "source": [
        "which is pretty close to the mean. So only about 25% of the passengers paid more than the mean! The mean is not a great measure of center when there are extreme values, as in this data set."
      ]
    },
    {
      "cell_type": "markdown",
      "metadata": {
        "id": "E1kOn9uRAJ3E"
      },
      "source": [
        "To summarize, we have encountered several `pandas` functions that can be used to summarize a quantitative variable:\n",
        "\n",
        "- `.mean()` calculates the mean or average.\n",
        "- `.median()` calculates the median.\n",
        "- `.quantile(q)` returns a value such that a fraction `q` of the values fall below that value (in other words, the (100q)th percentile).\n",
        "- `.max()` calculates the maximum value.\n",
        "- `.idxmax()` returns the index of the row with the maximum value. If there are multiple rows that achieve this value, then it will only return the index of the first occurrence.\n",
        "\n",
        "The corresponding functions for the _minimum_ value exist as well:\n",
        "\n",
        "- `.min()` calculates the minimum value.\n",
        "- `.idxmin()` returns the index of the row with the minimum value. If there are multiple rows that achieve this value, then it will only return the index of the first occurrence."
      ]
    },
    {
      "cell_type": "code",
      "execution_count": null,
      "metadata": {
        "id": "bLR1XxcbAJ3E",
        "outputId": "d20f4f8b-d435-49e8-bdbb-2a611871f243",
        "colab": {
          "base_uri": "https://localhost:8080/"
        }
      },
      "outputs": [
        {
          "output_type": "execute_result",
          "data": {
            "text/plain": [
              "0.0"
            ]
          },
          "metadata": {},
          "execution_count": 37
        }
      ],
      "source": [
        "df.fare.min()"
      ]
    },
    {
      "cell_type": "markdown",
      "metadata": {
        "id": "suCeYd6GAJ3E"
      },
      "source": [
        "Some passengers boarded the Titanic for free, apparently."
      ]
    },
    {
      "cell_type": "markdown",
      "metadata": {
        "id": "NJYrqKOgAJ3E"
      },
      "source": [
        "### Measures of Spread\n",
        "\n",
        "The center of a quantitative variable only tells part of the story. For one, it tells us nothing about how spread out the values are. Therefore, it is important to also report a measure of **spread**.\n",
        "\n",
        "Let's investigate a few measures of spread that are built into `pandas`. For completeness, the formulas for these statistics are provided, where $x_1, ..., x_n$ represent the values and $\\bar x$ their mean.\n",
        "\n",
        "The first statistic that might come to mind is the **mean absolute deviation**, or MAD. To calculate the MAD, you first calculate the difference between each observation and the mean. Values below the mean will have a negative difference, while values above the mean will have a positive difference. We don't want the negative differences to cancel out the positive differences, since _all_ of them contribute to the spread. So we take the absolute value of all the differences and then average.\n",
        "\n",
        "$$\n",
        "\\begin{align*}\n",
        "\\textrm{MAD} &= \\textrm{mean of } |x_i - \\bar x| \\\\\n",
        "&= \\frac{1}{n} \\sum_{i=1}^n |x_i - \\bar x|\n",
        "\\end{align*}\n",
        "$$\n",
        "\n",
        "We can implement the MAD ourselves using the `.mean()` and `.abs()` functions."
      ]
    },
    {
      "cell_type": "code",
      "execution_count": null,
      "metadata": {
        "id": "w71LYoRbAJ3F",
        "outputId": "6298a31b-9ef7-4173-8e47-05edc09e8989",
        "colab": {
          "base_uri": "https://localhost:8080/"
        }
      },
      "outputs": [
        {
          "output_type": "execute_result",
          "data": {
            "text/plain": [
              "0       178.042021\n",
              "1       118.254521\n",
              "2       118.254521\n",
              "3       118.254521\n",
              "           ...    \n",
              "1305    -18.841279\n",
              "1306    -26.070479\n",
              "1307    -26.070479\n",
              "1308    -25.420479\n",
              "Name: fare, Length: 1309, dtype: float64"
            ]
          },
          "metadata": {},
          "execution_count": 38
        }
      ],
      "source": [
        "# STEP 1: Calculate the difference between each fare and the mean.\n",
        "(df.fare - df.fare.mean())"
      ]
    },
    {
      "cell_type": "code",
      "execution_count": null,
      "metadata": {
        "id": "B33iXLQTAJ3F",
        "outputId": "6eec86d9-a872-418d-b033-d61535b4c324",
        "colab": {
          "base_uri": "https://localhost:8080/"
        }
      },
      "outputs": [
        {
          "output_type": "execute_result",
          "data": {
            "text/plain": [
              "0       178.042021\n",
              "1       118.254521\n",
              "2       118.254521\n",
              "3       118.254521\n",
              "           ...    \n",
              "1305     18.841279\n",
              "1306     26.070479\n",
              "1307     26.070479\n",
              "1308     25.420479\n",
              "Name: fare, Length: 1309, dtype: float64"
            ]
          },
          "metadata": {},
          "execution_count": 39
        }
      ],
      "source": [
        "# STEP 2: Calculate the absolute value of each difference.\n",
        "(df.fare - df.fare.mean()).abs()"
      ]
    },
    {
      "cell_type": "code",
      "execution_count": null,
      "metadata": {
        "id": "AKtVJ_sSAJ3F",
        "outputId": "88019b38-57ac-428c-9ef0-a722490e4272",
        "colab": {
          "base_uri": "https://localhost:8080/"
        }
      },
      "outputs": [
        {
          "output_type": "execute_result",
          "data": {
            "text/plain": [
              "29.798712688793497"
            ]
          },
          "metadata": {},
          "execution_count": 41
        }
      ],
      "source": [
        "# STEP 3: Take the mean of these absolute differences.\n",
        "(df.fare - df.fare.mean()).abs().mean()"
      ]
    },
    {
      "cell_type": "markdown",
      "metadata": {
        "id": "tcKbquK5AJ3F"
      },
      "source": [
        "Notice that in Step 1, we subtracted a single value (`df.fare.mean()`) from a `pandas` `Series` (`df.fare`). A `Series` is like an array, and in most programming languages, subtracting a number from an array is a type mismatch. But `pandas`  automatically **broadcasted** the subtraction over each number in the `Series`.\n",
        "\n",
        "The `.abs()` function in Step 2 is another example of broadcasting. The absolute value function is applied to each element of the `Series`."
      ]
    },
    {
      "cell_type": "markdown",
      "metadata": {
        "id": "jU6ftO3MAJ3F"
      },
      "source": [
        "The MAD is actually built into `pandas`, so there really is no reason to implement it from scratch, as we did above. Let's check that we get the same answer when we call the built-in function."
      ]
    },
    {
      "cell_type": "code",
      "execution_count": null,
      "metadata": {
        "id": "QJFq9BrDAJ3G",
        "outputId": "f4e598d5-a997-4d9c-dee6-e4ed4e07f99f",
        "colab": {
          "base_uri": "https://localhost:8080/"
        }
      },
      "outputs": [
        {
          "output_type": "execute_result",
          "data": {
            "text/plain": [
              "29.798712688793497"
            ]
          },
          "metadata": {},
          "execution_count": 40
        }
      ],
      "source": [
        "df.fare.mad()"
      ]
    },
    {
      "cell_type": "markdown",
      "metadata": {
        "id": "-jOyQ564AJ3G"
      },
      "source": [
        "Since the MAD is a mean of the absolute differences and the mean represents the \"typical\" value, we can interpret the MAD as saying that the \"typical\" fare is about £30 away from the average."
      ]
    },
    {
      "cell_type": "markdown",
      "metadata": {
        "id": "R0DBzBoNAJ3G"
      },
      "source": [
        "Another way to ensure that the negative and positive differences don't cancel is to square all the differences before averaging. This leads to the definition of **variance**.\n",
        "\n",
        "$$\\textrm{Variance} = \\textrm{mean of } (x_i - \\bar x)^2$$\n",
        "\n",
        "We can implement the variance ourselves using the .mean() and power (`**`) functions. Again, notice how the subtraction and the power function are broadcast over the elements of the `Series`."
      ]
    },
    {
      "cell_type": "code",
      "execution_count": null,
      "metadata": {
        "id": "oSOvOQBsAJ3G",
        "outputId": "830fcc33-5a7f-4ac6-edb4-b548f4e2b1f2",
        "colab": {
          "base_uri": "https://localhost:8080/"
        }
      },
      "outputs": [
        {
          "output_type": "execute_result",
          "data": {
            "text/plain": [
              "2676.9116035367038"
            ]
          },
          "metadata": {},
          "execution_count": 42
        }
      ],
      "source": [
        "((df.fare - df.fare.mean()) ** 2).mean()"
      ]
    },
    {
      "cell_type": "markdown",
      "metadata": {
        "id": "zAOQdFmpAJ3G"
      },
      "source": [
        "Alternatively, we can simply call the `.var()` function in `pandas`."
      ]
    },
    {
      "cell_type": "code",
      "execution_count": null,
      "metadata": {
        "id": "RXp_WQfiAJ3G",
        "outputId": "150e062c-5ce4-4163-c2da-2639f53de3e5",
        "colab": {
          "base_uri": "https://localhost:8080/"
        }
      },
      "outputs": [
        {
          "output_type": "execute_result",
          "data": {
            "text/plain": [
              "2678.959737892891"
            ]
          },
          "metadata": {},
          "execution_count": 43
        }
      ],
      "source": [
        "df.fare.var()"
      ]
    },
    {
      "cell_type": "markdown",
      "metadata": {
        "id": "uZ1L4fGlAJ3H"
      },
      "source": [
        "You might be surprised that `.var()` produces a slightly different number. This is because `pandas` divides by $n-1$ in calculating the mean of the squared differences, rather than $n$. That is, the formula that `pandas` uses is \n",
        "\n",
        "$$\\text{Variance} = \\frac{1}{n-1} \\sum_{i=1}^n (x_i - \\bar x)^2.$$\n",
        "\n",
        "To force Pandas to divide by $n$, you can set `ddof=0`."
      ]
    },
    {
      "cell_type": "code",
      "execution_count": null,
      "metadata": {
        "id": "S7tArE2iAJ3H",
        "outputId": "1cc21e94-aad9-4397-9ded-58f026e3a5bb",
        "colab": {
          "base_uri": "https://localhost:8080/"
        }
      },
      "outputs": [
        {
          "output_type": "execute_result",
          "data": {
            "text/plain": [
              "2676.9116035367038"
            ]
          },
          "metadata": {},
          "execution_count": 44
        }
      ],
      "source": [
        "df.fare.var(ddof=0)"
      ]
    },
    {
      "cell_type": "markdown",
      "metadata": {
        "id": "PJgNHHnAAJ3I"
      },
      "source": [
        "Now the value returned by `pandas` matches the value we obtained manually."
      ]
    },
    {
      "cell_type": "markdown",
      "metadata": {
        "id": "K0-pf1hCAJ3I"
      },
      "source": [
        "#### Why We Divide By $n-1$ \n",
        "\n",
        "Data is often a sample from some population. The point of calculating the variance of a sample is to be able to say something about the spread of the population.\n",
        "\n",
        "To see why we divide by $n-1$ to measure the spread of a population, consider the extreme case where we have a sample of size $n=1$. What can we say about the spread of the population based on this one observation? Absolutely nothing! We need a sample of size at least $n=2$ to be able to say anything about the _spread_. Therefore, the variance is undefined when $n=1$. In order to make the variance not defined for $n=1$, we divide by $n-1$ so that we have $0/0$ when $n=1$. The variance formula above is only defined when $n \\geq 2$."
      ]
    },
    {
      "cell_type": "markdown",
      "metadata": {
        "id": "dMsWy0HMAJ3I"
      },
      "source": [
        "The trouble with variance is that its units are wrong. If the original values $x_1, ..., x_n$ were in pounds, the variance would be in pounds _squared_. This is obvious if you simply look at the magnitude of the variance in the example above; the variance is in the _thousands_, even though the largest fare is just over £500.  To correct the units of variance, we take the square root to obtain a more interpretable measure of spread, called the **standard deviation**:\n",
        "\n",
        "$$\\textrm{SD} = \\sqrt{\\textrm{Variance}}.$$"
      ]
    },
    {
      "cell_type": "code",
      "execution_count": null,
      "metadata": {
        "id": "K0qr2uTbAJ3I",
        "outputId": "11c7fa16-ddd1-4da1-cf42-d6fb14ccf689",
        "colab": {
          "base_uri": "https://localhost:8080/"
        }
      },
      "outputs": [
        {
          "output_type": "execute_result",
          "data": {
            "text/plain": [
              "51.75866823917411"
            ]
          },
          "metadata": {},
          "execution_count": 45
        }
      ],
      "source": [
        "df.fare.std()"
      ]
    },
    {
      "cell_type": "markdown",
      "metadata": {
        "id": "PVo_D4EyAJ3I"
      },
      "source": [
        "We can interpret this standard deviation as saying: the \"typical\" fare is about £50 away from the average."
      ]
    },
    {
      "cell_type": "markdown",
      "metadata": {
        "id": "nKl3h1zrAJ3I"
      },
      "source": [
        "The standard deviation is the most widely used measure of spread, more common than the MAD. At first, this might seem odd. To calculate the standard deviation, we squared the differences from the mean, only to take a square root in the end. Why bother with this rigamarole, when we could just calculate absolute values instead?\n",
        "\n",
        "The reasons for preferring the standard deviation are complicated. But the short answer is that the variance (which is the square of the standard deviation) is much nicer mathematically. If you know calculus, you might remember that the absolute value function does not have a derivative at 0. Therefore, the MAD is not _differentiable_, which makes it inconvenient mathematically (especially for various machine learning applications). That doesn't necessarily mean that it's any worse as a measure of spread."
      ]
    },
    {
      "cell_type": "markdown",
      "metadata": {
        "id": "Fviad6KnAJ3I"
      },
      "source": [
        "## Summary Statistics for Categorical Variables\n",
        "\n",
        "Although there are many ways to summarize a quantitative variable, there is really only one way to summarize a categorical variable. Since a categorical variable can only take on a limited set of values, we can completely summarize the variable by reporting the frequencies of the different categories. The `pandas` function that produces this summary is `.value_counts()`."
      ]
    },
    {
      "cell_type": "code",
      "execution_count": null,
      "metadata": {
        "id": "h7M4pcpWAJ3I",
        "outputId": "14ee8b53-4592-48c9-aaf0-f9c2e6b8b582",
        "colab": {
          "base_uri": "https://localhost:8080/"
        }
      },
      "outputs": [
        {
          "output_type": "execute_result",
          "data": {
            "text/plain": [
              "S    914\n",
              "C    270\n",
              "Q    123\n",
              "Name: embarked, dtype: int64"
            ]
          },
          "metadata": {},
          "execution_count": 46
        }
      ],
      "source": [
        "embarked_counts = df.embarked.value_counts()\n",
        "embarked_counts"
      ]
    },
    {
      "cell_type": "markdown",
      "metadata": {
        "id": "i-gv_sq3AJ3I"
      },
      "source": [
        "Note that the counts are sorted in decreasing order by default, so the first element corresponds to `top` in the summary produced by `.describe()`. Southampton was the most common point of embarkation. \n",
        "\n",
        "Since the counts are stored in a `pandas` `Series` indexed by category, we can extract a particular count using either label-based or position-based selection:"
      ]
    },
    {
      "cell_type": "code",
      "execution_count": null,
      "metadata": {
        "id": "lxc8ELBjAJ3J",
        "outputId": "643463c7-b3b3-4284-b6ee-fc88978f38d8",
        "colab": {
          "base_uri": "https://localhost:8080/"
        }
      },
      "outputs": [
        {
          "output_type": "execute_result",
          "data": {
            "text/plain": [
              "(270, 270)"
            ]
          },
          "metadata": {},
          "execution_count": 47
        }
      ],
      "source": [
        "embarked_counts.loc[\"C\"], embarked_counts.iloc[1]"
      ]
    },
    {
      "cell_type": "markdown",
      "metadata": {
        "id": "Mu-1HzCtAJ3J"
      },
      "source": [
        "Instead of the _number_ of passengers embarking at each location, we might instead want to know the _percentage_ of passengers. To do this, divide the `Series` by the sum to turn the counts into **proportions**. (The term _proportion_ refers to a percentage when it is expressed as a number between 0 and 1, instead of between 0% and 100%.) Proportions must add up to 1, just as percentages must add up to 100%."
      ]
    },
    {
      "cell_type": "code",
      "execution_count": null,
      "metadata": {
        "id": "OQPgKp7HAJ3J",
        "outputId": "72eb1113-3dff-4b8d-84c0-7ca33d57b738",
        "colab": {
          "base_uri": "https://localhost:8080/"
        }
      },
      "outputs": [
        {
          "output_type": "execute_result",
          "data": {
            "text/plain": [
              "S    0.699311\n",
              "C    0.206580\n",
              "Q    0.094109\n",
              "Name: embarked, dtype: float64"
            ]
          },
          "metadata": {},
          "execution_count": 48
        }
      ],
      "source": [
        "embarked_counts / embarked_counts.sum()"
      ]
    },
    {
      "cell_type": "markdown",
      "metadata": {
        "id": "0NtvD_K3AJ3J"
      },
      "source": [
        "Notice the use of _broadcasting_ again; `embarked_counts` is a `Series`, but `embarked_counts.sum()` is a number. When a `Series` is divided by a number, the division is automatically applied to each element of the `Series`, producing another `Series`."
      ]
    },
    {
      "cell_type": "markdown",
      "metadata": {
        "id": "Xc8cWLTXAJ3J"
      },
      "source": [
        "### Binary Categorical Variables\n",
        "\n",
        "A binary categorical variable (i.e., a categorical variable with two categories) can be represented as a quantitative variable by coding one category as 1 and the other as 0.\n",
        "\n",
        "In the Titanic data set, the `survived` variable has been coded this way. Each passenger either survived (1) or didn't (0)."
      ]
    },
    {
      "cell_type": "code",
      "execution_count": null,
      "metadata": {
        "id": "eabWxGjfAJ3J",
        "outputId": "ae681fc2-6d6e-44cf-cd6c-3b1766c359a3",
        "colab": {
          "base_uri": "https://localhost:8080/"
        }
      },
      "outputs": [
        {
          "output_type": "execute_result",
          "data": {
            "text/plain": [
              "0       1\n",
              "1       1\n",
              "2       0\n",
              "3       0\n",
              "       ..\n",
              "1305    0\n",
              "1306    0\n",
              "1307    0\n",
              "1308    0\n",
              "Name: survived, Length: 1309, dtype: int64"
            ]
          },
          "metadata": {},
          "execution_count": 49
        }
      ],
      "source": [
        "df.survived"
      ]
    },
    {
      "cell_type": "markdown",
      "metadata": {
        "id": "cnEJi8B0AJ3J"
      },
      "source": [
        "Although we can use `.value_counts()` to determine how many passengers survived:"
      ]
    },
    {
      "cell_type": "code",
      "execution_count": null,
      "metadata": {
        "id": "V0r28XwIAJ3J",
        "outputId": "5053a5bb-9092-4ce1-9b80-7c3e16c01c18",
        "colab": {
          "base_uri": "https://localhost:8080/"
        }
      },
      "outputs": [
        {
          "output_type": "execute_result",
          "data": {
            "text/plain": [
              "0    809\n",
              "1    500\n",
              "Name: survived, dtype: int64"
            ]
          },
          "metadata": {},
          "execution_count": 50
        }
      ],
      "source": [
        "df.survived.value_counts()"
      ]
    },
    {
      "cell_type": "markdown",
      "metadata": {
        "id": "F3FyDs7xAJ3K"
      },
      "source": [
        "we can also call `.sum()` and `.mean()` on this variable because the values are numeric.\n",
        "\n",
        "What does `.sum()` do?"
      ]
    },
    {
      "cell_type": "code",
      "execution_count": null,
      "metadata": {
        "id": "kFyjJaaGAJ3K",
        "outputId": "55c0e7e4-e578-421c-ebaf-7fea6e8628ca",
        "colab": {
          "base_uri": "https://localhost:8080/"
        }
      },
      "outputs": [
        {
          "output_type": "execute_result",
          "data": {
            "text/plain": [
              "500"
            ]
          },
          "metadata": {},
          "execution_count": 51
        }
      ],
      "source": [
        "df.survived.sum()"
      ]
    },
    {
      "cell_type": "markdown",
      "metadata": {
        "id": "tkBPEqcNAJ3K"
      },
      "source": [
        "`.sum()` returns the _number_ of ones. To see why, remember that this `Series` only 0s and 1s. Each 1 we encounter increments the sum by one, and each 0 contributes nothing to the sum. So when we add up all the numbers, we end up with the number of ones---or, in this example, the number of survivors.\n",
        "\n",
        "What about `.mean()`?"
      ]
    },
    {
      "cell_type": "code",
      "execution_count": null,
      "metadata": {
        "id": "Fjo1c736AJ3K",
        "outputId": "32a55937-968d-479c-d2af-45dd802aff6e",
        "colab": {
          "base_uri": "https://localhost:8080/"
        }
      },
      "outputs": [
        {
          "output_type": "execute_result",
          "data": {
            "text/plain": [
              "0.3819709702062643"
            ]
          },
          "metadata": {},
          "execution_count": 52
        }
      ],
      "source": [
        "df.survived.mean()"
      ]
    },
    {
      "cell_type": "markdown",
      "metadata": {
        "id": "KIpUM2KUAJ3K"
      },
      "source": [
        "`.mean()` returns the _proportion_ of ones. To see why, remember that the mean is the sum divided by the number of observations. The sum, as we have just discussed, is the number of 1s. Dividing this by the number of observations gives us the proportion of 1s---or, in this example, the proportion of survivors.\n",
        "\n",
        "$$ \\text{mean} = \\frac{\\text{sum}}{n} = \\frac{\\text{number of survivors}}{\\text{number of passengers}} = \\text{proportion of passengers who survived}.$$"
      ]
    },
    {
      "cell_type": "markdown",
      "metadata": {
        "id": "ADnUiql2AJ3K"
      },
      "source": [
        "## Summary Statistics for Other Variables?\n",
        "\n",
        "In the last section, we noted that `name` is not a categorical variable because it does not take on a limited set of values. Hopefully, you now see why it was important to make this distinction. It does not make sense to analyze `name` like we analyzed `embarked` above. For example, if we calculate the frequency of each unique value in `name`, we don't learn much, since names generally do not repeat. "
      ]
    },
    {
      "cell_type": "code",
      "execution_count": null,
      "metadata": {
        "id": "hdgb3QjGAJ3K",
        "outputId": "da49d376-2520-4249-f401-95c13d554070",
        "colab": {
          "base_uri": "https://localhost:8080/"
        }
      },
      "outputs": [
        {
          "output_type": "execute_result",
          "data": {
            "text/plain": [
              "Connolly, Miss. Kate             2\n",
              "Kelly, Mr. James                 2\n",
              "Allen, Miss. Elisabeth Walton    1\n",
              "Ilmakangas, Miss. Ida Livija     1\n",
              "                                ..\n",
              "Harris, Mr. Walter               1\n",
              "Harris, Mr. George               1\n",
              "Harper, Rev. John                1\n",
              "Zimmerman, Mr. Leo               1\n",
              "Name: name, Length: 1307, dtype: int64"
            ]
          },
          "metadata": {},
          "execution_count": 53
        }
      ],
      "source": [
        "df.name.value_counts()"
      ]
    },
    {
      "cell_type": "markdown",
      "metadata": {
        "id": "X6MaCm07AJ3L"
      },
      "source": [
        "That is why `name` was classified as an \"other\" variable. \"Other\" variables require additional processing before they can be summarized and analyzed. For example, if we extracted just the surnames from the `name` variable, then it might make sense to analyze this new variable as a categorical variable. The following case study shows how.\n",
        "\n",
        "### Case Study: Extracting the Surname from the Names\n",
        "\n",
        "We can extract the surnames from the names using the [built-in string processing functions](https://pandas.pydata.org/pandas-docs/stable/text.html), all of which are preceded by `.str`. The string processing function that will be most useful to us is `.str.split()`, which allows us to split each string in a `Series` by some sequence of characters.  (In other words, the `split()` function is _broadcast_ over the strings in the `Series`.) Since the surname and other names are separated by `\", \"`, we will split by `\", \"` to obtain two chunks, the first of which is the surname."
      ]
    },
    {
      "cell_type": "code",
      "execution_count": null,
      "metadata": {
        "id": "KZ19BVjQAJ3L",
        "outputId": "30fa1ff7-524d-461d-b625-e2ba17e58670",
        "colab": {
          "base_uri": "https://localhost:8080/"
        }
      },
      "outputs": [
        {
          "output_type": "execute_result",
          "data": {
            "text/plain": [
              "0              [Allen, Miss. Elisabeth Walton]\n",
              "1             [Allison, Master. Hudson Trevor]\n",
              "2               [Allison, Miss. Helen Loraine]\n",
              "3       [Allison, Mr. Hudson Joshua Creighton]\n",
              "                         ...                  \n",
              "1305                   [Zabour, Miss. Thamine]\n",
              "1306               [Zakarian, Mr. Mapriededer]\n",
              "1307                     [Zakarian, Mr. Ortin]\n",
              "1308                      [Zimmerman, Mr. Leo]\n",
              "Name: name, Length: 1309, dtype: object"
            ]
          },
          "metadata": {},
          "execution_count": 54
        }
      ],
      "source": [
        "df.name.str.split(\", \")"
      ]
    },
    {
      "cell_type": "markdown",
      "metadata": {
        "id": "pwMpPYnVAJ3L"
      },
      "source": [
        "We can specify the option `expand=True` to get a `DataFrame` where each chunk is a separate column. The surnames are now in the first column."
      ]
    },
    {
      "cell_type": "code",
      "execution_count": null,
      "metadata": {
        "id": "zjG6T7VmAJ3L",
        "outputId": "2639b358-5fc9-4dba-94d7-bcafe70cd827",
        "colab": {
          "base_uri": "https://localhost:8080/",
          "height": 357
        }
      },
      "outputs": [
        {
          "output_type": "execute_result",
          "data": {
            "text/plain": [
              "              0                            1\n",
              "0         Allen       Miss. Elisabeth Walton\n",
              "1       Allison        Master. Hudson Trevor\n",
              "2       Allison          Miss. Helen Loraine\n",
              "3       Allison  Mr. Hudson Joshua Creighton\n",
              "...         ...                          ...\n",
              "1305     Zabour                Miss. Thamine\n",
              "1306   Zakarian              Mr. Mapriededer\n",
              "1307   Zakarian                    Mr. Ortin\n",
              "1308  Zimmerman                      Mr. Leo\n",
              "\n",
              "[1309 rows x 2 columns]"
            ],
            "text/html": [
              "\n",
              "  <div id=\"df-4fc2fb0b-be6e-4ae8-8ce8-a3ee1b9a6c0f\">\n",
              "    <div class=\"colab-df-container\">\n",
              "      <div>\n",
              "<style scoped>\n",
              "    .dataframe tbody tr th:only-of-type {\n",
              "        vertical-align: middle;\n",
              "    }\n",
              "\n",
              "    .dataframe tbody tr th {\n",
              "        vertical-align: top;\n",
              "    }\n",
              "\n",
              "    .dataframe thead th {\n",
              "        text-align: right;\n",
              "    }\n",
              "</style>\n",
              "<table border=\"1\" class=\"dataframe\">\n",
              "  <thead>\n",
              "    <tr style=\"text-align: right;\">\n",
              "      <th></th>\n",
              "      <th>0</th>\n",
              "      <th>1</th>\n",
              "    </tr>\n",
              "  </thead>\n",
              "  <tbody>\n",
              "    <tr>\n",
              "      <th>0</th>\n",
              "      <td>Allen</td>\n",
              "      <td>Miss. Elisabeth Walton</td>\n",
              "    </tr>\n",
              "    <tr>\n",
              "      <th>1</th>\n",
              "      <td>Allison</td>\n",
              "      <td>Master. Hudson Trevor</td>\n",
              "    </tr>\n",
              "    <tr>\n",
              "      <th>2</th>\n",
              "      <td>Allison</td>\n",
              "      <td>Miss. Helen Loraine</td>\n",
              "    </tr>\n",
              "    <tr>\n",
              "      <th>3</th>\n",
              "      <td>Allison</td>\n",
              "      <td>Mr. Hudson Joshua Creighton</td>\n",
              "    </tr>\n",
              "    <tr>\n",
              "      <th>...</th>\n",
              "      <td>...</td>\n",
              "      <td>...</td>\n",
              "    </tr>\n",
              "    <tr>\n",
              "      <th>1305</th>\n",
              "      <td>Zabour</td>\n",
              "      <td>Miss. Thamine</td>\n",
              "    </tr>\n",
              "    <tr>\n",
              "      <th>1306</th>\n",
              "      <td>Zakarian</td>\n",
              "      <td>Mr. Mapriededer</td>\n",
              "    </tr>\n",
              "    <tr>\n",
              "      <th>1307</th>\n",
              "      <td>Zakarian</td>\n",
              "      <td>Mr. Ortin</td>\n",
              "    </tr>\n",
              "    <tr>\n",
              "      <th>1308</th>\n",
              "      <td>Zimmerman</td>\n",
              "      <td>Mr. Leo</td>\n",
              "    </tr>\n",
              "  </tbody>\n",
              "</table>\n",
              "<p>1309 rows × 2 columns</p>\n",
              "</div>\n",
              "      <button class=\"colab-df-convert\" onclick=\"convertToInteractive('df-4fc2fb0b-be6e-4ae8-8ce8-a3ee1b9a6c0f')\"\n",
              "              title=\"Convert this dataframe to an interactive table.\"\n",
              "              style=\"display:none;\">\n",
              "        \n",
              "  <svg xmlns=\"http://www.w3.org/2000/svg\" height=\"24px\"viewBox=\"0 0 24 24\"\n",
              "       width=\"24px\">\n",
              "    <path d=\"M0 0h24v24H0V0z\" fill=\"none\"/>\n",
              "    <path d=\"M18.56 5.44l.94 2.06.94-2.06 2.06-.94-2.06-.94-.94-2.06-.94 2.06-2.06.94zm-11 1L8.5 8.5l.94-2.06 2.06-.94-2.06-.94L8.5 2.5l-.94 2.06-2.06.94zm10 10l.94 2.06.94-2.06 2.06-.94-2.06-.94-.94-2.06-.94 2.06-2.06.94z\"/><path d=\"M17.41 7.96l-1.37-1.37c-.4-.4-.92-.59-1.43-.59-.52 0-1.04.2-1.43.59L10.3 9.45l-7.72 7.72c-.78.78-.78 2.05 0 2.83L4 21.41c.39.39.9.59 1.41.59.51 0 1.02-.2 1.41-.59l7.78-7.78 2.81-2.81c.8-.78.8-2.07 0-2.86zM5.41 20L4 18.59l7.72-7.72 1.47 1.35L5.41 20z\"/>\n",
              "  </svg>\n",
              "      </button>\n",
              "      \n",
              "  <style>\n",
              "    .colab-df-container {\n",
              "      display:flex;\n",
              "      flex-wrap:wrap;\n",
              "      gap: 12px;\n",
              "    }\n",
              "\n",
              "    .colab-df-convert {\n",
              "      background-color: #E8F0FE;\n",
              "      border: none;\n",
              "      border-radius: 50%;\n",
              "      cursor: pointer;\n",
              "      display: none;\n",
              "      fill: #1967D2;\n",
              "      height: 32px;\n",
              "      padding: 0 0 0 0;\n",
              "      width: 32px;\n",
              "    }\n",
              "\n",
              "    .colab-df-convert:hover {\n",
              "      background-color: #E2EBFA;\n",
              "      box-shadow: 0px 1px 2px rgba(60, 64, 67, 0.3), 0px 1px 3px 1px rgba(60, 64, 67, 0.15);\n",
              "      fill: #174EA6;\n",
              "    }\n",
              "\n",
              "    [theme=dark] .colab-df-convert {\n",
              "      background-color: #3B4455;\n",
              "      fill: #D2E3FC;\n",
              "    }\n",
              "\n",
              "    [theme=dark] .colab-df-convert:hover {\n",
              "      background-color: #434B5C;\n",
              "      box-shadow: 0px 1px 3px 1px rgba(0, 0, 0, 0.15);\n",
              "      filter: drop-shadow(0px 1px 2px rgba(0, 0, 0, 0.3));\n",
              "      fill: #FFFFFF;\n",
              "    }\n",
              "  </style>\n",
              "\n",
              "      <script>\n",
              "        const buttonEl =\n",
              "          document.querySelector('#df-4fc2fb0b-be6e-4ae8-8ce8-a3ee1b9a6c0f button.colab-df-convert');\n",
              "        buttonEl.style.display =\n",
              "          google.colab.kernel.accessAllowed ? 'block' : 'none';\n",
              "\n",
              "        async function convertToInteractive(key) {\n",
              "          const element = document.querySelector('#df-4fc2fb0b-be6e-4ae8-8ce8-a3ee1b9a6c0f');\n",
              "          const dataTable =\n",
              "            await google.colab.kernel.invokeFunction('convertToInteractive',\n",
              "                                                     [key], {});\n",
              "          if (!dataTable) return;\n",
              "\n",
              "          const docLinkHtml = 'Like what you see? Visit the ' +\n",
              "            '<a target=\"_blank\" href=https://colab.research.google.com/notebooks/data_table.ipynb>data table notebook</a>'\n",
              "            + ' to learn more about interactive tables.';\n",
              "          element.innerHTML = '';\n",
              "          dataTable['output_type'] = 'display_data';\n",
              "          await google.colab.output.renderOutput(dataTable, element);\n",
              "          const docLink = document.createElement('div');\n",
              "          docLink.innerHTML = docLinkHtml;\n",
              "          element.appendChild(docLink);\n",
              "        }\n",
              "      </script>\n",
              "    </div>\n",
              "  </div>\n",
              "  "
            ]
          },
          "metadata": {},
          "execution_count": 55
        }
      ],
      "source": [
        "df.name.str.split(\", \", expand=True)"
      ]
    },
    {
      "cell_type": "markdown",
      "metadata": {
        "id": "czbOHKtAAJ3L"
      },
      "source": [
        "Now we can select the surnames column (the column is named `0` in the `DataFrame`)."
      ]
    },
    {
      "cell_type": "code",
      "execution_count": null,
      "metadata": {
        "id": "tHQ6H-UvAJ3L",
        "outputId": "f599386b-4e93-47f4-a872-d68349596a97",
        "colab": {
          "base_uri": "https://localhost:8080/"
        }
      },
      "outputs": [
        {
          "output_type": "execute_result",
          "data": {
            "text/plain": [
              "0           Allen\n",
              "1         Allison\n",
              "2         Allison\n",
              "3         Allison\n",
              "          ...    \n",
              "1305       Zabour\n",
              "1306     Zakarian\n",
              "1307     Zakarian\n",
              "1308    Zimmerman\n",
              "Name: 0, Length: 1309, dtype: object"
            ]
          },
          "metadata": {},
          "execution_count": 56
        }
      ],
      "source": [
        "surnames = df.name.str.split(\", \", expand=True)[0]\n",
        "surnames"
      ]
    },
    {
      "cell_type": "markdown",
      "metadata": {
        "id": "ZxitPwO9AJ3L"
      },
      "source": [
        "Since there are multiple passengers with the same surname, this is a categorical variable. We can use `.value_counts()` to find out which surnames were most common."
      ]
    },
    {
      "cell_type": "code",
      "execution_count": null,
      "metadata": {
        "id": "HBEFLpocAJ3M",
        "outputId": "f3342890-96a2-4663-b2fc-7a533c7c5c69",
        "colab": {
          "base_uri": "https://localhost:8080/"
        }
      },
      "outputs": [
        {
          "output_type": "execute_result",
          "data": {
            "text/plain": [
              "Andersson    11\n",
              "Sage         11\n",
              "Goodwin       8\n",
              "Asplund       8\n",
              "             ..\n",
              "Nesson        1\n",
              "Nicholls      1\n",
              "Norman        1\n",
              "Zimmerman     1\n",
              "Name: 0, Length: 875, dtype: int64"
            ]
          },
          "metadata": {},
          "execution_count": 57
        }
      ],
      "source": [
        "surnames.value_counts()"
      ]
    },
    {
      "cell_type": "markdown",
      "source": [
        "## Plotting\n",
        "\n",
        "While the above code summarizes data in various ways, oftentimes it is best to visualize as much of the data distribution as you can. This can help identify interesting patterns, outliers, and possible data quality issues.\n",
        "\n",
        "Jupyter notebooks support a reproducible workflow by allowing graphics to be embedded directly in a notebook. Now, the graphic and the code that generated it live in the same file, adjacent to one another. \n",
        "\n",
        "The key plotting library will will use is `matplotlib`. It is a very extensive library with a rich plotting capabilities. You'll probably be referencing the documentation a lot to figure out how to get the graphs you want. A good starting point is [here](https://matplotlib.org/stable/tutorials/introductory/pyplot.html).\n",
        "\n",
        "Below, we introduce three types of charts:\n",
        "\n",
        "1. Histograms\n",
        "2. Densities\n",
        "3. Bar Graphs\n"
      ],
      "metadata": {
        "id": "vr4JopJVZyhz"
      }
    },
    {
      "cell_type": "markdown",
      "source": [
        "### Histograms\n",
        "\n",
        "The standard visualization for a single quantitative variable is the **histogram**. A histogram sorts the values into bins and uses bars to represent the number of values in each bin.\n",
        "\n",
        "To make a histogram, we call the `.plot.hist()` method of the selected variable. All of the plotting functions in `pandas` are preceded by `.plot`."
      ],
      "metadata": {
        "id": "j4WhrNjHcGKk"
      }
    },
    {
      "cell_type": "code",
      "source": [
        "df.fare.plot.hist()"
      ],
      "metadata": {
        "colab": {
          "base_uri": "https://localhost:8080/",
          "height": 282
        },
        "id": "iArywG0iac01",
        "outputId": "4d114320-54f7-4bb3-be4d-f8d8b997e3d8"
      },
      "execution_count": null,
      "outputs": [
        {
          "output_type": "execute_result",
          "data": {
            "text/plain": [
              "<matplotlib.axes._subplots.AxesSubplot at 0x7f590b6bc350>"
            ]
          },
          "metadata": {},
          "execution_count": 58
        },
        {
          "output_type": "display_data",
          "data": {
            "text/plain": [
              "<Figure size 432x288 with 1 Axes>"
            ],
            "image/png": "[encoded data removed]"
          },
          "metadata": {
            "needs_background": "light"
          }
        }
      ]
    },
    {
      "cell_type": "markdown",
      "source": [
        "We can use more bins to get a higher resolution histogram."
      ],
      "metadata": {
        "id": "dvgLWt6DbkHB"
      }
    },
    {
      "cell_type": "code",
      "source": [
        "df.fare.plot.hist(bins=50)"
      ],
      "metadata": {
        "colab": {
          "base_uri": "https://localhost:8080/",
          "height": 282
        },
        "id": "Ho5yxhl3boI0",
        "outputId": "cc4b9d9c-2757-4575-b6bc-09cd6a92f09c"
      },
      "execution_count": null,
      "outputs": [
        {
          "output_type": "execute_result",
          "data": {
            "text/plain": [
              "<matplotlib.axes._subplots.AxesSubplot at 0x7f590b6d4c90>"
            ]
          },
          "metadata": {},
          "execution_count": 59
        },
        {
          "output_type": "display_data",
          "data": {
            "text/plain": [
              "<Figure size 432x288 with 1 Axes>"
            ],
            "image/png": "[encoded data removed]"
          },
          "metadata": {
            "needs_background": "light"
          }
        }
      ]
    },
    {
      "cell_type": "markdown",
      "source": [
        "From this graph, we see a concentration of values around 10-30 (which we previously identified as the \"center\") and a spread of about 30-50 (which we previously identified as the \"spread\"). We also see the outlier who paid more than £500. We also see features that were not obvious before: the skewed shape of the distribution, the gap between £300 and £500, and so on. This single picture has managed to convey more information than a dozen summary statistics.\n",
        "\n",
        "We might want to plot more than one histogram on the same graphic to make for easy comparison. To do this, we simply make multiple calls to plotting functions within the same cell. For example, if we wanted to compare the distributions of the number of siblings/spouses and the number of parents/children that accompanied passengers, we could call `.plot.hist()` twice."
      ],
      "metadata": {
        "id": "zGbCOAi1bujp"
      }
    },
    {
      "cell_type": "code",
      "source": [
        "df.sibsp.plot.hist()\n",
        "df.parch.plot.hist()"
      ],
      "metadata": {
        "colab": {
          "base_uri": "https://localhost:8080/",
          "height": 282
        },
        "id": "ksT4TxRIby_z",
        "outputId": "11bea9cc-4527-462b-8d66-bebda3746fb5"
      },
      "execution_count": null,
      "outputs": [
        {
          "output_type": "execute_result",
          "data": {
            "text/plain": [
              "<matplotlib.axes._subplots.AxesSubplot at 0x7f590b62fd50>"
            ]
          },
          "metadata": {},
          "execution_count": 60
        },
        {
          "output_type": "display_data",
          "data": {
            "text/plain": [
              "<Figure size 432x288 with 1 Axes>"
            ],
            "image/png": "[encoded data removed]"
          },
          "metadata": {
            "needs_background": "light"
          }
        }
      ]
    },
    {
      "cell_type": "markdown",
      "source": [
        "Notice that `pandas` automatically plotted the two histograms using different colors. There are two problems with this plot. First, we don't know which color corresponds to which variable. Second, we cannot see the blue histogram underneath the orange histogram because the colors are opaque.\n",
        "\n",
        "To solve the first problem, we add a legend for each variable by specifying `legend=True`. To solve the second problem, we set the transparency `alpha`, which is a number between 0 and 1, with 0 being perfectly transparent and 1 being completely opaque. Try varying `alpha` to get a feel for what it does."
      ],
      "metadata": {
        "id": "b3W4Zi2qb13V"
      }
    },
    {
      "cell_type": "code",
      "source": [
        "df.sibsp.plot.hist(legend=True, alpha=.5)\n",
        "df.parch.plot.hist(legend=True, alpha=.2)"
      ],
      "metadata": {
        "colab": {
          "base_uri": "https://localhost:8080/",
          "height": 282
        },
        "id": "4eMgWgaAb5E0",
        "outputId": "afcdb883-27f0-4086-87b9-d20e8e3d6b17"
      },
      "execution_count": null,
      "outputs": [
        {
          "output_type": "execute_result",
          "data": {
            "text/plain": [
              "<matplotlib.axes._subplots.AxesSubplot at 0x7f590b480390>"
            ]
          },
          "metadata": {},
          "execution_count": 61
        },
        {
          "output_type": "display_data",
          "data": {
            "text/plain": [
              "<Figure size 432x288 with 1 Axes>"
            ],
            "image/png": "[encoded data removed]"
          },
          "metadata": {
            "needs_background": "light"
          }
        }
      ]
    },
    {
      "cell_type": "markdown",
      "source": [
        "The parents/children histogram is higher at 0 and 2, but the sibling/spouse histogram is higher at 1. This makes sense because\n",
        "\n",
        "1. There were many childless couples on the Titanic (i.e., 0 children).\n",
        "2. You can only have 1 spouse, but many children travel with 2 parents."
      ],
      "metadata": {
        "id": "QxZt1AULb8B1"
      }
    },
    {
      "cell_type": "markdown",
      "source": [
        "### Densities\n",
        "\n",
        "Another way to visualize the distribution of a quantitative variable is by plotting its **density**. A density plot turns the jagged histogram into a smooth curve, allowing the user to focus on the general shape of the distribution."
      ],
      "metadata": {
        "id": "tywmg614cKLO"
      }
    },
    {
      "cell_type": "code",
      "source": [
        "df.fare.plot.density()"
      ],
      "metadata": {
        "colab": {
          "base_uri": "https://localhost:8080/",
          "height": 282
        },
        "id": "_QuoNIT5cMi1",
        "outputId": "f7bd16e1-e46f-4ae5-cc01-f0589de7bd63"
      },
      "execution_count": null,
      "outputs": [
        {
          "output_type": "execute_result",
          "data": {
            "text/plain": [
              "<matplotlib.axes._subplots.AxesSubplot at 0x7f590b541350>"
            ]
          },
          "metadata": {},
          "execution_count": 62
        },
        {
          "output_type": "display_data",
          "data": {
            "text/plain": [
              "<Figure size 432x288 with 1 Axes>"
            ],
            "image/png": "[encoded data removed]"
          },
          "metadata": {
            "needs_background": "light"
          }
        }
      ]
    },
    {
      "cell_type": "markdown",
      "source": [
        "The x-axis is too wide. (You cannot have negative fares.) We can set the limits of the x-axis manually using the `xlim` argument."
      ],
      "metadata": {
        "id": "KT4gDCaFca3k"
      }
    },
    {
      "cell_type": "code",
      "source": [
        "df.fare.plot.density(xlim=(0, 600))"
      ],
      "metadata": {
        "colab": {
          "base_uri": "https://localhost:8080/",
          "height": 282
        },
        "id": "1YbOWM2tceId",
        "outputId": "1d4e79ef-df83-4d1f-9f28-47081d630571"
      },
      "execution_count": null,
      "outputs": [
        {
          "output_type": "execute_result",
          "data": {
            "text/plain": [
              "<matplotlib.axes._subplots.AxesSubplot at 0x7f590b763690>"
            ]
          },
          "metadata": {},
          "execution_count": 63
        },
        {
          "output_type": "display_data",
          "data": {
            "text/plain": [
              "<Figure size 432x288 with 1 Axes>"
            ],
            "image/png": "[encoded data removed]"
          },
          "metadata": {
            "needs_background": "light"
          }
        }
      ]
    },
    {
      "cell_type": "markdown",
      "source": [
        "Let's superimpose this density curve on top of the histogram, by making two calls to plotting functions:"
      ],
      "metadata": {
        "id": "1s1C2T-qcgdj"
      }
    },
    {
      "cell_type": "code",
      "source": [
        "df.fare.plot.hist(bins=50)\n",
        "df.fare.plot.density(xlim=(0, 600))"
      ],
      "metadata": {
        "colab": {
          "base_uri": "https://localhost:8080/",
          "height": 282
        },
        "id": "KbpSa3aCch8u",
        "outputId": "a8c624dc-5f09-467e-de6d-9d447e0bb533"
      },
      "execution_count": null,
      "outputs": [
        {
          "output_type": "execute_result",
          "data": {
            "text/plain": [
              "<matplotlib.axes._subplots.AxesSubplot at 0x7f590b40fa10>"
            ]
          },
          "metadata": {},
          "execution_count": 64
        },
        {
          "output_type": "display_data",
          "data": {
            "text/plain": [
              "<Figure size 432x288 with 1 Axes>"
            ],
            "image/png": "[encoded data removed]"
          },
          "metadata": {
            "needs_background": "light"
          }
        }
      ]
    },
    {
      "cell_type": "markdown",
      "source": [
        "If you squint at this plot, you will see an orange line at the bottom of the plot. This is supposed to be the density. But why does it appear as a flat line? The y-axis offers a hint. When we made the density plot earlier, the y-axis extended from 0 to about 0.02. Now the y-axis extends all the way to 500. On such a scale, a curve that fluctuates between 0 and 0.02 will appear to be a flat line!\n",
        "\n",
        "The problem is that the histogram and the density are currently on different scales. By default, histograms display counts, while densities are defined so that the total area under the curve is 1. To be able to display a histogram and density on the same graph, we have to normalize the histogram so that the total area of the bars is 1. We can do this by setting the option `density=True`."
      ],
      "metadata": {
        "id": "xK6NmBGwckDB"
      }
    },
    {
      "cell_type": "code",
      "source": [
        "df.fare.plot.hist(bins=50, density=True)\n",
        "df.fare.plot.density(xlim=(0, 600))"
      ],
      "metadata": {
        "colab": {
          "base_uri": "https://localhost:8080/",
          "height": 282
        },
        "id": "r-XeKMc3clzw",
        "outputId": "624f5122-1820-4f36-9010-a49bfa1c8bb5"
      },
      "execution_count": null,
      "outputs": [
        {
          "output_type": "execute_result",
          "data": {
            "text/plain": [
              "<matplotlib.axes._subplots.AxesSubplot at 0x7f590b23b350>"
            ]
          },
          "metadata": {},
          "execution_count": 65
        },
        {
          "output_type": "display_data",
          "data": {
            "text/plain": [
              "<Figure size 432x288 with 1 Axes>"
            ],
            "image/png": "[encoded data removed]"
          },
          "metadata": {
            "needs_background": "light"
          }
        }
      ]
    },
    {
      "cell_type": "markdown",
      "source": [
        "Now we can clearly see how the density smooths the histogram. It does a pretty good job for the most part, but it \"oversmooths\" near 0, missing the spike.\n",
        "\n",
        "You might wonder what options are available besides `legend`, `alpha`, `bins`, `density`, and `xlim`. Let's look at the documentation for `.plot.hist()`."
      ],
      "metadata": {
        "id": "Hu7DN709cosv"
      }
    },
    {
      "cell_type": "code",
      "source": [
        "df.fare.plot.hist?"
      ],
      "metadata": {
        "id": "LhwVbcqfcr6T"
      },
      "execution_count": null,
      "outputs": []
    },
    {
      "cell_type": "markdown",
      "source": [
        "The documentation for `.plot.hist()` tells us about one option, `bins`, but then refers us to `.plot()` for additional options. If you peek inside `.plot()`, you will find the `legend`, `density`, and `xlim` options, as well as many others."
      ],
      "metadata": {
        "id": "99DT00cWcu8w"
      }
    },
    {
      "cell_type": "code",
      "source": [
        "df.fare.plot?"
      ],
      "metadata": {
        "id": "RPDnU46LcycF"
      },
      "execution_count": null,
      "outputs": []
    },
    {
      "cell_type": "code",
      "source": [
        "df.fare.plot.hist(bins=50, density=True, title=\"A Graph\", grid=True, figsize=(15,5), colormap='autumn')\n",
        "#df.fare.plot.density(xlim=(0, 600))"
      ],
      "metadata": {
        "colab": {
          "base_uri": "https://localhost:8080/",
          "height": 353
        },
        "id": "twZmMUd206f4",
        "outputId": "55799583-978a-43ea-d34a-027be5ff7617"
      },
      "execution_count": null,
      "outputs": [
        {
          "output_type": "execute_result",
          "data": {
            "text/plain": [
              "<matplotlib.axes._subplots.AxesSubplot at 0x7f590adf07d0>"
            ]
          },
          "metadata": {},
          "execution_count": 71
        },
        {
          "output_type": "display_data",
          "data": {
            "text/plain": [
              "<Figure size 1080x360 with 1 Axes>"
            ],
            "image/png": "[encoded data removed]"
          },
          "metadata": {
            "needs_background": "light"
          }
        }
      ]
    },
    {
      "cell_type": "markdown",
      "source": [
        "Try these out to get a feel for what they do. For example, can you figure out how to make the density curve red in the above graph? Or how to change the size of the figure?\n",
        "\n",
        "You might be surprised that `alpha` is not listed among the options above. This is because `alpha` is an option of the `matplotlib` plotting method that `pandas` calls. (Notice that the last argument of `.plot()` is `**kwds`, for \"options to pass to matplotlib plotting method\".)"
      ],
      "metadata": {
        "id": "MkeVFmM1c11B"
      }
    },
    {
      "cell_type": "markdown",
      "source": [
        "### Bar Graphs\n",
        "\n",
        "To visualize a **categorical variable**, we simply need to represent the frequency of each category. Bar graphs are a simple way to do this.\n",
        "\n",
        "In a **bar graph**, each bar represents a category, and the height of the bar represents the frequency of that category.\n",
        "\n",
        "`pandas` does not produce a bar graph directly from a categorical variable. In order to make a bar graph, the variable must be in the form of a `Series` whose index is the categories and whose values are the frequencies. This is exactly what we get when we call `.value_counts()` on a categorical variable. \n",
        "\n",
        "So making a bar graph requires two steps:\n",
        "1. Get the frequency of each category using `.value_counts()`.\n",
        "2. Call `.plot.bar()` on these frequencies.\n",
        "\n",
        "For example, here is a bar graph showing how many passengers are in each class."
      ],
      "metadata": {
        "id": "gRHKeNf9gID_"
      }
    },
    {
      "cell_type": "code",
      "source": [
        "pclass_counts = df.pclass.value_counts()\n",
        "#pclass_counts\n",
        "pclass_counts.plot.bar()"
      ],
      "metadata": {
        "colab": {
          "base_uri": "https://localhost:8080/",
          "height": 279
        },
        "id": "_gi3-hCIgXwR",
        "outputId": "69a6ed90-8fb3-41ab-a72b-2675f64d63b1"
      },
      "execution_count": null,
      "outputs": [
        {
          "output_type": "execute_result",
          "data": {
            "text/plain": [
              "<matplotlib.axes._subplots.AxesSubplot at 0x7f590ad11490>"
            ]
          },
          "metadata": {},
          "execution_count": 72
        },
        {
          "output_type": "display_data",
          "data": {
            "text/plain": [
              "<Figure size 432x288 with 1 Axes>"
            ],
            "image/png": "[encoded data removed]"
          },
          "metadata": {
            "needs_background": "light"
          }
        }
      ]
    },
    {
      "cell_type": "markdown",
      "source": [
        "The bar graph makes it clear how many more 3rd class passengers there were than 1st and 2nd class passengers. Bar graphs make it easy to compare categories to each other.\n",
        "\n",
        "Although bar graphs superficially look similar to histograms (they both have bars), they are not the same. The x-axis on a histogram is a numeric scale, but the x-axis on a bar graph is not, since a bar graph is used to represent categorical variables and the categories are often unordered. For this reason, the bars in a bar graph are typically separated by gaps, to emphasize that the bars do not fall on any particular scale. By contrast, a histogram will not have gaps between the bars, unless there is actually a gap in the data.\n",
        "\n",
        "The bars in a bar graph are also not guaranteed to be ordered in any particular way. `pandas` will plot the bars in the same order as they appeared in the `Series`. Since `.value_counts()` sorts the categories by frequency, the bar graph was sorted in the same order.\n",
        "\n",
        "In the case of the passenger class, we probably want the bars in the order 1st, 2nd, 3rd. To do this, we can sort the index of the value counts before passing them to `.plot.bar()`."
      ],
      "metadata": {
        "id": "oCKc1eofgZ_9"
      }
    },
    {
      "cell_type": "code",
      "source": [
        "pclass_counts.sort_index(inplace=True)\n",
        "pclass_counts.plot.bar(ylabel='count', xlabel='class')\n",
        "pclass_counts"
      ],
      "metadata": {
        "colab": {
          "base_uri": "https://localhost:8080/",
          "height": 344
        },
        "id": "V7Mj_OS9ggDj",
        "outputId": "5a0243a0-20ca-40cd-8981-1d1b19df4457"
      },
      "execution_count": null,
      "outputs": [
        {
          "output_type": "execute_result",
          "data": {
            "text/plain": [
              "1    323\n",
              "2    277\n",
              "3    709\n",
              "Name: pclass, dtype: int64"
            ]
          },
          "metadata": {},
          "execution_count": 73
        },
        {
          "output_type": "display_data",
          "data": {
            "text/plain": [
              "<Figure size 432x288 with 1 Axes>"
            ],
            "image/png": "[encoded data removed]"
          },
          "metadata": {
            "needs_background": "light"
          }
        }
      ]
    },
    {
      "cell_type": "markdown",
      "metadata": {
        "id": "cfamAQnYAJ3M"
      },
      "source": [
        "## Summary\n",
        "\n",
        "- Quantitative and categorical variables are summarized differently.\n",
        "- For quantitative variables, we typically report a measure of center (e.g., mean, median, quantiles) and a measure of spread (e.g., variance, standard deviation, MAD).\n",
        "- For categorical variables, we typically report the frequencies of the various categories, either as counts or as proportions.\n",
        "- Other variables require additional processing before they can be analyzed."
      ]
    },
    {
      "cell_type": "markdown",
      "metadata": {
        "id": "utR4JciYAJ3M"
      },
      "source": [
        "# Exercises\n",
        "\n",
        "All of the following exercises use the Tips data set (`../data/tips.csv`)."
      ]
    },
    {
      "cell_type": "markdown",
      "metadata": {
        "id": "tKQRvtkmAJ3M"
      },
      "source": [
        "**Exercise 1.** How many people were in the largest party served by the waiter? The smallest?"
      ]
    },
    {
      "cell_type": "code",
      "execution_count": null,
      "metadata": {
        "id": "BQIIvAzMAJ3M",
        "colab": {
          "base_uri": "https://localhost:8080/"
        },
        "outputId": "06227d40-582e-4fd3-dac3-2bcc4857f042"
      },
      "outputs": [
        {
          "output_type": "execute_result",
          "data": {
            "text/plain": [
              "count    244.000000\n",
              "mean       2.569672\n",
              "std        0.951100\n",
              "min        1.000000\n",
              "25%        2.000000\n",
              "50%        2.000000\n",
              "75%        3.000000\n",
              "max        6.000000\n",
              "Name: size, dtype: float64"
            ]
          },
          "metadata": {},
          "execution_count": 74
        }
      ],
      "source": [
        "# YOUR CODE HERE AND ANSWERS HERE (AS COMMENTS)\n",
        "#%cd ../data\n",
        "#!pwd\n",
        "\n",
        "tips = pd.read_csv('tips.csv')\n",
        "tips.head()\n",
        "tips['size'].describe()\n",
        "\n",
        "#By using .describe(), we can see that the max value for size in the tips data is 6, and the min is 1. So, there was 1 person at the smallest\n",
        "#table the waiter served and 6 people at the largest table they served.\n"
      ]
    },
    {
      "cell_type": "markdown",
      "metadata": {
        "id": "6qcloNiUAJ3M"
      },
      "source": [
        "**Exercise 2.** How could you use the `.quantile()` function to calculate the median? Check that your method works on an appropriate variable from the Tips data set."
      ]
    },
    {
      "cell_type": "code",
      "execution_count": null,
      "metadata": {
        "id": "oCIb16Z4AJ3M",
        "colab": {
          "base_uri": "https://localhost:8080/"
        },
        "outputId": "36929289-2229-4633-9daa-2f8767a69a22"
      },
      "outputs": [
        {
          "output_type": "execute_result",
          "data": {
            "text/plain": [
              "17.795"
            ]
          },
          "metadata": {},
          "execution_count": 75
        }
      ],
      "source": [
        "# YOUR CODE HERE AND ANSWERS HERE (AS COMMENTS)\n",
        "\n",
        "#Yes, the 50% quantile is the same value as the median, because the 50% quantile has 50% of values above it and 50% below it. The same 50/50 reasoning applies to the median\n",
        "tips['total_bill'].median() #17.795\n",
        "tips['total_bill'].quantile(.5) #17.795\n",
        "\n",
        "#After running both measures, we get 17.795 for both values\n",
        "\n"
      ]
    },
    {
      "cell_type": "markdown",
      "metadata": {
        "id": "841PtkGmAJ3M"
      },
      "source": [
        "**Exercise 3.** Another measure of spread is the **interquartile range**, or IQR, defined as:\n",
        "\n",
        "$$ \\textrm{IQR} = \\textrm{75th percentile} - \\textrm{25th percentile}. $$\n",
        "\n",
        "Measure the spread in the total bills by reporting the IQR."
      ]
    },
    {
      "cell_type": "code",
      "execution_count": null,
      "metadata": {
        "id": "BlRr7WdHAJ3N",
        "colab": {
          "base_uri": "https://localhost:8080/"
        },
        "outputId": "15760878-ed25-4db5-ebcf-b7957237e0a0"
      },
      "outputs": [
        {
          "output_type": "execute_result",
          "data": {
            "text/plain": [
              "10.779999999999998"
            ]
          },
          "metadata": {},
          "execution_count": 76
        }
      ],
      "source": [
        "# YOUR CODE HERE AND ANSWERS HERE (AS COMMENTS)\n",
        "iqr = tips['total_bill'].quantile(.75) - tips['total_bill'].quantile(.25)\n",
        "iqr"
      ]
    },
    {
      "cell_type": "markdown",
      "metadata": {
        "id": "CFD3FCQjAJ3N"
      },
      "source": [
        "**Exercise 4.** Some people use MAD to refer to the **median absolute deviation**. The median absolute deviation is the same as the mean absolute deviation, but it uses the median instead of the mean:\n",
        "\n",
        "$$\\textrm{M(edian)AD} = \\textrm{median of } |x_i - \\textrm{median}|. $$\n",
        "\n",
        "Calculate the median absolute deviation of the total bills. (The median absolute deviation is not built into Pandas, so you will have to implement it from scratch.)"
      ]
    },
    {
      "cell_type": "code",
      "execution_count": null,
      "metadata": {
        "id": "2T5LALIWAJ3N",
        "colab": {
          "base_uri": "https://localhost:8080/"
        },
        "outputId": "deb90932-a41c-4a06-a142-1f65af209ae3"
      },
      "outputs": [
        {
          "output_type": "execute_result",
          "data": {
            "text/plain": [
              "5.03"
            ]
          },
          "metadata": {},
          "execution_count": 77
        }
      ],
      "source": [
        "# YOUR CODE HERE AND ANSWERS HERE (AS COMMENTS)\n",
        "((tips['total_bill'] - tips['total_bill'].median()).abs()).median()"
      ]
    },
    {
      "cell_type": "code",
      "source": [
        "#double checking answer to excersize 4\n",
        "diff = tips['total_bill'] - tips['total_bill'].median()\n",
        "abso = diff.abs()\n",
        "final_MAD = abso.median()\n",
        "final_MAD"
      ],
      "metadata": {
        "colab": {
          "base_uri": "https://localhost:8080/"
        },
        "id": "Lqdxo1eh7eVS",
        "outputId": "592ae869-8f76-427d-e2e6-dce356bdb176"
      },
      "execution_count": null,
      "outputs": [
        {
          "output_type": "execute_result",
          "data": {
            "text/plain": [
              "5.03"
            ]
          },
          "metadata": {},
          "execution_count": 78
        }
      ]
    },
    {
      "cell_type": "markdown",
      "metadata": {
        "id": "YywGMoJ_AJ3N"
      },
      "source": [
        "**Exercise 5.** Who pays the bill more often: men or women?"
      ]
    },
    {
      "cell_type": "code",
      "execution_count": null,
      "metadata": {
        "id": "xAK-F3i5AJ3N",
        "colab": {
          "base_uri": "https://localhost:8080/"
        },
        "outputId": "a8e5d4bc-ba4d-41d5-fa53-6906b73ff88c"
      },
      "outputs": [
        {
          "output_type": "execute_result",
          "data": {
            "text/plain": [
              "Male      157\n",
              "Female     87\n",
              "Name: sex, dtype: int64"
            ]
          },
          "metadata": {},
          "execution_count": 79
        }
      ],
      "source": [
        "# YOUR CODE HERE AND ANSWERS HERE (AS COMMENTS)\n",
        "tips['sex'].value_counts()\n",
        "\n",
        "#Using value_counts(), we can see that MEN pay the bill more often in this data set. Men paid 157 times and women paid 87 times. "
      ]
    },
    {
      "cell_type": "markdown",
      "source": [
        "**Exercise 6.** Make a graphic that shows the distribution of total bills. Explain what you see."
      ],
      "metadata": {
        "id": "EIQQPRafguFh"
      }
    },
    {
      "cell_type": "code",
      "source": [
        "# YOUR CODE HERE and TEXT HERE AS COMMENTS\n",
        "\n",
        "\n",
        "#if we do not include any specification for amount of bins, we see a seemingly smooth distribution of bills slightly skewed right\n",
        "\n",
        "tips_hist = tips['total_bill'].plot.hist(bins=100, figsize=(18,6), title='Distribution of Total Bill Prices', density=True)\n",
        "tips_hist.set_xlabel('Dollar Price')\n",
        "\n",
        "#if we increase the number of bins and graph size to see a more specific distribution we can see that the distribution is not as smooth as we might think\n",
        "#There still appears to be a right skew, and most people pay bills in the $10 to $20 range, but there are definite spikes, like around $21.\n",
        "#We can also see that very few bills worth certain amount were paid, for example, there was a very small amount of ~$18 bills paid\n",
        "\n",
        "\n",
        "tips['total_bill'].plot.density(xlim=(0,55))\n",
        "#Once we add a density plot as well, we can see the our initial observations are supported by the shape of the density plot\n",
        "\n"
      ],
      "metadata": {
        "id": "7OyoCj09gwnP",
        "colab": {
          "base_uri": "https://localhost:8080/",
          "height": 421
        },
        "outputId": "4e12bde8-e0dc-4253-f6f9-610bb8e289f7"
      },
      "execution_count": null,
      "outputs": [
        {
          "output_type": "execute_result",
          "data": {
            "text/plain": [
              "<matplotlib.axes._subplots.AxesSubplot at 0x7f590abe8e50>"
            ]
          },
          "metadata": {},
          "execution_count": 80
        },
        {
          "output_type": "display_data",
          "data": {
            "text/plain": [
              "<Figure size 1296x432 with 1 Axes>"
            ],
            "image/png": "[encoded data removed]"
          },
          "metadata": {
            "needs_background": "light"
          }
        }
      ]
    },
    {
      "cell_type": "markdown",
      "source": [
        "**Exercise 7.** Make a graphic that shows the number of parties this waiter served on each day of the week. Try to make sure your graphic has the days of the week in the right order, starting from Sunday (this is a bit tricky and there are several ways to do this....)"
      ],
      "metadata": {
        "id": "hDrHmGKXgz31"
      }
    },
    {
      "cell_type": "code",
      "source": [
        "# YOUR CODE HERE and TEXT HERE AS COMMENTS \n",
        "\n",
        "tips.day.value_counts().loc[['Sun', 'Thur', 'Fri', 'Sat']].plot.bar(title='Number of Parties Served per Day', ylabel='Number of Parties', xlabel='Day of Week') #a new series in the order we want, then .plot.bar() graphs the new series\n",
        "\n"
      ],
      "metadata": {
        "id": "yv4a3gBBg223",
        "colab": {
          "base_uri": "https://localhost:8080/",
          "height": 325
        },
        "outputId": "5fb7c32d-5327-4ddd-8642-b2afb93c6808"
      },
      "execution_count": null,
      "outputs": [
        {
          "output_type": "execute_result",
          "data": {
            "text/plain": [
              "<matplotlib.axes._subplots.AxesSubplot at 0x7f590aa72450>"
            ]
          },
          "metadata": {},
          "execution_count": 81
        },
        {
          "output_type": "display_data",
          "data": {
            "text/plain": [
              "<Figure size 432x288 with 1 Axes>"
            ],
            "image/png": "[encoded data removed]"
          },
          "metadata": {
            "needs_background": "light"
          }
        }
      ]
    },
    {
      "cell_type": "markdown",
      "metadata": {
        "id": "4QgTnw7LAJ3N"
      },
      "source": [
        "### When you have filled out all the questions, submit via [Tulane Canvas](https://tulane.instructure.com/)"
      ]
    }
  ],
  "metadata": {
    "kernelspec": {
      "display_name": "Python 3",
      "language": "python",
      "name": "python3"
    },
    "language_info": {
      "codemirror_mode": {
        "name": "ipython",
        "version": 3
      },
      "file_extension": ".py",
      "mimetype": "text/x-python",
      "name": "python",
      "nbconvert_exporter": "python",
      "pygments_lexer": "ipython3",
      "version": "3.8.3"
    },
    "colab": {
      "provenance": [],
      "collapsed_sections": [
        "Xc8cWLTXAJ3J",
        "4QgTnw7LAJ3N"
      ],
      "include_colab_link": true
    }
  },
  "nbformat": 4,
  "nbformat_minor": 0
}